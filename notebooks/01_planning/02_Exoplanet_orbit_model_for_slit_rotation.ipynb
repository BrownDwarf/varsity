{
 "cells": [
  {
   "cell_type": "markdown",
   "id": "taken-token",
   "metadata": {},
   "source": [
    "# Orbit model of P.A. for slit rotation\n",
    "\n",
    "We want to place the IGRINS slit along the line connecting the two components.  Here we follow the [astrometric orbit fitting tutorial](https://docs.exoplanet.codes/en/stable/tutorials/astrometric/) in the [exoplanet](https://docs.exoplanet.codes/en/stable/) framework to determine the P.A.\n"
   ]
  },
  {
   "cell_type": "code",
   "execution_count": null,
   "id": "adapted-chorus",
   "metadata": {},
   "outputs": [],
   "source": [
    "from astropy.time import Time\n",
    "import numpy as np\n",
    "import matplotlib.pyplot as plt\n",
    "import astropy.units as u\n",
    "\n",
    "%matplotlib inline\n",
    "%config InlineBackend.figure_format = 'retina'"
   ]
  },
  {
   "cell_type": "code",
   "execution_count": null,
   "id": "civil-press",
   "metadata": {},
   "outputs": [],
   "source": [
    "import exoplanet as xo\n",
    "\n",
    "from astropy import constants\n",
    "\n",
    "# conversion constant from au to R_sun\n",
    "au_to_R_sun = (constants.au / constants.R_sun).value"
   ]
  },
  {
   "cell_type": "markdown",
   "id": "posted-japan",
   "metadata": {},
   "source": [
    "We take orbital parameters for Luhman 16 from Table 5 of [Lazorenko & Sahlmann 2018](https://ui.adsabs.harvard.edu/abs/2018A%26A...618A.111L/abstract):"
   ]
  },
  {
   "cell_type": "markdown",
   "id": "exclusive-hobby",
   "metadata": {},
   "source": [
    "| Param | Value|\n",
    "|-- | -- |\n",
    "|$a$ (mas)\t\t\t| 1784.0|\n",
    "|$a$ (AU)\t\t\t| 3.557|\n",
    "|$e$\t\t\t      | 0.343 |\n",
    "|$P$ (yr)\t\t\t| 27.54|\n",
    "|$T_0$ (yr)\t\t\t| 2017.78|\n",
    "|$i$ (deg)\t\t\t| 100.26|\n",
    "|$\\omega$ (deg)\t\t\t| 128.1|\n",
    "|$\\Omega$ (deg)\t\t\t| 139.67|\n",
    "|$M_{tot}$ ($M_{\\mathrm{Jup} }$)\t| \t\t62.06|\n",
    "|$M_A$ ($M_{\\mathrm{Jup} }$)\t\t| \t33.51|\n",
    "|$M_B$ ($M_{\\mathrm{Jup} }$)\t\t| \t28.55|"
   ]
  },
  {
   "cell_type": "code",
   "execution_count": null,
   "id": "exempt-buying",
   "metadata": {},
   "outputs": [],
   "source": [
    "parallax = 501.557 # mas"
   ]
  },
  {
   "cell_type": "code",
   "execution_count": null,
   "id": "wrong-daily",
   "metadata": {},
   "outputs": [],
   "source": [
    "a = (3.557 * u.AU).to(u.Rsun).value\n",
    "e = 0.343\n",
    "i = 100.26 * np.pi / 180  # [rad]\n",
    "omega = 128.1 * np.pi / 180  # Pourbaix reports omega_2, but we want omega_1\n",
    "Omega = 139.67 * np.pi / 180\n",
    "P = 27.54 * 365.25  # days\n",
    "\n",
    "T0_orig = Time(2017.78, format=\"decimalyear\")\n",
    "T0_orig.format = \"jd\"\n",
    "T0 = T0_orig.value  # [Julian Date]"
   ]
  },
  {
   "cell_type": "code",
   "execution_count": null,
   "id": "acoustic-introduction",
   "metadata": {},
   "outputs": [],
   "source": [
    "# instantiate the orbit\n",
    "orbit = xo.orbits.KeplerianOrbit(\n",
    "    a=a, t_periastron=T0, incl=i, ecc=e, omega=omega, Omega=Omega, \n",
    "    m_planet=0.027, m_star=0.032, m_planet_units=u.Msun, r_star = 0.10045\n",
    ")"
   ]
  },
  {
   "cell_type": "code",
   "execution_count": null,
   "id": "front-torture",
   "metadata": {},
   "outputs": [],
   "source": [
    "import theano\n",
    "import theano.tensor as tt"
   ]
  },
  {
   "cell_type": "code",
   "execution_count": null,
   "id": "advisory-taiwan",
   "metadata": {},
   "outputs": [],
   "source": [
    "t_arr = ( T0_orig - P/2*u.day) + np.linspace(0*u.day, P*u.day, num=200)  # days"
   ]
  },
  {
   "cell_type": "code",
   "execution_count": null,
   "id": "general-movie",
   "metadata": {},
   "outputs": [],
   "source": [
    "t = np.linspace(T0 - P/2, T0 + P/2, num=200)  # days\n",
    "rho, theta = theano.function([], orbit.get_relative_angles(t, parallax))()"
   ]
  },
  {
   "cell_type": "code",
   "execution_count": null,
   "id": "painful-habitat",
   "metadata": {},
   "outputs": [],
   "source": [
    "current_jd = Time.now().jd\n",
    "current_decyear = Time.now().decimalyear"
   ]
  },
  {
   "cell_type": "code",
   "execution_count": null,
   "id": "uniform-universe",
   "metadata": {},
   "outputs": [],
   "source": [
    "rho_now, theta_now = theano.function([], orbit.get_relative_angles(current_jd, parallax))()"
   ]
  },
  {
   "cell_type": "code",
   "execution_count": null,
   "id": "anticipated-concentration",
   "metadata": {},
   "outputs": [],
   "source": [
    "Thst_i = Time(2014.64, format=\"decimalyear\").jd\n",
    "Thst_f = Time(2016.76, format=\"decimalyear\").jd"
   ]
  },
  {
   "cell_type": "code",
   "execution_count": null,
   "id": "under-positive",
   "metadata": {},
   "outputs": [],
   "source": [
    "t_hst = np.linspace(Thst_i,Thst_f, num=200)  # days\n",
    "rho_hst, theta_hst = theano.function([], orbit.get_relative_angles(t_hst, parallax))()"
   ]
  },
  {
   "cell_type": "code",
   "execution_count": null,
   "id": "hawaiian-water",
   "metadata": {},
   "outputs": [],
   "source": [
    "import seaborn as sns"
   ]
  },
  {
   "cell_type": "code",
   "execution_count": null,
   "id": "sunset-sampling",
   "metadata": {},
   "outputs": [],
   "source": [
    "sns.set_style('darkgrid')\n",
    "sns.set_context('talk')"
   ]
  },
  {
   "cell_type": "code",
   "execution_count": null,
   "id": "blind-norway",
   "metadata": {},
   "outputs": [],
   "source": [
    "# Plot the orbit\n",
    "fig, ax = plt.subplots(nrows=1, figsize=(6, 8))\n",
    "\n",
    "xs = rho * np.cos(theta)  # X is north\n",
    "ys = rho * np.sin(theta)  # Y is east\n",
    "plt.scatter([0], [0], marker='*', s=400, c='#2980b9', ec='k')\n",
    "ax.plot(ys, xs, lw=2, color='#e67e22')\n",
    "\n",
    "\n",
    "\n",
    "xnow = rho_now * np.cos(theta_now)  # X is north\n",
    "ynow = rho_now * np.sin(theta_now)  # Y is east\n",
    "\n",
    "xhst = rho_hst * np.cos(theta_hst)  # X is north\n",
    "yhst = rho_hst * np.sin(theta_hst)  # Y is east\n",
    "\n",
    "ax.plot(yhst, xhst, lw=8, color='#34495e', zorder=1)\n",
    "\n",
    "\n",
    "label = '{:0.2f}'.format(current_decyear)\n",
    "plt.scatter([ynow], [xnow], marker='s', s=100, c='#2ecc71', ec='k', \n",
    "            label = label, zorder=10)\n",
    "\n",
    "plt.text(ynow-50, xnow-200, label)\n",
    "\n",
    "plt.ylim(-1500, 2000)\n",
    "plt.xlim(1000, -1500)\n",
    "plt.xlabel(r'$\\Delta \\alpha \\cos \\delta$ (mas)')\n",
    "plt.ylabel(r'$\\Delta \\delta $ (mas)')\n",
    "plt.title('Luhman 16 for IGRINS DDT')\n",
    "plt.savefig('../figures/Luhman16_orbit_demo.png', bbox_inches='tight', dpi=300)"
   ]
  },
  {
   "cell_type": "markdown",
   "id": "cultural-allergy",
   "metadata": {},
   "source": [
    "What are the separation and PA right now?"
   ]
  },
  {
   "cell_type": "code",
   "execution_count": null,
   "id": "competent-strategy",
   "metadata": {},
   "outputs": [],
   "source": [
    "rho_now"
   ]
  },
  {
   "cell_type": "code",
   "execution_count": null,
   "id": "nominated-resident",
   "metadata": {},
   "outputs": [],
   "source": [
    "theta_now * 180/np.pi"
   ]
  },
  {
   "cell_type": "markdown",
   "id": "forced-championship",
   "metadata": {},
   "source": [
    "## Position on the sky"
   ]
  },
  {
   "cell_type": "code",
   "execution_count": null,
   "id": "amended-latino",
   "metadata": {},
   "outputs": [],
   "source": [
    "Dt_arr = t_arr - t_arr[0]  # days"
   ]
  },
  {
   "cell_type": "code",
   "execution_count": null,
   "id": "continent-protein",
   "metadata": {},
   "outputs": [],
   "source": [
    "Dt_arr.to(u.year)"
   ]
  },
  {
   "cell_type": "code",
   "execution_count": null,
   "id": "careful-samoa",
   "metadata": {},
   "outputs": [],
   "source": [
    "compA_coords = theano.function([], orbit.get_star_position(t, parallax))()\n",
    "compB_coords = theano.function([], orbit.get_planet_position(t, parallax))()"
   ]
  },
  {
   "cell_type": "code",
   "execution_count": null,
   "id": "reduced-brain",
   "metadata": {},
   "outputs": [],
   "source": [
    "xA, yA, zA = compA_coords\n",
    "xB, yB, zB = compB_coords"
   ]
  },
  {
   "cell_type": "code",
   "execution_count": null,
   "id": "variable-stuart",
   "metadata": {},
   "outputs": [],
   "source": [
    "plt.plot(xA, yA, label='A')\n",
    "plt.plot(xB, yB, label='B')\n",
    "plt.legend();"
   ]
  },
  {
   "cell_type": "markdown",
   "id": "exotic-demand",
   "metadata": {},
   "source": [
    "Let's verify the orientation and enter that info in the DDT observing note so the observers can label each component accurately."
   ]
  }
 ],
 "metadata": {
  "kernelspec": {
   "display_name": "Python 3",
   "language": "python",
   "name": "python3"
  },
  "language_info": {
   "codemirror_mode": {
    "name": "ipython",
    "version": 3
   },
   "file_extension": ".py",
   "mimetype": "text/x-python",
   "name": "python",
   "nbconvert_exporter": "python",
   "pygments_lexer": "ipython3",
   "version": "3.6.13"
  }
 },
 "nbformat": 4,
 "nbformat_minor": 5
}
