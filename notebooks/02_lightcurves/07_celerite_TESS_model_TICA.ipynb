{
 "cells": [
  {
   "cell_type": "markdown",
   "metadata": {},
   "source": [
    "# Fit GPs to TESS data\n",
    "\n",
    "Can a damped, driven simple harmonic oscillator model the TESS data effectively?  To what extent can multiple peaks be explained as phase drift?"
   ]
  },
  {
   "cell_type": "code",
   "execution_count": null,
   "metadata": {},
   "outputs": [],
   "source": [
    "import numpy as np\n",
    "import matplotlib.pyplot as plt\n",
    "%matplotlib inline\n",
    "%config InlineBackend.figure_format = 'retina' "
   ]
  },
  {
   "cell_type": "code",
   "execution_count": null,
   "metadata": {},
   "outputs": [],
   "source": [
    "from astropy.stats import LombScargle\n",
    "import astropy.units as u\n",
    "from astropy.time import Time"
   ]
  },
  {
   "cell_type": "code",
   "execution_count": null,
   "metadata": {},
   "outputs": [],
   "source": [
    "import celerite2\n",
    "from celerite2 import terms"
   ]
  },
  {
   "cell_type": "code",
   "execution_count": null,
   "metadata": {},
   "outputs": [],
   "source": [
    "import lightkurve as lk"
   ]
  },
  {
   "cell_type": "markdown",
   "metadata": {},
   "source": [
    "## Retrieve custom-made lightkurve data"
   ]
  },
  {
   "cell_type": "markdown",
   "metadata": {},
   "source": [
    "We'll retrieve the custom made lightcurve that we saved."
   ]
  },
  {
   "cell_type": "markdown",
   "metadata": {},
   "source": [
    "### Sector 10"
   ]
  },
  {
   "cell_type": "code",
   "execution_count": null,
   "metadata": {},
   "outputs": [],
   "source": [
    "lc_raw = lk.TessLightCurve.read('../../data/TESS/lightkurve_custom_4pixel.fits', format='tess').normalize()"
   ]
  },
  {
   "cell_type": "code",
   "execution_count": null,
   "metadata": {},
   "outputs": [],
   "source": [
    "threshold1L, threshold1R = 1572, 1581.7\n",
    "threshold2L, threshold2R = 1585, 1595.7\n",
    "\n",
    "mask1 = (lc_raw.time.value > threshold1L) & (lc_raw.time.value < threshold1R)\n",
    "mask2 = (lc_raw.time.value > threshold2L) & (lc_raw.time.value < threshold2R)"
   ]
  },
  {
   "cell_type": "code",
   "execution_count": null,
   "metadata": {},
   "outputs": [],
   "source": [
    "lc_s10 = lc_raw[mask1 | mask2]"
   ]
  },
  {
   "cell_type": "code",
   "execution_count": null,
   "metadata": {},
   "outputs": [],
   "source": [
    "lc_s10.time.max().value - lc_s10.time.min().value"
   ]
  },
  {
   "cell_type": "code",
   "execution_count": null,
   "metadata": {},
   "outputs": [],
   "source": [
    "lc_s10.plot()"
   ]
  },
  {
   "cell_type": "markdown",
   "metadata": {},
   "source": [
    "### Sector 36"
   ]
  },
  {
   "cell_type": "code",
   "execution_count": null,
   "metadata": {},
   "outputs": [],
   "source": [
    "lc_raw = lk.LightCurve.read('../../data/TESS/LUH16_TESS_S36_lk_custom_4pixel.csv', time_format='BTJD'\n",
    "                           ).remove_nans().normalize()"
   ]
  },
  {
   "cell_type": "code",
   "execution_count": null,
   "metadata": {},
   "outputs": [],
   "source": [
    "lc_raw.flux_err = np.abs(lc_raw.flux / 200.0) + np.median(lc_raw.flux / 200.0)"
   ]
  },
  {
   "cell_type": "code",
   "execution_count": null,
   "metadata": {},
   "outputs": [],
   "source": [
    "lc_s36 = lc_raw"
   ]
  },
  {
   "cell_type": "markdown",
   "metadata": {},
   "source": [
    "FYI The `time_format` kwarg does not appear to work!  doesn't matter for periodograms."
   ]
  },
  {
   "cell_type": "code",
   "execution_count": null,
   "metadata": {},
   "outputs": [],
   "source": [
    "lc_raw.time"
   ]
  },
  {
   "cell_type": "code",
   "execution_count": null,
   "metadata": {},
   "outputs": [],
   "source": [
    "lc_raw.time.max() - lc_raw.time.min()"
   ]
  },
  {
   "cell_type": "code",
   "execution_count": null,
   "metadata": {},
   "outputs": [],
   "source": [
    "lc_s36.plot()"
   ]
  },
  {
   "cell_type": "markdown",
   "metadata": {},
   "source": [
    "### Sector 37"
   ]
  },
  {
   "cell_type": "code",
   "execution_count": null,
   "metadata": {},
   "outputs": [],
   "source": [
    "lc_raw = lk.LightCurve.read('../../data/TESS/LUH16_TESS_S37o1_lk_custom_2pixel.csv'\n",
    "                               ).remove_nans().normalize()"
   ]
  },
  {
   "cell_type": "code",
   "execution_count": null,
   "metadata": {},
   "outputs": [],
   "source": [
    "lc_raw.flux_err = np.abs(lc_raw.flux / 200.0) + np.median(lc_raw.flux / 200.0)"
   ]
  },
  {
   "cell_type": "code",
   "execution_count": null,
   "metadata": {},
   "outputs": [],
   "source": [
    "lc_s37 = lc_raw[((lc_raw.time.value > 2308.8 ) & ((lc_raw.time.value < 2320.0)))| \n",
    "                ((lc_raw.time.value > 2321.2 ) & ((lc_raw.time.value < 23033))) ]"
   ]
  },
  {
   "cell_type": "code",
   "execution_count": null,
   "metadata": {},
   "outputs": [],
   "source": [
    "lc_s37.time.max() - lc_s37.time.min()"
   ]
  },
  {
   "cell_type": "code",
   "execution_count": null,
   "metadata": {},
   "outputs": [],
   "source": [
    "lc_s37.plot()"
   ]
  },
  {
   "cell_type": "code",
   "execution_count": null,
   "metadata": {},
   "outputs": [],
   "source": [
    "lc_s10_shifted = lc_s10"
   ]
  },
  {
   "cell_type": "code",
   "execution_count": null,
   "metadata": {},
   "outputs": [],
   "source": [
    "lc_s10_shifted.time += 680 *u.day"
   ]
  },
  {
   "cell_type": "markdown",
   "metadata": {},
   "source": [
    "### Attempt at binning..."
   ]
  },
  {
   "cell_type": "code",
   "execution_count": null,
   "metadata": {},
   "outputs": [],
   "source": [
    "time_bin = 4.7*u.hour\n",
    "ax = lc_s36.bin(time_bin_size=time_bin).plot()#scatter(label='Sector 36', marker='o', alpha=0.5, ec='k', fc='b', s=20,)\n",
    "lc_s37.bin(time_bin_size=time_bin).plot(ax=ax)#scatter(ax=ax, label='Sector 37', marker='o', alpha=0.5, ec='k', fc='r')\n",
    "lc_s10_shifted.bin(time_bin_size=time_bin).plot(ax=ax)#scatter(ax=ax, label='Sector 10 (Time shifted)', marker='o', alpha=0.5, ec='k', fc='g')\n",
    "ax.legend(loc='best', ncol=3)\n",
    "ax.set_xlabel('Time [BTJD]')\n",
    "#ax.set_ylim(0.85, 1.1)"
   ]
  },
  {
   "cell_type": "markdown",
   "metadata": {},
   "source": [
    "Meh! Might be useful, but let's make a better lightcurve figure first."
   ]
  },
  {
   "cell_type": "markdown",
   "metadata": {},
   "source": [
    "## Make the Power Spectrum"
   ]
  },
  {
   "cell_type": "markdown",
   "metadata": {},
   "source": [
    "Let's create the power spectrum separately for each campaign.  This approach allows us to not worry about the mean level that we assign to each campaign, and it helps see which PSD structures persist from campaign to campaign."
   ]
  },
  {
   "cell_type": "code",
   "execution_count": null,
   "metadata": {},
   "outputs": [],
   "source": [
    "pg_s10 = lc_s10.to_periodogram(normalization='psd', period=np.arange(1.0, 10.0, 0.005)*u.hour, oversample_factor=10)\n",
    "pg_s36 = lc_s36.to_periodogram(normalization='psd', period=np.arange(1.0, 10.0, 0.005)*u.hour, oversample_factor=10)\n",
    "pg_s37 = lc_s37.to_periodogram(normalization='psd', period=np.arange(1.0, 10.0, 0.005)*u.hour, oversample_factor=10)"
   ]
  },
  {
   "cell_type": "code",
   "execution_count": null,
   "metadata": {},
   "outputs": [],
   "source": [
    "CB_color_cycle = ['#377eb8', '#ff7f00', '#4daf4a',\n",
    "                  '#f781bf', '#a65628', '#984ea3',\n",
    "                  '#999999', '#e41a1c', '#dede00']"
   ]
  },
  {
   "cell_type": "code",
   "execution_count": null,
   "metadata": {},
   "outputs": [],
   "source": [
    "ax = pg_s10.plot(unit=u.hour, view='period', label='Sector 10', drawstyle='steps-mid')\n",
    "pg_s36.plot(unit=u.hour, view='period', label='Sector 36', ax=ax, drawstyle='steps-mid', color='#377eb8', lw=1)\n",
    "pg_s37.plot(unit=u.hour, view='period', label='Sector 37 (orbit 1)', ax=ax, drawstyle='steps-mid', color='#ff7f00')\n",
    "\n",
    "ax.axvline(5.28, color='#4daf4a', linestyle='dashed', \n",
    "           label='$P_B = $ {:0.3f} h'.format(5.28),linewidth=1.8)\n",
    "ax.axvline(6.940, color='#f781bf', linestyle='solid', \n",
    "           label='{:0.3f} h (maybe $P_A$)'.format(6.940),linewidth=1.8)\n",
    "\n",
    "ax.set_yscale('log')\n",
    "ax.set_ylim(3e-8, 1e-3)\n",
    "ax.set_xlim(2, 8)\n",
    "ax.legend(loc='best', ncol=3)\n",
    "\n",
    "plt.savefig('../../figures/TESS_Periodogram_S10-S37_wide.png', bbox_inches='tight', dpi=300)"
   ]
  },
  {
   "cell_type": "code",
   "execution_count": null,
   "metadata": {},
   "outputs": [],
   "source": [
    "ax = pg_s10.plot(unit=u.hour, view='period', label='Sector 10', drawstyle='steps-mid')\n",
    "pg_s36.plot(unit=u.hour, view='period', label='Sector 36', ax=ax, drawstyle='steps-mid', color='#377eb8', lw=1)\n",
    "pg_s37.plot(unit=u.hour, view='period', label='Sector 37', ax=ax, drawstyle='steps-mid', color='#ff7f00')\n",
    "\n",
    "ax.axvline(2.435, color='#e41a1c', linestyle='dashed', \n",
    "           label='2.435 h',linewidth=0.8)\n",
    "ax.axvline(2.565, color='#dede00', linestyle='solid', \n",
    "           label='2.565 h',linewidth=0.8)\n",
    "\n",
    "ax.set_yscale('log')\n",
    "ax.set_ylim(3e-8, 1e-4)\n",
    "ax.set_xlim(2, 3)\n",
    "ax.legend(loc='best', ncol=5, fontsize=9)\n",
    "\n",
    "plt.savefig('../../figures/TESS_Periodogram_S10-S37_short.png', bbox_inches='tight', dpi=300)"
   ]
  },
  {
   "cell_type": "code",
   "execution_count": null,
   "metadata": {},
   "outputs": [],
   "source": [
    "lc=lc_s36"
   ]
  },
  {
   "cell_type": "code",
   "execution_count": null,
   "metadata": {},
   "outputs": [],
   "source": [
    "pg = lc.to_periodogram(normalization='psd', freq_unit=1/u.day, oversample_factor=10)"
   ]
  },
  {
   "cell_type": "code",
   "execution_count": null,
   "metadata": {},
   "outputs": [],
   "source": [
    "lc_noise = lc.copy()\n",
    "lc_noise.flux = np.random.normal(1, scale=lc.flux_err)"
   ]
  },
  {
   "cell_type": "code",
   "execution_count": null,
   "metadata": {},
   "outputs": [],
   "source": [
    "ax = lc_noise.plot(label='Noise')\n",
    "lc.plot(ax=ax);"
   ]
  },
  {
   "cell_type": "code",
   "execution_count": null,
   "metadata": {},
   "outputs": [],
   "source": [
    "pg_noise = lc_noise.to_periodogram(normalization='psd', freq_unit=1/u.day, oversample_factor=10)"
   ]
  },
  {
   "cell_type": "code",
   "execution_count": null,
   "metadata": {},
   "outputs": [],
   "source": [
    "n_draws = 251"
   ]
  },
  {
   "cell_type": "code",
   "execution_count": null,
   "metadata": {},
   "outputs": [],
   "source": [
    "peak_period = 5.28 * u.hour\n",
    "peak_frequency = (1.0/(peak_period.to(u.day)))\n",
    "\n",
    "alt_period = 6.94 * u.hour\n",
    "alt_frequency = 1.0/(alt_period.to(u.day))"
   ]
  },
  {
   "cell_type": "markdown",
   "metadata": {},
   "source": [
    "Construct a noise region"
   ]
  },
  {
   "cell_type": "code",
   "execution_count": null,
   "metadata": {},
   "outputs": [],
   "source": [
    "noise_power_draws = []"
   ]
  },
  {
   "cell_type": "code",
   "execution_count": null,
   "metadata": {},
   "outputs": [],
   "source": [
    "for i in range(n_draws):\n",
    "    lc_noise = lc.copy()\n",
    "    lc_noise.flux = np.random.normal(1, scale=lc.flux_err)\n",
    "    pg_noise = lc_noise.to_periodogram(normalization='psd', freq_unit=1/u.day, oversample_factor=10)\n",
    "    pg_noise.plot(ax=ax, scale='log', label=None, alpha=0.1, color='#c0392b')\n",
    "    noise_power_draws.append(pg_noise.power.value)"
   ]
  },
  {
   "cell_type": "code",
   "execution_count": null,
   "metadata": {},
   "outputs": [],
   "source": [
    "lo, med, hi = np.percentile(noise_power_draws, (15.9, 50.0, 84.1), axis=0)"
   ]
  },
  {
   "cell_type": "code",
   "execution_count": null,
   "metadata": {},
   "outputs": [],
   "source": [
    "ax = pg.plot(scale='log', zorder=10)\n",
    "ax.set_ylim(med.mean()/3);\n",
    "ax.axvline(peak_frequency.value, color='#2980b9', linestyle='dashed', \n",
    "           label='$P_B = $ {:0.3f}'.format(peak_period),linewidth=0.8)\n",
    "ax.axvline(peak_frequency.value*2, color='#2980b9', linestyle='dotted', \n",
    "           label='$P_B \\; /\\; 2$'.format(peak_period/2),linewidth=0.8)\n",
    "ax.axvline(alt_frequency.value, color='#27ae60', linestyle='solid', \n",
    "           label='{:0.3f} (maybe $P_A$)'.format(alt_period),linewidth=0.8)\n",
    "ax.axhline(med.mean(), color='#f1c40f', linestyle='dashed', label='Guessed Noise Floor', zorder=-1)\n",
    "\n",
    "#plt.plot(pg.frequency, med, color='#95a5a6')\n",
    "\n",
    "pg_noise.plot(ax=ax, scale='log', label='Noise draw', color='#e67e22')\n",
    "\n",
    "plt.fill_between(pg.frequency, lo, hi, color='#f39c12', alpha=0.2, zorder=0)\n",
    "#pg_noise.plot(ax=ax, scale='log', label='Noise Draw', alpha=0.5)\n",
    "plt.legend(loc='best')\n",
    "ax.set_xlim(pg.frequency[0].value, pg.frequency[-1].value);"
   ]
  },
  {
   "cell_type": "markdown",
   "metadata": {},
   "source": [
    "The lightkurve power scale factor is:  \n",
    "$$ \\tilde P_{lk} = P_{lk} \\cdot \\frac{2 T}{N}$$\n",
    "\n",
    "Where the tilde represents the rescaled, and  \n",
    "$N$ is the number of samples  \n",
    "$T$ is the total observation window duration, in say, days or $\\frac{1}{\\mathrm{Hz}}$\n",
    "\n",
    "The *celerité* power scale **expects** a rescaling of Lomb Scargle power:\n",
    "$$ \\tilde P_{LS} = P_{LS} \\cdot \\frac{1}{N}$$  \n",
    "*assuming* the `.get_psd()` power is scaled by $ \\tilde P_c = P_c \\cdot \\frac{2}{T}$.\n",
    "\n",
    "So to get them to match up, we can simply divide the lightkurve power by $2T$, **or** multiply the `celerite` power $\\tilde P_c$ by $2T$, yielding: \n",
    "\n",
    "$ \\hat P_c = \\tilde P_c \\cdot 2T = P_c \\cdot \\frac{2}{T}\\cdot 2T =  4P_c $\n",
    "\n",
    "\n",
    "My inclination is to leave lightkurve as perfect, and rescale celerite."
   ]
  },
  {
   "cell_type": "code",
   "execution_count": null,
   "metadata": {},
   "outputs": [],
   "source": [
    "variance = np.var(lc.flux)"
   ]
  },
  {
   "cell_type": "markdown",
   "metadata": {},
   "source": [
    "#### A periodic term"
   ]
  },
  {
   "cell_type": "code",
   "execution_count": null,
   "metadata": {},
   "outputs": [],
   "source": [
    "guess_period = peak_period.to(u.day).value\n",
    "guess_period"
   ]
  },
  {
   "cell_type": "code",
   "execution_count": null,
   "metadata": {},
   "outputs": [],
   "source": [
    "Q_guess = 400\n",
    "w0_guess = 2.0*np.pi / guess_period\n",
    "S0_guess = variance /3600\n",
    "\n",
    "bounds1 = dict(S0=(variance/1000000, variance*100000),\n",
    "               Q=(3,1000000), \n",
    "               w0=(np.log(w0_guess*0.8),w0_guess*1.2))\n",
    "\n",
    "kernel_sho = terms.SHOTerm(S0=S0_guess, Q=Q_guess, w0=w0_guess)#, bounds=bounds1)"
   ]
  },
  {
   "cell_type": "markdown",
   "metadata": {},
   "source": [
    "#### A second periodic term"
   ]
  },
  {
   "cell_type": "code",
   "execution_count": null,
   "metadata": {},
   "outputs": [],
   "source": [
    "guess_period2 = guess_period / 2 # 2.5 / 24.0 * 1.0"
   ]
  },
  {
   "cell_type": "code",
   "execution_count": null,
   "metadata": {},
   "outputs": [],
   "source": [
    "Q2_guess = 100\n",
    "w02_guess = 2.0*np.pi / guess_period2\n",
    "S02_guess = variance /9000\n",
    "\n",
    "bounds_sho2 = dict(log_S0=(np.log(variance/10000), np.log(variance*1000)),\n",
    "               log_Q=(np.log(3), np.log(2000)), \n",
    "               log_omega0=(np.log(w02_guess*0.8),np.log(w02_guess*1.2)))\n",
    "\n",
    "kernel_sho2 = terms.SHOTerm(S0=S02_guess, Q=Q2_guess, w0=w02_guess)#, bounds=bounds_sho2)"
   ]
  },
  {
   "cell_type": "markdown",
   "metadata": {},
   "source": [
    "#### A Matern term"
   ]
  },
  {
   "cell_type": "markdown",
   "metadata": {},
   "source": [
    ">   log_sigma (float): The log of the parameter $\\sigma$.  \n",
    "\n",
    ">    log_rho (float): The log of the parameter $\\rho$.   \n",
    "    \n",
    ">    eps (Optional[float]): The value of the parameter $\\epsilon$.   \n",
    "        (default: `0.01`)"
   ]
  },
  {
   "cell_type": "code",
   "execution_count": null,
   "metadata": {},
   "outputs": [],
   "source": [
    "sigma_guess = np.sqrt(variance)/10\n",
    "rho_guess =  guess_period2 / 10.0\n",
    "\n",
    "kernel_mat = terms.Matern32Term(sigma=sigma_guess, rho=rho_guess)"
   ]
  },
  {
   "cell_type": "markdown",
   "metadata": {},
   "source": [
    "#### A Jitter term"
   ]
  },
  {
   "cell_type": "code",
   "execution_count": null,
   "metadata": {},
   "outputs": [],
   "source": [
    "#kernel_jit = terms.JitterTerm(log_sigma=np.log(lc.flux_err.mean()))"
   ]
  },
  {
   "cell_type": "markdown",
   "metadata": {},
   "source": [
    "#### Compute the GP"
   ]
  },
  {
   "cell_type": "code",
   "execution_count": null,
   "metadata": {},
   "outputs": [],
   "source": [
    "net_kernel = kernel_sho + kernel_sho2 + kernel_mat #+ kernel_jit\n",
    "gp = celerite2.GaussianProcess(net_kernel, fit_mean=True, mean=lc.flux.value.mean())\n",
    "gp.compute(lc.time.value, yerr=lc.flux_err.value)"
   ]
  },
  {
   "cell_type": "code",
   "execution_count": null,
   "metadata": {},
   "outputs": [],
   "source": [
    "f = pg.frequency.value"
   ]
  },
  {
   "cell_type": "code",
   "execution_count": null,
   "metadata": {},
   "outputs": [],
   "source": [
    "power_true = net_kernel.get_psd(2*np.pi*f) * 4\n",
    "power_sho1 = kernel_sho.get_psd(2*np.pi*f) * 4\n",
    "power_sho2 = kernel_sho2.get_psd(2*np.pi*f) * 4\n",
    "power_mat = kernel_mat.get_psd(2*np.pi*f) * 4"
   ]
  },
  {
   "cell_type": "code",
   "execution_count": null,
   "metadata": {},
   "outputs": [],
   "source": [
    "flux_draw = gp.sample(include_mean=True)"
   ]
  },
  {
   "cell_type": "code",
   "execution_count": null,
   "metadata": {},
   "outputs": [],
   "source": [
    "ax = lc.plot()\n",
    "ax.plot(lc.time.value, gp.sample()+0.2);"
   ]
  },
  {
   "cell_type": "markdown",
   "metadata": {},
   "source": [
    "Plausibly in the same ballpark--- good enough for an initial guess."
   ]
  },
  {
   "cell_type": "code",
   "execution_count": null,
   "metadata": {},
   "outputs": [],
   "source": [
    "lc_draw = lc.copy()\n",
    "lc_draw.flux = gp.sample() * lc.flux.unit\n",
    "pg_draw = lc_draw.to_periodogram(normalization='psd', freq_unit=1/u.day, oversample_factor=10)"
   ]
  },
  {
   "cell_type": "code",
   "execution_count": null,
   "metadata": {},
   "outputs": [],
   "source": [
    "ax = pg.plot(scale='log')\n",
    "ax.axvline(1.0/guess_period, color='#ddaaaa', linestyle='dotted', label='{:0.3f} d'.format(guess_period), alpha=1)\n",
    "pg_draw.plot(ax=ax, label='GP Draw', scale='log')\n",
    "ax.step(pg.frequency, power_true, color='#f39c12', lw=2,label=\"Analytic model\", where='mid', zorder=0)\n",
    "\n",
    "ax.plot(f, power_sho1, color='#f39c12', lw=1,label=\"SHO 1\", linestyle='--')\n",
    "ax.plot(f, power_sho2, color='#f39c12', lw=1,label=\"SHO 2\", linestyle=':')\n",
    "ax.plot(f, power_mat, color='#f39c12', lw=1,label=\"Matern\", linestyle='-.')\n",
    "\n",
    "plt.ylim(med.mean()/3)\n",
    "ax.set_xlim(pg.frequency[0].value, pg.frequency[-1].value);\n",
    "plt.legend(loc='best')\n",
    "ax.set_xlim(2, 13)\n",
    "plt.title('Initial Guess PSD');"
   ]
  },
  {
   "cell_type": "markdown",
   "metadata": {},
   "source": [
    "Awesome!  Let's spot-check our results by making a draw from the model and then computing as if it were data."
   ]
  },
  {
   "cell_type": "code",
   "execution_count": null,
   "metadata": {},
   "outputs": [],
   "source": [
    "y = lc.flux.value"
   ]
  },
  {
   "cell_type": "code",
   "execution_count": null,
   "metadata": {},
   "outputs": [],
   "source": [
    "# Set up the GP model\n",
    "\n",
    "print(\"Initial log-likelihood: {0}\".format(gp.log_likelihood(y)))"
   ]
  },
  {
   "cell_type": "markdown",
   "metadata": {},
   "source": [
    "Define a likelihood function"
   ]
  },
  {
   "cell_type": "code",
   "execution_count": null,
   "metadata": {},
   "outputs": [],
   "source": [
    "def neg_log_like(params, y, gp1):\n",
    "    gp1.set_parameter_vector(params)\n",
    "    return -gp1.log_likelihood(y)\n",
    "\n",
    "def grad_neg_log_like(params, y, gp1):\n",
    "    gp1.set_parameter_vector(params)\n",
    "    return -gp1.grad_log_likelihood(y)[1]"
   ]
  },
  {
   "cell_type": "markdown",
   "metadata": {},
   "source": [
    "New for celerite2"
   ]
  },
  {
   "cell_type": "code",
   "execution_count": null,
   "metadata": {},
   "outputs": [],
   "source": [
    "def set_params(params, gp):\n",
    "    gp.mean = params[0]\n",
    "    theta = np.exp(params[1:])\n",
    "    gp.kernel = (terms.SHOTerm(S0=theta[0], Q=theta[1], w0=theta[2]) + \n",
    "                 terms.SHOTerm(S0=theta[3], Q=theta[4], w0=theta[5]) +\n",
    "                 terms.Matern32Term(sigma=theta[6], rho=theta[7])    )\n",
    "    return gp\n",
    "\n",
    "def neg_log_like(params, gp):\n",
    "    gp = set_params(params, gp)\n",
    "    gp.recompute(quiet=True)\n",
    "    return -gp.log_likelihood(y)"
   ]
  },
  {
   "cell_type": "code",
   "execution_count": null,
   "metadata": {},
   "outputs": [],
   "source": [
    "from scipy.optimize import minimize"
   ]
  },
  {
   "cell_type": "markdown",
   "metadata": {},
   "source": [
    "### Refine the GP parameters with optimization"
   ]
  },
  {
   "cell_type": "code",
   "execution_count": null,
   "metadata": {},
   "outputs": [],
   "source": [
    "initial_params = [1.0, \n",
    "                  np.log(S0_guess), np.log(Q_guess), np.log(w0_guess),\n",
    "                  np.log(S02_guess), np.log(Q2_guess), np.log(w02_guess),\n",
    "                  np.log(sigma_guess), np.log(rho_guess)\n",
    "                 ]\n",
    "soln = minimize(neg_log_like, initial_params, method=\"L-BFGS-B\", args=(gp,))\n",
    "opt_gp = set_params(soln.x, gp)"
   ]
  },
  {
   "cell_type": "markdown",
   "metadata": {},
   "source": [
    " Spot check the optimization results."
   ]
  },
  {
   "cell_type": "code",
   "execution_count": null,
   "metadata": {},
   "outputs": [],
   "source": [
    "print(\"Final log-likelihood: {0}\".format(-soln.fun))"
   ]
  },
  {
   "cell_type": "code",
   "execution_count": null,
   "metadata": {},
   "outputs": [],
   "source": [
    "t_pred = np.linspace(lc.time.value[0], lc.time.value[-1], num=10000)"
   ]
  },
  {
   "cell_type": "code",
   "execution_count": null,
   "metadata": {},
   "outputs": [],
   "source": [
    "# Make the maximum likelihood prediction\n",
    "mu, var = opt_gp.predict(y, t_pred, return_var=True)\n",
    "std = np.sqrt(var)"
   ]
  },
  {
   "cell_type": "code",
   "execution_count": null,
   "metadata": {},
   "outputs": [],
   "source": [
    "ax = lc.plot(drawstyle='steps-mid')\n",
    "ax.step(lc.time.value, gp.sample()+0.1, label='GP Sample', lw=1, linestyle=':')\n",
    "ax.step(t_pred, mu, label='mean prediction', alpha=1, linestyle='dashed')\n",
    "ax.fill_between(t_pred, mu-std, mu+std, label='Confidence region', alpha=0.3)\n",
    "ax.legend();"
   ]
  },
  {
   "cell_type": "code",
   "execution_count": null,
   "metadata": {},
   "outputs": [],
   "source": [
    "ax = lc.plot(drawstyle='steps-mid', linewidth=2)\n",
    "#ax.step(lc.time.value, gp.sample(), label='GP Sample', lw=1)\n",
    "ax.step(t_pred, mu, label='mean prediction', alpha=1, linestyle='dashed')\n",
    "ax.fill_between(t_pred, mu-std, mu+std, label='Confidence region', alpha=0.3)\n",
    "#ax.set_xlim(1590, 1590+1)\n",
    "#ax.set_ylim(0.992, 0.998)\n",
    "plt.legend();"
   ]
  },
  {
   "cell_type": "code",
   "execution_count": null,
   "metadata": {},
   "outputs": [],
   "source": [
    "this_power = gp.kernel.get_psd(2*np.pi*f) * 4"
   ]
  },
  {
   "cell_type": "code",
   "execution_count": null,
   "metadata": {},
   "outputs": [],
   "source": [
    "pg_analytic = pg_noise.copy()"
   ]
  },
  {
   "cell_type": "code",
   "execution_count": null,
   "metadata": {},
   "outputs": [],
   "source": [
    "pg_analytic.power = this_power*pg_noise.power.unit"
   ]
  },
  {
   "cell_type": "markdown",
   "metadata": {},
   "source": [
    "Improve the $S/N$ on the periodogram of GP draws."
   ]
  },
  {
   "cell_type": "code",
   "execution_count": null,
   "metadata": {},
   "outputs": [],
   "source": [
    "%%time\n",
    "lc_draw = lc.copy()\n",
    "many_draw = []\n",
    "for i in range(100):\n",
    "    lc_draw.flux = gp.sample()\n",
    "    pg_draw = lc_draw.to_periodogram(normalization='psd', freq_unit=1/u.day, oversample_factor=10)\n",
    "    many_draw.append(pg_draw.power)\n",
    "    \n",
    "pg_draw.power = np.median(np.array(many_draw), axis=0)*pg_draw.power.unit"
   ]
  },
  {
   "cell_type": "code",
   "execution_count": null,
   "metadata": {},
   "outputs": [],
   "source": [
    "ax = pg.plot(scale='log')\n",
    "ax.axvline(1.0/guess_period, color='#ddaaaa', linestyle='dotted', label='{:0.3f} d'.format(guess_period), alpha=1)\n",
    "pg_draw.plot(ax=ax, label='GP Draw', scale='log')\n",
    "ax.step(pg.frequency, this_power, color='#f39c12', lw=2,label=\"Analytic model\", where='mid', zorder=0)\n",
    "\n",
    "#ax.plot(f, power_sho1, color='#f39c12', lw=1,label=\"SHO 1\", linestyle='--')\n",
    "#ax.plot(f, power_sho2, color='#f39c12', lw=1,label=\"SHO 2\", linestyle=':')\n",
    "#ax.plot(f, power_mat, color='#f39c12', lw=1,label=\"Matern\", linestyle='-.')\n",
    "\n",
    "plt.ylim(med.mean()/3)\n",
    "ax.set_xlim(pg.frequency[0].value, pg.frequency[-1].value);\n",
    "plt.legend(loc='best')\n",
    "ax.set_xlim(2, 13)\n",
    "plt.title('Posterior PSD');"
   ]
  },
  {
   "cell_type": "markdown",
   "metadata": {},
   "source": [
    "# Figure for paper"
   ]
  },
  {
   "cell_type": "markdown",
   "metadata": {},
   "source": [
    "Import the IGRINS Epochs"
   ]
  },
  {
   "cell_type": "code",
   "execution_count": null,
   "metadata": {},
   "outputs": [],
   "source": [
    "import pandas as pd"
   ]
  },
  {
   "cell_type": "code",
   "execution_count": null,
   "metadata": {},
   "outputs": [],
   "source": [
    "df = pd.read_csv('../../data/IGRINS/2021A_metadata_log_CORRECT.csv')"
   ]
  },
  {
   "cell_type": "code",
   "execution_count": null,
   "metadata": {},
   "outputs": [],
   "source": [
    "df"
   ]
  },
  {
   "cell_type": "code",
   "execution_count": null,
   "metadata": {},
   "outputs": [],
   "source": [
    "binary_color_dict = {'A':'#3498db', 'B':'#27ae60'}\n",
    "binary_line_dict = {'A':'dotted', 'B':'dashed'}"
   ]
  },
  {
   "cell_type": "code",
   "execution_count": null,
   "metadata": {},
   "outputs": [],
   "source": [
    "ax = lc.scatter(alpha=1, label=None, marker='o', fc='k', ec='k', s=15)\n",
    "lc.scatter(ax=ax, alpha=1, label='TESS Sector 36', marker='o', fc='#f1c40f', ec=None, s=10)\n",
    "ax.step(t_pred, mu, label=None, alpha=0.6, linestyle='solid', color='#2980b9', linewidth=2.0, zorder=10)\n",
    "ax.step(t_pred, mu, label='Trendline', alpha=1, linestyle='solid', color='#2c3e50', linewidth=0.8, zorder=10)\n",
    "#ax.fill_between(t_pred, mu-std, mu+std, label='Confidence region', alpha=1, color='#95a5a6', zorder=0)\n",
    "ax.set_xlim(2285, 2292.5)\n",
    "#ax.set_ylim(0.992, 0.998)\n",
    "ax.figure.set_size_inches(9, 4)\n",
    "ax.set_xlabel('Time [BTJD]')\n",
    "\n",
    "for i in range(8):\n",
    "    AorB = df['Binary Component'][i]\n",
    "    if AorB == 'B':\n",
    "        ax.axvline(df.BTJD[i], color=binary_color_dict[AorB], linestyle=binary_line_dict[AorB])\n",
    "\n",
    "ax.axvline(-100, color=binary_color_dict[AorB], linestyle=binary_line_dict[AorB], label='IGRINS visits')\n",
    "plt.legend(loc='best',ncol=3);\n",
    "\n",
    "plt.savefig('../../document/paper1/figures/TESS_S36_O1_IGRINS_overlay.png', bbox_inches='tight', dpi=300)"
   ]
  },
  {
   "cell_type": "code",
   "execution_count": null,
   "metadata": {},
   "outputs": [],
   "source": []
  },
  {
   "cell_type": "code",
   "execution_count": null,
   "metadata": {},
   "outputs": [],
   "source": []
  },
  {
   "cell_type": "code",
   "execution_count": null,
   "metadata": {},
   "outputs": [],
   "source": [
    "ax = lc_s36.scatter(label='Sector 36', marker='o', alpha=0.1, ec='k', fc='#d35400', s=10,)\n",
    "lc_s37.plot(ax=ax)#scatter(ax=ax, label='Sector 37', marker='o', alpha=0.5, ec='k', fc='r')\n",
    "lc_s10_shifted.plot(ax=ax)#scatter(ax=ax, label='Sector 10 (Time shifted)', marker='o', alpha=0.5, ec='k', fc='g')\n",
    "ax.legend(loc='best', ncol=3)\n",
    "ax.set_xlabel('Time [BTJD]')\n",
    "#ax.set_ylim(0.85, 1.1)"
   ]
  }
 ],
 "metadata": {
  "kernelspec": {
   "display_name": "Python 3",
   "language": "python",
   "name": "python3"
  },
  "language_info": {
   "codemirror_mode": {
    "name": "ipython",
    "version": 3
   },
   "file_extension": ".py",
   "mimetype": "text/x-python",
   "name": "python",
   "nbconvert_exporter": "python",
   "pygments_lexer": "ipython3",
   "version": "3.6.13"
  }
 },
 "nbformat": 4,
 "nbformat_minor": 2
}
