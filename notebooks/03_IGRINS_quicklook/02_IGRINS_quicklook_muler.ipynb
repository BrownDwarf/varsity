{
 "cells": [
  {
   "cell_type": "markdown",
   "id": "surprising-pursuit",
   "metadata": {},
   "source": [
    "# IGRINS quicklook with muler"
   ]
  },
  {
   "cell_type": "markdown",
   "id": "boolean-pollution",
   "metadata": {},
   "source": [
    "Here we will have a first look at the IGRINS data with the [muler](https://muler.readthedocs.io/) tool, which is under activate development."
   ]
  },
  {
   "cell_type": "code",
   "execution_count": null,
   "id": "pleasant-narrow",
   "metadata": {},
   "outputs": [],
   "source": [
    "from muler.igrins import IGRINSSpectrum\n",
    "import glob\n",
    "%config InlineBackend.figure_format = 'retina'"
   ]
  },
  {
   "cell_type": "code",
   "execution_count": null,
   "id": "straight-profession",
   "metadata": {},
   "outputs": [],
   "source": [
    "import seaborn as sns"
   ]
  },
  {
   "cell_type": "code",
   "execution_count": null,
   "id": "brazilian-consensus",
   "metadata": {},
   "outputs": [],
   "source": [
    "import matplotlib.pyplot as plt"
   ]
  },
  {
   "cell_type": "code",
   "execution_count": null,
   "id": "exact-register",
   "metadata": {},
   "outputs": [],
   "source": [
    "reduced_fns = glob.glob('../../data/IGRINS/originals/GS-2021A-DD-104/*/reduced/SDCH*.spec_a0v.fits')"
   ]
  },
  {
   "cell_type": "code",
   "execution_count": null,
   "id": "aquatic-nashville",
   "metadata": {},
   "outputs": [],
   "source": [
    "reduced_fns = sorted(reduced_fns)"
   ]
  },
  {
   "cell_type": "code",
   "execution_count": null,
   "id": "illegal-protocol",
   "metadata": {},
   "outputs": [],
   "source": [
    "reduced_fns[0::2]"
   ]
  },
  {
   "cell_type": "code",
   "execution_count": null,
   "id": "fifty-interpretation",
   "metadata": {},
   "outputs": [],
   "source": [
    "reduced_fns[slice(0,8, 2)]"
   ]
  },
  {
   "cell_type": "markdown",
   "id": "seven-phrase",
   "metadata": {},
   "source": [
    "Makes sense there are 4 nights, each with a Luhman 16A and Luhman 16B acquisition."
   ]
  },
  {
   "cell_type": "code",
   "execution_count": null,
   "id": "careful-london",
   "metadata": {},
   "outputs": [],
   "source": [
    "order = 5"
   ]
  },
  {
   "cell_type": "code",
   "execution_count": null,
   "id": "fitted-hamilton",
   "metadata": {},
   "outputs": [],
   "source": [
    "spec1 = IGRINSSpectrum(file=reduced_fns[0], order=order)\n",
    "spec2 = IGRINSSpectrum(file=reduced_fns[2], order=order)\n",
    "spec3 = IGRINSSpectrum(file=reduced_fns[4], order=order)\n",
    "spec4 = IGRINSSpectrum(file=reduced_fns[6], order=order)"
   ]
  },
  {
   "cell_type": "code",
   "execution_count": null,
   "id": "facial-modem",
   "metadata": {},
   "outputs": [],
   "source": [
    "spec1.remove_nans().flux.value"
   ]
  },
  {
   "cell_type": "code",
   "execution_count": null,
   "id": "talented-french",
   "metadata": {},
   "outputs": [],
   "source": [
    "sns.set_context('talk')"
   ]
  },
  {
   "cell_type": "code",
   "execution_count": null,
   "id": "authorized-arthritis",
   "metadata": {},
   "outputs": [],
   "source": [
    "ax = spec1.normalize().plot(figsize=(20, 10), ylo=0.0, yhi=1.45)\n",
    "spec2.normalize().plot(ax=ax);\n",
    "spec3.normalize().plot(ax=ax);\n",
    "spec4.normalize().plot(ax=ax);\n",
    "ax.set_xlim(1.0025*spec1.wavelength.min().value, 0.9985*spec1.wavelength.max().value)"
   ]
  },
  {
   "cell_type": "markdown",
   "id": "recreational-mineral",
   "metadata": {},
   "source": [
    "Neat!  We see differences from spectrum-to-spectrum that can be plausibly attributed to astrophysical effects."
   ]
  },
  {
   "cell_type": "code",
   "execution_count": null,
   "id": "conventional-mexico",
   "metadata": {},
   "outputs": [],
   "source": [
    "spec1 = IGRINSSpectrum(file=reduced_fns[1], order=order)\n",
    "spec2 = IGRINSSpectrum(file=reduced_fns[3], order=order)\n",
    "spec3 = IGRINSSpectrum(file=reduced_fns[5], order=order)\n",
    "spec4 = IGRINSSpectrum(file=reduced_fns[7], order=order)"
   ]
  },
  {
   "cell_type": "code",
   "execution_count": null,
   "id": "cooked-thriller",
   "metadata": {},
   "outputs": [],
   "source": [
    "ax = spec1.normalize().plot(figsize=(20, 10), ylo=0.0, yhi=1.45)\n",
    "spec2.normalize().plot(ax=ax);\n",
    "spec3.normalize().plot(ax=ax);\n",
    "spec4.normalize().plot(ax=ax);\n",
    "ax.set_xlim(1.0025*spec1.wavelength.min().value, 0.9985*spec1.wavelength.max().value)"
   ]
  },
  {
   "cell_type": "code",
   "execution_count": null,
   "id": "quiet-magnitude",
   "metadata": {},
   "outputs": [],
   "source": []
  },
  {
   "cell_type": "code",
   "execution_count": null,
   "id": "alpha-cutting",
   "metadata": {},
   "outputs": [],
   "source": []
  }
 ],
 "metadata": {
  "kernelspec": {
   "display_name": "Python 3",
   "language": "python",
   "name": "python3"
  },
  "language_info": {
   "codemirror_mode": {
    "name": "ipython",
    "version": 3
   },
   "file_extension": ".py",
   "mimetype": "text/x-python",
   "name": "python",
   "nbconvert_exporter": "python",
   "pygments_lexer": "ipython3",
   "version": "3.6.13"
  }
 },
 "nbformat": 4,
 "nbformat_minor": 5
}
