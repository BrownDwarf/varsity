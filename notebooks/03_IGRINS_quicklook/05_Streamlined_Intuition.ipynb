{
 "cells": [
  {
   "cell_type": "markdown",
   "id": "decreased-corruption",
   "metadata": {},
   "source": [
    "# Streamlined intuition\n",
    "\n",
    "Development is in the `intuition.py` file now, in hopes of streamlining."
   ]
  },
  {
   "cell_type": "code",
   "execution_count": null,
   "id": "golden-hypothetical",
   "metadata": {},
   "outputs": [],
   "source": [
    "%load_ext autoreload\n",
    "%autoreload 2"
   ]
  },
  {
   "cell_type": "code",
   "execution_count": null,
   "id": "harmful-latin",
   "metadata": {},
   "outputs": [],
   "source": [
    "%config InlineBackend.figure_format = 'retina'"
   ]
  },
  {
   "cell_type": "code",
   "execution_count": null,
   "id": "brilliant-contamination",
   "metadata": {},
   "outputs": [],
   "source": [
    "import sys\n",
    "sys.path.append(\"../../code\") # go to parent dir"
   ]
  },
  {
   "cell_type": "code",
   "execution_count": null,
   "id": "trained-logging",
   "metadata": {},
   "outputs": [],
   "source": [
    "from intuition import create_interact_ui #, fns_morley, get_lookup_dictionaries, load_and_prep_spectrum"
   ]
  },
  {
   "cell_type": "code",
   "execution_count": null,
   "id": "modular-somewhere",
   "metadata": {},
   "outputs": [],
   "source": [
    "from bokeh.io import show, output_notebook, push_notebook"
   ]
  },
  {
   "cell_type": "code",
   "execution_count": null,
   "id": "heated-extra",
   "metadata": {},
   "outputs": [],
   "source": [
    "import numpy as np"
   ]
  },
  {
   "cell_type": "code",
   "execution_count": null,
   "id": "metallic-organization",
   "metadata": {},
   "outputs": [],
   "source": [
    "output_notebook(verbose=False, hide_banner=True)\n",
    "show(create_interact_ui)"
   ]
  },
  {
   "cell_type": "code",
   "execution_count": null,
   "id": "colonial-boundary",
   "metadata": {},
   "outputs": [],
   "source": []
  },
  {
   "cell_type": "code",
   "execution_count": null,
   "id": "opponent-stamp",
   "metadata": {},
   "outputs": [],
   "source": []
  }
 ],
 "metadata": {
  "kernelspec": {
   "display_name": "Python 3",
   "language": "python",
   "name": "python3"
  },
  "language_info": {
   "codemirror_mode": {
    "name": "ipython",
    "version": 3
   },
   "file_extension": ".py",
   "mimetype": "text/x-python",
   "name": "python",
   "nbconvert_exporter": "python",
   "pygments_lexer": "ipython3",
   "version": "3.6.13"
  }
 },
 "nbformat": 4,
 "nbformat_minor": 5
}
