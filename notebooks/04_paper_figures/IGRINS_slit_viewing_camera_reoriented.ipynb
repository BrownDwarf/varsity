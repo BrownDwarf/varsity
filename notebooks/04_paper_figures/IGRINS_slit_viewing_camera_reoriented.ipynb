{
 "cells": [
  {
   "cell_type": "markdown",
   "metadata": {},
   "source": [
    "# IGRINS Slit Viewing Camera and TESS *Re-Oriented!*"
   ]
  },
  {
   "cell_type": "markdown",
   "metadata": {},
   "source": [
    "The header info in the IGRINS Slit Viewing Camera was malformed.  Let's attempt to fix it so we can preserve our nice figures."
   ]
  },
  {
   "cell_type": "code",
   "execution_count": null,
   "metadata": {},
   "outputs": [],
   "source": [
    "import lightkurve as lk"
   ]
  },
  {
   "cell_type": "code",
   "execution_count": null,
   "metadata": {},
   "outputs": [],
   "source": [
    "lk.__version__"
   ]
  },
  {
   "cell_type": "code",
   "execution_count": null,
   "metadata": {},
   "outputs": [],
   "source": [
    "# %load /Users/obsidian/Desktop/defaults.py\n",
    "import pandas as pd\n",
    "import numpy as np\n",
    "import matplotlib.pyplot as plt\n",
    "%matplotlib inline\n",
    "%config InlineBackend.figure_format = 'retina'"
   ]
  },
  {
   "cell_type": "code",
   "execution_count": null,
   "metadata": {},
   "outputs": [],
   "source": [
    "import sys\n",
    "import os"
   ]
  },
  {
   "cell_type": "code",
   "execution_count": null,
   "metadata": {},
   "outputs": [],
   "source": [
    "import aplpy"
   ]
  },
  {
   "cell_type": "code",
   "execution_count": null,
   "metadata": {},
   "outputs": [],
   "source": [
    "aplpy.__version__"
   ]
  },
  {
   "cell_type": "code",
   "execution_count": null,
   "metadata": {},
   "outputs": [],
   "source": [
    "from astropy.nddata import Cutout2D\n",
    "from astropy import units as u\n",
    "from astropy.coordinates import SkyCoord\n",
    "from astropy.visualization import (PercentileInterval, SqrtStretch,\n",
    "                                   ImageNormalize)\n",
    "from astropy.io import fits\n",
    "from astropy.wcs import WCS\n",
    "import montage_wrapper as montage"
   ]
  },
  {
   "cell_type": "code",
   "execution_count": null,
   "metadata": {},
   "outputs": [],
   "source": [
    "from reproject import reproject_interp, reproject_exact"
   ]
  },
  {
   "cell_type": "code",
   "execution_count": null,
   "metadata": {},
   "outputs": [],
   "source": [
    "pos = SkyCoord(ra='10 49 11.95', dec='-53 19 01.8', unit=(u.hourangle, u.deg), frame='icrs')"
   ]
  },
  {
   "cell_type": "markdown",
   "metadata": {},
   "source": [
    "### What imaging do we want?"
   ]
  },
  {
   "cell_type": "markdown",
   "metadata": {},
   "source": [
    "| source | band | filename |\n",
    "| -- | -- | -- |\n",
    "| IGRINS Slit Viewing Camera (nights 1,2,3, & 4?) | K | `data/...`|\n",
    "| HST? | H | `data/...`|\n",
    "| TESS | R | `data/...`|"
   ]
  },
  {
   "cell_type": "code",
   "execution_count": null,
   "metadata": {},
   "outputs": [],
   "source": [
    "rad_value = 60\n",
    "rad = rad_value*u.arcsecond\n",
    "diam = rad_value*2"
   ]
  },
  {
   "cell_type": "code",
   "execution_count": null,
   "metadata": {},
   "outputs": [],
   "source": [
    "def make_postage_stamp(im_in, output, hdu=None, vmin=None, vmax=None, radius=None):\n",
    "    '''Make a postage stamp image'''\n",
    "    fig = plt.figure(figsize=(5,5))\n",
    "    if radius is None:\n",
    "        radius = 60 * u.arcsecond\n",
    "    if hdu is None:\n",
    "        mosaic = aplpy.FITSFigure(im_in, north=True, figure = fig)\n",
    "    else:\n",
    "        mosaic = aplpy.FITSFigure(im_in,hdu=hdu, north=True, figure = fig)\n",
    "    mosaic.recenter(pos.ra,pos.dec, radius=radius.to(u.degree).value)  # degrees\n",
    "    if (vmin is not None) & (vmax is not None):\n",
    "        mosaic.show_grayscale(invert=True, interpolation='none', stretch='linear',\n",
    "                              vmin=vmin, vmax=vmax)\n",
    "        mosaic.show_grayscale(invert=True, interpolation='none', stretch='linear',\n",
    "                              vmin=vmin, vmax=vmax)        \n",
    "    else:\n",
    "        mosaic.show_grayscale(invert=True, interpolation='none', stretch='linear')\n",
    "        mosaic.show_grayscale(invert=True, interpolation='none', stretch='linear')\n",
    "    mosaic.tick_labels.set_font(size='small')\n",
    "    #mosaic.tick_labels.set_xformat(\"hh:mm:ss\")\n",
    "    mosaic.set_theme('publication')\n",
    "\n",
    "    aplpy.AxisLabels(mosaic).hide()\n",
    "    aplpy.TickLabels(mosaic).hide()\n",
    "\n",
    "    mosaic.add_scalebar(10.0 * u.arcsecond)\n",
    "    #fig.scalebar.show(1.0/3600.0*4.0)  # length in degrees\n",
    "    #mosaic.scalebar.set_length(4.0 * u.arcsecond)\n",
    "    mosaic.scalebar.set_label(\"$10^{\\prime\\prime}$\")\n",
    "    #mosaic.scalebar.set_corner('bottom right')\n",
    "    mosaic.scalebar.set_color('red')\n",
    "    mosaic.scalebar.set_linestyle('solid')\n",
    "    mosaic.scalebar.set_linewidth(5)  # points\n",
    "    mosaic.scalebar.set_font(size=12, weight='medium', \\\n",
    "                          stretch='normal', family='sans-serif', \\\n",
    "                          style='normal', variant='normal')\n",
    "\n",
    "    mosaic.save(output, dpi=300)"
   ]
  },
  {
   "cell_type": "markdown",
   "metadata": {},
   "source": [
    "### 2MASS $J$ "
   ]
  },
  {
   "cell_type": "code",
   "execution_count": null,
   "metadata": {},
   "outputs": [],
   "source": [
    "im_in = '../../data/imaging/2MASS/aK_asky_990517s0370033.fits'\n",
    "output = 'Luhman16_{}x{}arcsec_2M_K.png'.format(diam, diam)"
   ]
  },
  {
   "cell_type": "code",
   "execution_count": null,
   "metadata": {},
   "outputs": [],
   "source": [
    "%%time\n",
    "make_postage_stamp(im_in, output, radius=rad)"
   ]
  },
  {
   "cell_type": "markdown",
   "metadata": {},
   "source": [
    "### TESS FFI"
   ]
  },
  {
   "cell_type": "code",
   "execution_count": null,
   "metadata": {},
   "outputs": [],
   "source": [
    "sr = lk.search_targetpixelfile('Luhman 16')"
   ]
  },
  {
   "cell_type": "code",
   "execution_count": null,
   "metadata": {},
   "outputs": [],
   "source": [
    "tpf = sr[0].download()"
   ]
  },
  {
   "cell_type": "code",
   "execution_count": null,
   "metadata": {},
   "outputs": [],
   "source": [
    "ax = tpf.plot()"
   ]
  },
  {
   "cell_type": "code",
   "execution_count": null,
   "metadata": {},
   "outputs": [],
   "source": [
    "tpf.ccd, tpf.camera"
   ]
  },
  {
   "cell_type": "code",
   "execution_count": null,
   "metadata": {},
   "outputs": [],
   "source": [
    "im_in = '../../data/imaging/TESS/tess2021089092906-s0036-3-1-0207-s_ffic.fits'\n",
    "im_in = fits.open(im_in)\n",
    "output = 'Luhman16_{}x{}arcsec_TESS_S36.png'.format(diam, diam)"
   ]
  },
  {
   "cell_type": "code",
   "execution_count": null,
   "metadata": {},
   "outputs": [],
   "source": [
    "%%time\n",
    "make_postage_stamp(im_in, output, hdu=1, vmin=150, vmax=400, radius=rad)"
   ]
  },
  {
   "cell_type": "markdown",
   "metadata": {},
   "source": [
    "## HST"
   ]
  },
  {
   "cell_type": "code",
   "execution_count": null,
   "metadata": {},
   "outputs": [],
   "source": [
    "fn = '../../data/HST/MAST/MAST_2021-06-29T1207/HST/hst_15884_01_wfc3_uvis_f814w_ie1m01/hst_15884_01_wfc3_uvis_f814w_ie1m01_drc.fits'\n",
    "hdu = fits.open(fn)\n",
    "im_in = hdu\n",
    "output = 'Luhman16_60x60arcsec_HST.png'"
   ]
  },
  {
   "cell_type": "code",
   "execution_count": null,
   "metadata": {},
   "outputs": [],
   "source": [
    "hdu.info()"
   ]
  },
  {
   "cell_type": "code",
   "execution_count": null,
   "metadata": {},
   "outputs": [],
   "source": [
    "rad_value = 10.5\n",
    "rad = rad_value*u.arcsecond\n",
    "diam = rad_value*2"
   ]
  },
  {
   "cell_type": "code",
   "execution_count": null,
   "metadata": {},
   "outputs": [],
   "source": [
    "%%time\n",
    "make_postage_stamp(im_in, output, hdu=1, vmin=-0.1, vmax=3, radius=rad)"
   ]
  },
  {
   "cell_type": "markdown",
   "metadata": {},
   "source": [
    "The FITS header is malformed."
   ]
  },
  {
   "cell_type": "code",
   "execution_count": null,
   "metadata": {},
   "outputs": [],
   "source": []
  },
  {
   "cell_type": "markdown",
   "metadata": {},
   "source": [
    "### IGRINS Slit Viewing Camera"
   ]
  },
  {
   "cell_type": "code",
   "execution_count": null,
   "metadata": {},
   "outputs": [],
   "source": [
    "rad_value = 21\n",
    "rad = rad_value*u.arcsecond\n",
    "diam = rad_value*2"
   ]
  },
  {
   "cell_type": "code",
   "execution_count": null,
   "metadata": {},
   "outputs": [],
   "source": []
  },
  {
   "cell_type": "code",
   "execution_count": null,
   "metadata": {},
   "outputs": [],
   "source": [
    "fn = '../../data/IGRINS/originals/GS-2021A-DD-104/20210311/SDCS_20210311_0002.fits'\n",
    "hdu = fits.open(fn)"
   ]
  },
  {
   "cell_type": "code",
   "execution_count": null,
   "metadata": {},
   "outputs": [],
   "source": [
    "im_in = hdu\n",
    "output = 'Luhman16_{}x{}arcsec_IGRINS_20210311.png'.format(diam, diam)"
   ]
  },
  {
   "cell_type": "code",
   "execution_count": null,
   "metadata": {},
   "outputs": [],
   "source": [
    "hdu[1].header['CROTA1'] += 90\n",
    "hdu[1].header['CROTA2'] += 90"
   ]
  },
  {
   "cell_type": "code",
   "execution_count": null,
   "metadata": {},
   "outputs": [],
   "source": [
    "%%time\n",
    "make_postage_stamp(im_in, output, hdu=1, vmin=0, vmax=4000, radius=rad)"
   ]
  },
  {
   "cell_type": "markdown",
   "metadata": {},
   "source": [
    "### Zoom in ..."
   ]
  },
  {
   "cell_type": "code",
   "execution_count": null,
   "metadata": {},
   "outputs": [],
   "source": [
    "rad_value = 10.5\n",
    "rad = rad_value*u.arcsecond\n",
    "diam = rad_value*2"
   ]
  },
  {
   "cell_type": "code",
   "execution_count": null,
   "metadata": {},
   "outputs": [],
   "source": [
    "im_in = hdu\n",
    "output = 'Luhman16_{}x{}arcsec_IGRINS_20210311.png'.format(diam, diam)"
   ]
  },
  {
   "cell_type": "code",
   "execution_count": null,
   "metadata": {},
   "outputs": [],
   "source": [
    "%%time\n",
    "make_postage_stamp(im_in, output, hdu=1, vmin=0, vmax=4000, radius=rad)"
   ]
  },
  {
   "cell_type": "markdown",
   "metadata": {},
   "source": [
    "## Add axis labels to make a stand-alone graphic "
   ]
  },
  {
   "cell_type": "code",
   "execution_count": null,
   "metadata": {},
   "outputs": [],
   "source": [
    "def make_postage_stamp_with_labels(im_in, output, hdu=None, vmin=None, vmax=None, radius=None):\n",
    "    '''Make a postage stamp image'''\n",
    "    fig = plt.figure(figsize=(5,5))\n",
    "    if radius is None:\n",
    "        radius = 60 * u.arcsecond\n",
    "    if hdu is None:\n",
    "        mosaic = aplpy.FITSFigure(im_in, north=True, figure = fig)\n",
    "    else:\n",
    "        mosaic = aplpy.FITSFigure(im_in,hdu=hdu, north=True, figure = fig)\n",
    "    mosaic.recenter(pos.ra,pos.dec, radius=radius.to(u.degree).value)  # degrees\n",
    "    if (vmin is not None) & (vmax is not None):\n",
    "        mosaic.show_grayscale(invert=True, interpolation='none', stretch='linear',\n",
    "                              vmin=vmin, vmax=vmax)\n",
    "        mosaic.show_grayscale(invert=True, interpolation='none', stretch='linear',\n",
    "                              vmin=vmin, vmax=vmax)        \n",
    "    else:\n",
    "        mosaic.show_grayscale(invert=True, interpolation='none', stretch='linear')\n",
    "        mosaic.show_grayscale(invert=True, interpolation='none', stretch='linear')\n",
    "    mosaic.tick_labels.set_font(size=12)\n",
    "    mosaic.tick_labels.set_xformat(\"hh:mm:ss\")\n",
    "    mosaic.set_theme('talk')\n",
    "\n",
    "    #aplpy.AxisLabels(mosaic).hide()\n",
    "    #aplpy.TickLabels(mosaic).hide()\n",
    "\n",
    "    mosaic.add_scalebar(10.0 * u.arcsecond)\n",
    "    #fig.scalebar.show(1.0/3600.0*4.0)  # length in degrees\n",
    "    #mosaic.scalebar.set_length(4.0 * u.arcsecond)\n",
    "    mosaic.scalebar.set_label(\"$10^{\\prime\\prime}$\")\n",
    "    #mosaic.scalebar.set_corner('bottom right')\n",
    "    mosaic.scalebar.set_color('#d35400')\n",
    "    mosaic.scalebar.set_linestyle('solid')\n",
    "    mosaic.scalebar.set_linewidth(5)  # points\n",
    "    mosaic.scalebar.set_font(size=12, weight='medium', \\\n",
    "                          stretch='normal', family='sans-serif', \\\n",
    "                          style='normal', variant='normal')\n",
    "\n",
    "    mosaic.save(output, dpi=300)"
   ]
  },
  {
   "cell_type": "code",
   "execution_count": null,
   "metadata": {},
   "outputs": [],
   "source": []
  },
  {
   "cell_type": "code",
   "execution_count": null,
   "metadata": {},
   "outputs": [],
   "source": []
  },
  {
   "cell_type": "code",
   "execution_count": null,
   "metadata": {},
   "outputs": [],
   "source": [
    "%%time\n",
    "make_postage_stamp_with_labels(im_in, \"Luhman16_IGRINS_slit_20210311.pdf\", hdu=1, vmin=0, vmax=4000, radius=rad)"
   ]
  },
  {
   "cell_type": "code",
   "execution_count": null,
   "metadata": {},
   "outputs": [],
   "source": []
  }
 ],
 "metadata": {
  "kernelspec": {
   "display_name": "Python 3 (ipykernel)",
   "language": "python",
   "name": "python3"
  },
  "language_info": {
   "codemirror_mode": {
    "name": "ipython",
    "version": 3
   },
   "file_extension": ".py",
   "mimetype": "text/x-python",
   "name": "python",
   "nbconvert_exporter": "python",
   "pygments_lexer": "ipython3",
   "version": "3.8.10"
  }
 },
 "nbformat": 4,
 "nbformat_minor": 2
}
