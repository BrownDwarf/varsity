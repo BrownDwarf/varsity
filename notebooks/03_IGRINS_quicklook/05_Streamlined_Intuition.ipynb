{
 "cells": [
  {
   "cell_type": "markdown",
   "id": "changing-columbia",
   "metadata": {},
   "source": [
    "# Interactively compare IGRINS and Sonora models by eye\n",
    "\n",
    "We have built an interactive visualization tool for comparing IGRINS spectra and Sonora models.  It's called `intuition`.  Here we use Caroline's cloud and cloudy models that are currently restricted to K-band only.  We made a mixture model controlled by a slide for the filling factor of clouds.\n",
    "\n",
    "Our goal is to get a first-pass guess for the best fit models and to spot-check epoch-to-epoch variability.  Here are some key questions to answer, some easier than others:\n",
    "\n",
    "🟢 = Easy  \n",
    "🟡 = Takes some work  \n",
    "🔴 = Research Project  \n",
    "\n",
    "1. 🟢 Do the raw spectra show variations conspicuous to the human eye?  If so what are the wavelength locations of the largest such perturbations?\n",
    "2. 🟢 What is the overall performance of the custom cludy Sonora models?\n",
    "3. 🟡 What is the best fit temperature and surface gravity?  To what extent do these values vary with spectral order (i.e. wavelength/species)?\n",
    "4. 🟡 What is the overall character of the spectral variations?  Is there evidence for line profile perturbations?\n",
    "5. 🟡 With what filling factor of clouds is each component most consistent?\n",
    "6. 🟡 To what extent are the pairs of parameters degenerate, for example resolution and surface gravity, or spectral resolution and filling factor, or resolution and filling factor?  Are there discrete spectral features or groups of features that break these degeneracies?\n",
    "7. 🔴 Can the heritage of spectral perturbations be convincingly assigned to astrophysical variation and not, say, telluric correction artifacts or instrumental/wavelength-dependent slit-loss?\n",
    "8. 🔴 Is there conspicuous evidence for two distinct spectral components (cloud and cloud-free) coexisting in the single composite spectrum?\n",
    "9. 🔴 How do the observed spectral changes relate to the instantaneous TESS flux (available Apil 9)?\n",
    "10. 🔴 Does the overall pattern of best fit values comport with theoretical expectations?  Overall what do we learn from the spectra?"
   ]
  },
  {
   "cell_type": "code",
   "execution_count": null,
   "id": "devoted-specification",
   "metadata": {},
   "outputs": [],
   "source": [
    "import sys\n",
    "sys.path.append(\"../../code\") # go to parent dir\n",
    "from intuition import create_interact_ui\n",
    "from bokeh.io import show, output_notebook, push_notebook"
   ]
  },
  {
   "cell_type": "code",
   "execution_count": null,
   "id": "sharp-globe",
   "metadata": {},
   "outputs": [],
   "source": [
    "import matplotlib.pyplot as plt\n",
    "%config InlineBackend.figure_format = 'retina'"
   ]
  },
  {
   "cell_type": "code",
   "execution_count": null,
   "id": "natural-breast",
   "metadata": {},
   "outputs": [],
   "source": [
    "from muler.igrins import IGRINSSpectrumList"
   ]
  },
  {
   "cell_type": "code",
   "execution_count": null,
   "id": "experimental-morocco",
   "metadata": {},
   "outputs": [],
   "source": [
    "#from astropy.io import fits\n",
    "#hdus = fits.open('../../data/IGRINS/originals/GS-2021A-DD-104/20210311/reduced/SDCK_20210311_0025.spec_a0v.fits')\n",
    "#wl_a0v = hdus[1].data[17, :]\n",
    "#import numpy as np"
   ]
  },
  {
   "cell_type": "code",
   "execution_count": null,
   "id": "white-billion",
   "metadata": {},
   "outputs": [],
   "source": [
    "spec_list = IGRINSSpectrumList.read('../../data/IGRINS/originals/GS-2021A-DD-104/20210311/reduced/SDCK_20210311_0025.spec_a0v.fits')"
   ]
  },
  {
   "cell_type": "code",
   "execution_count": null,
   "id": "connected-treat",
   "metadata": {},
   "outputs": [],
   "source": [
    "spec1 = spec_list[17].normalize()"
   ]
  },
  {
   "cell_type": "code",
   "execution_count": null,
   "id": "stuffed-istanbul",
   "metadata": {},
   "outputs": [],
   "source": [
    "output_notebook(verbose=False, hide_banner=True)\n",
    "show(create_interact_ui)"
   ]
  },
  {
   "cell_type": "code",
   "execution_count": null,
   "id": "conventional-savage",
   "metadata": {},
   "outputs": [],
   "source": []
  },
  {
   "cell_type": "code",
   "execution_count": null,
   "id": "czech-engineering",
   "metadata": {},
   "outputs": [],
   "source": []
  },
  {
   "cell_type": "code",
   "execution_count": null,
   "id": "secure-cycling",
   "metadata": {},
   "outputs": [],
   "source": []
  },
  {
   "cell_type": "code",
   "execution_count": null,
   "id": "floating-region",
   "metadata": {},
   "outputs": [],
   "source": []
  },
  {
   "cell_type": "code",
   "execution_count": null,
   "id": "saved-granny",
   "metadata": {},
   "outputs": [],
   "source": []
  },
  {
   "cell_type": "code",
   "execution_count": null,
   "id": "level-affair",
   "metadata": {},
   "outputs": [],
   "source": []
  },
  {
   "cell_type": "code",
   "execution_count": null,
   "id": "included-utilization",
   "metadata": {},
   "outputs": [],
   "source": []
  },
  {
   "cell_type": "code",
   "execution_count": null,
   "id": "magnetic-allergy",
   "metadata": {},
   "outputs": [],
   "source": []
  },
  {
   "cell_type": "code",
   "execution_count": null,
   "id": "bigger-architecture",
   "metadata": {},
   "outputs": [],
   "source": []
  },
  {
   "cell_type": "code",
   "execution_count": null,
   "id": "pressed-renewal",
   "metadata": {},
   "outputs": [],
   "source": []
  },
  {
   "cell_type": "code",
   "execution_count": null,
   "id": "velvet-manchester",
   "metadata": {},
   "outputs": [],
   "source": []
  }
 ],
 "metadata": {
  "kernelspec": {
   "display_name": "Python 3",
   "language": "python",
   "name": "python3"
  },
  "language_info": {
   "codemirror_mode": {
    "name": "ipython",
    "version": 3
   },
   "file_extension": ".py",
   "mimetype": "text/x-python",
   "name": "python",
   "nbconvert_exporter": "python",
   "pygments_lexer": "ipython3",
   "version": "3.6.13"
  }
 },
 "nbformat": 4,
 "nbformat_minor": 5
}
