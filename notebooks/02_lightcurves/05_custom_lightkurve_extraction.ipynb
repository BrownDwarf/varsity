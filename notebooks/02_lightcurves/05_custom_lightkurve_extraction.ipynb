{
 "cells": [
  {
   "cell_type": "markdown",
   "id": "industrial-bracelet",
   "metadata": {},
   "source": [
    "# Custom lightkurve extraction\n",
    "\n",
    "Let's extract the lightcurve from the Sector 10 TPF so we know we can do it for Sector 36."
   ]
  },
  {
   "cell_type": "code",
   "execution_count": null,
   "id": "alternative-prince",
   "metadata": {},
   "outputs": [],
   "source": [
    "from astropy.time import Time\n",
    "import numpy as np\n",
    "import matplotlib.pyplot as plt\n",
    "import astropy.units as u\n",
    "\n",
    "%matplotlib inline\n",
    "%config InlineBackend.figure_format = 'retina'"
   ]
  },
  {
   "cell_type": "code",
   "execution_count": null,
   "id": "genetic-hollow",
   "metadata": {},
   "outputs": [],
   "source": [
    "import lightkurve as lk"
   ]
  },
  {
   "cell_type": "code",
   "execution_count": null,
   "id": "owned-cartridge",
   "metadata": {},
   "outputs": [],
   "source": [
    "from astropy.coordinates import SkyCoord"
   ]
  },
  {
   "cell_type": "code",
   "execution_count": null,
   "id": "rural-decimal",
   "metadata": {},
   "outputs": [],
   "source": [
    "sr = lk.search_tesscut('Luhman 16')\n",
    "sr"
   ]
  },
  {
   "cell_type": "code",
   "execution_count": null,
   "id": "pressing-psychiatry",
   "metadata": {},
   "outputs": [],
   "source": [
    "tpf = sr.download(cutout_size=(16, 51))"
   ]
  },
  {
   "cell_type": "markdown",
   "id": "confirmed-civilian",
   "metadata": {},
   "source": [
    "Coordinates from Apai et al. 2021"
   ]
  },
  {
   "cell_type": "code",
   "execution_count": null,
   "id": "backed-wright",
   "metadata": {},
   "outputs": [],
   "source": [
    "c_TESS = SkyCoord(ra=162.303282427*u.degree, \n",
    "             dec=-53.317573814*u.degree, \n",
    "             distance=1.0/0.50114 * u.pc, \n",
    "             pm_ra_cosdec=-2763*u.mas/u.yr,\n",
    "             pm_dec=+358*u.mas/u.yr, \n",
    "             radial_velocity=20.0*u.km/u.s,\n",
    "             frame='icrs',\n",
    "             obstime=Time('2019.26', format='decimalyear')\n",
    "            )"
   ]
  },
  {
   "cell_type": "code",
   "execution_count": null,
   "id": "reasonable-miniature",
   "metadata": {},
   "outputs": [],
   "source": [
    "x0_cutout, y0_cutout = tpf.wcs.world_to_pixel(c_TESS)\n",
    "x0, y0 = tpf.column+x0_cutout, tpf.row+y0_cutout"
   ]
  },
  {
   "cell_type": "code",
   "execution_count": null,
   "id": "portuguese-blood",
   "metadata": {},
   "outputs": [],
   "source": [
    "ny, nx = tpf.flux[0].shape"
   ]
  },
  {
   "cell_type": "code",
   "execution_count": null,
   "id": "dress-people",
   "metadata": {},
   "outputs": [],
   "source": [
    "xvec, yvec = np.arange(tpf.column, tpf.column+nx), np.arange(tpf.row, tpf.row+ny)"
   ]
  },
  {
   "cell_type": "code",
   "execution_count": null,
   "id": "intense-architecture",
   "metadata": {},
   "outputs": [],
   "source": [
    "xx, yy = np.meshgrid(xvec, yvec)"
   ]
  },
  {
   "cell_type": "code",
   "execution_count": null,
   "id": "national-pipeline",
   "metadata": {},
   "outputs": [],
   "source": [
    "radius_threshold = 1.1"
   ]
  },
  {
   "cell_type": "code",
   "execution_count": null,
   "id": "competent-antibody",
   "metadata": {},
   "outputs": [],
   "source": [
    "pixel_distance = np.sqrt((xx-x0)**2 + (yy-y0)**2)"
   ]
  },
  {
   "cell_type": "code",
   "execution_count": null,
   "id": "proprietary-hunter",
   "metadata": {},
   "outputs": [],
   "source": [
    "aperture_mask = pixel_distance < radius_threshold"
   ]
  },
  {
   "cell_type": "code",
   "execution_count": null,
   "id": "gothic-craps",
   "metadata": {},
   "outputs": [],
   "source": [
    "tpf.plot(aperture_mask=aperture_mask);"
   ]
  },
  {
   "cell_type": "code",
   "execution_count": null,
   "id": "owned-syndicate",
   "metadata": {},
   "outputs": [],
   "source": [
    "def background_subtract_lightcurve(tpf, aperture_mask):\n",
    "    '''background subtract a lightcurve'''\n",
    "    median_image = np.nanmedian(tpf.flux.value,axis=0)\n",
    "    lo = np.percentile(median_image, 15)\n",
    "    bkg_pixel_mask = (median_image < lo) & ~aperture_mask\n",
    "    \n",
    "    n_bkg_pixels = bkg_pixel_mask.sum()\n",
    "    n_tar_pixels = aperture_mask.sum()\n",
    "    \n",
    "    bkg_lc = tpf.to_lightcurve(aperture_mask=bkg_pixel_mask)\n",
    "    tar_lc = tpf.to_lightcurve(aperture_mask=aperture_mask)\n",
    "    net_lc = tar_lc - (bkg_lc / n_bkg_pixels * n_tar_pixels)\n",
    "    \n",
    "    return net_lc"
   ]
  },
  {
   "cell_type": "code",
   "execution_count": null,
   "id": "gorgeous-rally",
   "metadata": {},
   "outputs": [],
   "source": [
    "corrected_lc = background_subtract_lightcurve(tpf, aperture_mask).remove_outliers(sigma=3).normalize()"
   ]
  },
  {
   "cell_type": "code",
   "execution_count": null,
   "id": "crucial-veteran",
   "metadata": {},
   "outputs": [],
   "source": [
    "corrected_lc.plot();"
   ]
  },
  {
   "cell_type": "markdown",
   "id": "determined-federation",
   "metadata": {},
   "source": [
    "Woohoo!  Looks similar to Apai et al. 2021.  Let's compare it head-to-head."
   ]
  },
  {
   "cell_type": "code",
   "execution_count": null,
   "id": "alien-cookbook",
   "metadata": {},
   "outputs": [],
   "source": [
    "import glob"
   ]
  },
  {
   "cell_type": "code",
   "execution_count": null,
   "id": "legitimate-allen",
   "metadata": {},
   "outputs": [],
   "source": [
    "fns = glob.glob('../data/TESS/**/*.fits', recursive=True)\n",
    "fn = fns[0]"
   ]
  },
  {
   "cell_type": "code",
   "execution_count": null,
   "id": "quality-cleveland",
   "metadata": {},
   "outputs": [],
   "source": [
    "lc_pathos = lk.LightCurve.read(fn, format='pathos').remove_outliers(sigma=3).normalize()"
   ]
  },
  {
   "cell_type": "code",
   "execution_count": null,
   "id": "improving-details",
   "metadata": {},
   "outputs": [],
   "source": [
    "ax=corrected_lc.plot(label='This Work (lightkurve)')\n",
    "lc_pathos.plot(ax=ax, label='Apai et al. 2021 (pathos)')\n",
    "ax.set_ylim(0.85)\n",
    "plt.savefig('../figures/TESS_Sector_10_lightkurve_demo.png', dpi=300, bbox_inches='tight')"
   ]
  },
  {
   "cell_type": "markdown",
   "id": "subtle-garage",
   "metadata": {},
   "source": [
    "Great!  We get about the same answer.  Let's save our lightcurve to a file."
   ]
  },
  {
   "cell_type": "code",
   "execution_count": null,
   "id": "comparative-alberta",
   "metadata": {},
   "outputs": [],
   "source": [
    "aperture_mask.sum()"
   ]
  },
  {
   "cell_type": "code",
   "execution_count": null,
   "id": "dressed-emission",
   "metadata": {},
   "outputs": [],
   "source": [
    "corrected_lc.to_fits(path='../data/TESS/lightkurve_custom_4pixel.fits', aperture_mask=aperture_mask)"
   ]
  }
 ],
 "metadata": {
  "kernelspec": {
   "display_name": "Python 3",
   "language": "python",
   "name": "python3"
  },
  "language_info": {
   "codemirror_mode": {
    "name": "ipython",
    "version": 3
   },
   "file_extension": ".py",
   "mimetype": "text/x-python",
   "name": "python",
   "nbconvert_exporter": "python",
   "pygments_lexer": "ipython3",
   "version": "3.6.13"
  }
 },
 "nbformat": 4,
 "nbformat_minor": 5
}
