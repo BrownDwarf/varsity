{
 "cells": [
  {
   "cell_type": "markdown",
   "id": "parliamentary-scenario",
   "metadata": {},
   "source": [
    "# Initialize data-model comparisons"
   ]
  },
  {
   "cell_type": "code",
   "execution_count": null,
   "id": "going-density",
   "metadata": {},
   "outputs": [],
   "source": [
    "import pandas as pd\n",
    "import matplotlib.pyplot as plt\n",
    "import glob\n",
    "import astropy.units as u\n",
    "%config InlineBackend.figure_format = 'retina'"
   ]
  },
  {
   "cell_type": "code",
   "execution_count": null,
   "id": "accepted-essay",
   "metadata": {},
   "outputs": [],
   "source": [
    "import numpy as np"
   ]
  },
  {
   "cell_type": "code",
   "execution_count": null,
   "id": "legendary-science",
   "metadata": {},
   "outputs": [],
   "source": [
    "df = pd.read_csv('../../sf/luhman16A_btjd_2285p65/m110/output/marley_grid/run01/spec_config.csv')"
   ]
  },
  {
   "cell_type": "code",
   "execution_count": null,
   "id": "sustainable-pioneer",
   "metadata": {},
   "outputs": [],
   "source": [
    "df.head()"
   ]
  },
  {
   "cell_type": "code",
   "execution_count": null,
   "id": "capable-optimization",
   "metadata": {},
   "outputs": [],
   "source": [
    "plt.rcParams['figure.facecolor'] = 'white'"
   ]
  },
  {
   "cell_type": "code",
   "execution_count": null,
   "id": "pregnant-marriage",
   "metadata": {},
   "outputs": [],
   "source": [
    "plt.step(df.wl, df.data, label='IGRINS $m=110$')\n",
    "plt.step(df.wl, df.model_composite, label='Sonora cloud-free \\n$T=1350$ K, $\\log{g}=4.5$')\n",
    "plt.legend();\n",
    "plt.xlabel('$\\lambda \\; (\\AA)$')\n",
    "plt.ylabel('$\\propto$ Flux')\n",
    "plt.ylim(0)\n",
    "plt.title('Luhman 16 quicklook')\n",
    "plt.savefig('../../figures/Luhman16_quicklook.png', dpi=300, bbox_inches='tight')"
   ]
  },
  {
   "cell_type": "markdown",
   "id": "great-forwarding",
   "metadata": {},
   "source": [
    "## Add a cloudy mixture model component"
   ]
  },
  {
   "cell_type": "code",
   "execution_count": null,
   "id": "double-anderson",
   "metadata": {},
   "outputs": [],
   "source": [
    "morley_clouds_fns = sorted(glob.glob('/home/gully/libraries/raw/morley_clouds_20210322/ldwarf_specs/*.spec'))"
   ]
  },
  {
   "cell_type": "code",
   "execution_count": null,
   "id": "rural-affairs",
   "metadata": {},
   "outputs": [],
   "source": [
    "len(morley_clouds_fns)"
   ]
  },
  {
   "cell_type": "code",
   "execution_count": null,
   "id": "heated-seminar",
   "metadata": {},
   "outputs": [],
   "source": [
    "fn = morley_clouds_fns[5]"
   ]
  },
  {
   "cell_type": "code",
   "execution_count": null,
   "id": "standing-proof",
   "metadata": {},
   "outputs": [],
   "source": [
    "fn"
   ]
  },
  {
   "cell_type": "code",
   "execution_count": null,
   "id": "technological-customer",
   "metadata": {},
   "outputs": [],
   "source": [
    "! ls /home/gully/libraries/raw/morley_clouds_20210322/ldwarf_specs/"
   ]
  },
  {
   "cell_type": "code",
   "execution_count": null,
   "id": "numeric-haven",
   "metadata": {},
   "outputs": [],
   "source": [
    "! head -n 4 /home/gully/libraries/raw/morley_clouds_20210322/ldwarf_specs/t1600g316f2_m0.0_co1.0.spec"
   ]
  },
  {
   "cell_type": "code",
   "execution_count": null,
   "id": "further-miller",
   "metadata": {},
   "outputs": [],
   "source": [
    "! head -n 4 /home/gully/libraries/raw/marley/sp_t1000g178nc_m0.0"
   ]
  },
  {
   "cell_type": "markdown",
   "id": "little-episode",
   "metadata": {},
   "source": [
    "Hmmm the *units* differ, but are still compatible.  Let's use astropy to convert them to the same unit."
   ]
  },
  {
   "cell_type": "code",
   "execution_count": null,
   "id": "electronic-incentive",
   "metadata": {},
   "outputs": [],
   "source": [
    "df_model = pd.read_csv(fn, skiprows=[0,1], delim_whitespace=True, names=['wl_um','flux'])\n",
    "df_model = df_model.sort_values('wl_um').reset_index(drop=True)"
   ]
  },
  {
   "cell_type": "code",
   "execution_count": null,
   "id": "opposed-stability",
   "metadata": {},
   "outputs": [],
   "source": [
    "df_nc = pd.read_csv('/home/gully/libraries/raw/marley/sp_t1300g178nc_m0.0', skiprows=[0,1], delim_whitespace=True, names=['wl_um','flux'])\n",
    "df_nc = df_nc.sort_values('wl_um').reset_index(drop=True)"
   ]
  },
  {
   "cell_type": "code",
   "execution_count": null,
   "id": "emerging-shirt",
   "metadata": {},
   "outputs": [],
   "source": [
    "marley_unit = u.erg/u.cm**2/u.s/u.Hz\n",
    "morley_unit = u.Watt/u.m**2/u.m\n",
    "\n",
    "morley_flux_w_units = (df_model.flux.values*morley_unit)\n",
    "morley_wavelength = df_model.wl_um.values*u.micron\n",
    "\n",
    "morley_cgs = morley_flux_w_units.to(marley_unit, equivalencies=u.spectral_density(morley_wavelength))"
   ]
  },
  {
   "cell_type": "code",
   "execution_count": null,
   "id": "accessible-volleyball",
   "metadata": {},
   "outputs": [],
   "source": [
    "df_model['flux_cgs'] = morley_cgs\n",
    "df_nc['flux_cgs'] = df_nc.flux"
   ]
  },
  {
   "cell_type": "code",
   "execution_count": null,
   "id": "alien-worse",
   "metadata": {},
   "outputs": [],
   "source": [
    "def trim_to_tess_and_IGRINS(df_model):\n",
    "    '''Trim a dataframe to only TESS and IGRINS bandpass'''\n",
    "    tess_mask = (df_model.wl_um > 0.6) & (df_model.wl_um < 1.050)\n",
    "    igrins_mask = (df_model.wl_um > 1.45) & (df_model.wl_um < 2.55)\n",
    "    df_model = df_model[tess_mask | igrins_mask].reset_index(drop=True)\n",
    "    return df_model"
   ]
  },
  {
   "cell_type": "code",
   "execution_count": null,
   "id": "juvenile-bearing",
   "metadata": {},
   "outputs": [],
   "source": [
    "df_clouds = trim_to_tess_and_IGRINS(df_model)"
   ]
  },
  {
   "cell_type": "code",
   "execution_count": null,
   "id": "bright-portfolio",
   "metadata": {},
   "outputs": [],
   "source": [
    "df_nc = trim_to_tess_and_IGRINS(df_nc)"
   ]
  },
  {
   "cell_type": "code",
   "execution_count": null,
   "id": "spiritual-residence",
   "metadata": {},
   "outputs": [],
   "source": [
    "plt.step(df_clouds.wl_um, df_clouds.flux_cgs, label='Cloudy')\n",
    "plt.step(df_nc.wl_um, df_nc.flux_cgs, label='Cloud-free')\n",
    "plt.title(r'$T_{\\mathrm{eff}}$ = 1000 K, $g=178$ m/s$^2$')\n",
    "plt.yscale('log')\n",
    "plt.xscale('log')\n",
    "plt.legend(loc='best');"
   ]
  },
  {
   "cell_type": "markdown",
   "id": "integrated-howard",
   "metadata": {},
   "source": [
    "Awesome!  That looks right!  On average, the clouds are brighter than the cloud-free atmosphere, for the same sized patch."
   ]
  },
  {
   "cell_type": "markdown",
   "id": "extra-greenhouse",
   "metadata": {},
   "source": [
    "Let's overplot for just the range of the above IGRINS order."
   ]
  },
  {
   "cell_type": "code",
   "execution_count": null,
   "id": "limited-enforcement",
   "metadata": {},
   "outputs": [],
   "source": [
    "plt.step(df.wl, df.data, label='IGRINS $m=110$')\n",
    "plt.step(df.wl, df.model_composite, label='Sonora cloud-free \\n$T=1350$ K, $\\log{g}=4.5$, $v\\sin{i}=\\;30\\;$km/s')\n",
    "plt.legend();\n",
    "plt.xlabel('$\\lambda \\; (\\AA)$')\n",
    "plt.ylabel('$\\propto$ Flux')\n",
    "plt.ylim(0)\n",
    "plt.title('Luhman 16 quicklook')\n",
    "plt.savefig('../../figures/Luhman16_quicklook.png', dpi=300, bbox_inches='tight')"
   ]
  },
  {
   "cell_type": "code",
   "execution_count": null,
   "id": "entertaining-extreme",
   "metadata": {},
   "outputs": [],
   "source": [
    "from scipy.ndimage import gaussian_filter1d"
   ]
  },
  {
   "cell_type": "code",
   "execution_count": null,
   "id": "electric-independence",
   "metadata": {},
   "outputs": [],
   "source": [
    "gaussian_filter1d(df_nc.flux_cgs, sigma=25)"
   ]
  },
  {
   "cell_type": "code",
   "execution_count": null,
   "id": "fuzzy-consideration",
   "metadata": {},
   "outputs": [],
   "source": [
    "plt.figure(figsize=(15, 6))\n",
    "plt.step(df.wl/10000, df.data*1e-6, label='IGRINS $m=110$', color='k')\n",
    "\n",
    "smoothed_cloudy = gaussian_filter1d(df_clouds.flux_cgs, sigma=2)\n",
    "smoothed_nocloud = gaussian_filter1d(df_nc.flux_cgs, sigma=11)\n",
    "ff = 0.4\n",
    "#net = ff*smoothed_cloudy + (1-ff)*smoothed_nocloud\n",
    "\n",
    "#plt.step(df_nc.wl_um, net, label='Composite ($f=40$)')\n",
    "\n",
    "plt.step(df_nc.wl_um, (1-ff)*smoothed_nocloud, label='Cloud-free')\n",
    "plt.step(df_clouds.wl_um, ff*smoothed_cloudy, label='Cloudy')\n",
    "plt.title(r'$T_{\\mathrm{eff}}$ = 1000 K, $g=178$ m/s$^2$')\n",
    "plt.legend(loc='best');\n",
    "plt.xlim(1.6220, 1.64000)"
   ]
  },
  {
   "cell_type": "code",
   "execution_count": null,
   "id": "injured-practice",
   "metadata": {},
   "outputs": [],
   "source": [
    "from muler.igrins import IGRINSSpectrum"
   ]
  },
  {
   "cell_type": "code",
   "execution_count": null,
   "id": "filled-emerald",
   "metadata": {},
   "outputs": [],
   "source": [
    "reduced_fns = glob.glob('../../data/IGRINS/originals/GS-2021A-DD-104/*/reduced/SDCK*.spec_a0v.fits')"
   ]
  },
  {
   "cell_type": "code",
   "execution_count": null,
   "id": "environmental-traffic",
   "metadata": {},
   "outputs": [],
   "source": [
    "spec1 = IGRINSSpectrum(file=reduced_fns[1], order=10).normalize()"
   ]
  },
  {
   "cell_type": "code",
   "execution_count": null,
   "id": "commercial-permit",
   "metadata": {},
   "outputs": [],
   "source": [
    "spec1"
   ]
  },
  {
   "cell_type": "code",
   "execution_count": null,
   "id": "frozen-beaver",
   "metadata": {},
   "outputs": [],
   "source": [
    "ax = spec1.plot()\n",
    "plt.figure(figsize=(15, 6))\n",
    "#plt.step(df.wl/10000, df.data*1e-6, label='IGRINS $m=110$', color='k')\n",
    "\n",
    "smoothed_cloudy = gaussian_filter1d(df_clouds.flux_cgs, sigma=2)\n",
    "smoothed_nocloud = gaussian_filter1d(df_nc.flux_cgs, sigma=12)\n",
    "ff = 0.4\n",
    "#net = ff*smoothed_cloudy + (1-ff)*smoothed_nocloud\n",
    "\n",
    "#plt.step(df_nc.wl_um, net, label='Composite ($f=40$)')\n",
    "\n",
    "plt.step(df_nc.wl_um, (1-ff)*smoothed_nocloud, label='Cloud-free')\n",
    "plt.step(df_clouds.wl_um, ff*smoothed_cloudy, label='Cloudy')\n",
    "plt.title(r'$T_{\\mathrm{eff}}$ = 1000 K, $g=178$ m/s$^2$')\n",
    "plt.legend(loc='best');\n",
    "plt.xlim(2.240, 2.2600)"
   ]
  },
  {
   "cell_type": "code",
   "execution_count": null,
   "id": "duplicate-projection",
   "metadata": {},
   "outputs": [],
   "source": []
  }
 ],
 "metadata": {
  "kernelspec": {
   "display_name": "Python 3",
   "language": "python",
   "name": "python3"
  },
  "language_info": {
   "codemirror_mode": {
    "name": "ipython",
    "version": 3
   },
   "file_extension": ".py",
   "mimetype": "text/x-python",
   "name": "python",
   "nbconvert_exporter": "python",
   "pygments_lexer": "ipython3",
   "version": "3.6.13"
  }
 },
 "nbformat": 4,
 "nbformat_minor": 5
}
