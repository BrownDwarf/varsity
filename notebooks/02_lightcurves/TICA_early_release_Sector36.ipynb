{
 "cells": [
  {
   "cell_type": "markdown",
   "metadata": {},
   "source": [
    "# TESS Early Release TICA products custom extraction\n",
    "## For Sector 36 Orbit 1& 2\n",
    "\n",
    "April 9, 2021"
   ]
  },
  {
   "cell_type": "code",
   "execution_count": null,
   "metadata": {},
   "outputs": [],
   "source": [
    "%config Completer.use_jedi = False"
   ]
  },
  {
   "cell_type": "code",
   "execution_count": null,
   "metadata": {},
   "outputs": [],
   "source": [
    "import pandas as pd\n",
    "import lightkurve as lk\n",
    "from astropy.time import Time\n",
    "import matplotlib.pyplot as plt\n",
    "%matplotlib inline\n",
    "%config InlineBackend.figure_format = 'retina'"
   ]
  },
  {
   "cell_type": "markdown",
   "metadata": {},
   "source": [
    "## TESS Lightcurves"
   ]
  },
  {
   "cell_type": "code",
   "execution_count": null,
   "metadata": {},
   "outputs": [],
   "source": [
    "btjd_now = Time.now().jd - 2457000.0\n",
    "btjd_now = 2314.3505296814255"
   ]
  },
  {
   "cell_type": "markdown",
   "metadata": {},
   "source": [
    "## Early Release data products\n",
    "\n",
    "TICA now offers [early release data products](https://heasarc.gsfc.nasa.gov/docs/tess/a-beta-trial-of-quick-look-tess-orbit-data-early-release-of-sector-35-orbit-1-calibrated-full-frame-images.html) through TICA full frame images.\n",
    "\n",
    "There are two ways to try to access TICA:\n",
    "\n",
    "- With tess-cloud, vis-a-vis the demo on [this GitHub Issue](https://github.com/lightkurve/lightkurve/issues/993)\n",
    "- Download the full FFI frames yourself from the [TICA curl scripts](https://archive.stsci.edu/hlsp/tica)\n",
    "\n",
    "Both of these strategies are not well-proven!  Let's use `tess-point` to get the coordinates."
   ]
  },
  {
   "cell_type": "markdown",
   "metadata": {},
   "source": [
    "### Luhman 16"
   ]
  },
  {
   "cell_type": "markdown",
   "metadata": {},
   "source": [
    "`$ python -m tess_stars2px -c 162.303282427 -53.317573814`\n",
    "\n",
    "```bash\n",
    "# TIC     |   RA      |   Dec     | EclipticLong | EclipticLat | Sector | Camera | Ccd | ColPix | RowPix | EdgeWarn\n",
    "000000000 | 162.303282 | -53.317574 | 194.986936 | -53.902482 | 10 | 2 | 1 | 1766.327733 |    7.550842 | 0\n",
    "000000000 | 162.303282 | -53.317574 | 194.986936 | -53.902482 | 36 | 3 | 1 |  541.096313 |  156.639815 | 0\n",
    "000000000 | 162.303282 | -53.317574 | 194.986936 | -53.902482 | 37 | 3 | 2 | 1054.536935 |   55.021891 | 0\n",
    "```"
   ]
  },
  {
   "cell_type": "code",
   "execution_count": null,
   "metadata": {},
   "outputs": [],
   "source": [
    "from astropy.io import fits\n",
    "import glob\n",
    "from astropy.wcs import WCS\n",
    "from astropy.coordinates import SkyCoord\n",
    "import astropy.units as u\n",
    "\n",
    "import numpy as np\n",
    "import tqdm"
   ]
  },
  {
   "cell_type": "code",
   "execution_count": null,
   "metadata": {},
   "outputs": [],
   "source": [
    "#object_name = 'Luhman 16'\n",
    "#sr = lk.search_tesscut(object_name)\n",
    "#tpf = sr.download(cutout_size=(41, 15))"
   ]
  },
  {
   "cell_type": "markdown",
   "metadata": {},
   "source": [
    "Ok, so we want camera 4, ccd 1."
   ]
  },
  {
   "cell_type": "code",
   "execution_count": null,
   "metadata": {},
   "outputs": [],
   "source": [
    "tica_fns = glob.glob('../../data/TESS/TICA/s0036/cam3-ccd1/*.fits')"
   ]
  },
  {
   "cell_type": "code",
   "execution_count": null,
   "metadata": {},
   "outputs": [],
   "source": [
    "len(tica_fns)"
   ]
  },
  {
   "cell_type": "markdown",
   "metadata": {},
   "source": [
    "Get a preliminary image to set the mask"
   ]
  },
  {
   "cell_type": "code",
   "execution_count": null,
   "metadata": {},
   "outputs": [],
   "source": [
    "hdus = fits.open(tica_fns[123])\n",
    "\n",
    "hdr = hdus[0].header"
   ]
  },
  {
   "cell_type": "code",
   "execution_count": null,
   "metadata": {},
   "outputs": [],
   "source": [
    "time_btjd = hdr['MIDTJD']"
   ]
  },
  {
   "cell_type": "code",
   "execution_count": null,
   "metadata": {},
   "outputs": [],
   "source": [
    "wcs = WCS(hdr)"
   ]
  },
  {
   "cell_type": "code",
   "execution_count": null,
   "metadata": {},
   "outputs": [],
   "source": [
    "coord = SkyCoord(162.303282427*u.deg, -53.317573814*u.deg)\n",
    "\n",
    "yc, xc = wcs.world_to_pixel(coord)\n",
    "xc, yc = int(xc), int(yc)\n",
    "yc, xc"
   ]
  },
  {
   "cell_type": "markdown",
   "metadata": {},
   "source": [
    "Wow, really close to what TESS-point said!  Now stack all the data into a datacube:"
   ]
  },
  {
   "cell_type": "code",
   "execution_count": null,
   "metadata": {},
   "outputs": [],
   "source": [
    "dw = 17"
   ]
  },
  {
   "cell_type": "code",
   "execution_count": null,
   "metadata": {},
   "outputs": [],
   "source": [
    "times = []\n",
    "data = []"
   ]
  },
  {
   "cell_type": "code",
   "execution_count": null,
   "metadata": {},
   "outputs": [],
   "source": [
    "import time"
   ]
  },
  {
   "cell_type": "code",
   "execution_count": null,
   "metadata": {},
   "outputs": [],
   "source": [
    "time.sleep(10) # wait for the most recent file to complete downloading."
   ]
  },
  {
   "cell_type": "code",
   "execution_count": null,
   "metadata": {},
   "outputs": [],
   "source": [
    "for i, fn in tqdm.tqdm(enumerate(tica_fns)):\n",
    "    hdus = fits.open(fn)\n",
    "    hdr = hdus[0].header\n",
    "    times.append(hdr['MIDTJD'])\n",
    "    \n",
    "    img = hdus[0].data\n",
    "    subimg = img[xc-dw:xc+dw, yc-dw:yc+dw]\n",
    "    data.append(subimg)\n",
    "    hdus.close()"
   ]
  },
  {
   "cell_type": "code",
   "execution_count": null,
   "metadata": {},
   "outputs": [],
   "source": [
    "datacube = np.array(data)\n",
    "times = np.array(times)\n",
    "indices = times.argsort()\n",
    "times = times[indices]\n",
    "datacube = datacube[indices, :, :]"
   ]
  },
  {
   "cell_type": "code",
   "execution_count": null,
   "metadata": {},
   "outputs": [],
   "source": [
    "median_frame = np.nanmedian(datacube, axis=0)"
   ]
  },
  {
   "cell_type": "code",
   "execution_count": null,
   "metadata": {},
   "outputs": [],
   "source": [
    "lo, mediumlo, mid, hi = np.nanpercentile(median_frame, (1, 15, 50, 90))"
   ]
  },
  {
   "cell_type": "markdown",
   "metadata": {},
   "source": [
    "Ok, good spot-check, we are pointed at the right thing!"
   ]
  },
  {
   "cell_type": "code",
   "execution_count": null,
   "metadata": {},
   "outputs": [],
   "source": [
    "vec = np.arange(34)\n",
    "xx, yy = np.meshgrid(vec, vec)\n",
    "dist = np.hypot(xx-17, yy-17)"
   ]
  },
  {
   "cell_type": "code",
   "execution_count": null,
   "metadata": {},
   "outputs": [],
   "source": [
    "aperture_mask = (median_frame > mid) & (dist < 2)"
   ]
  },
  {
   "cell_type": "code",
   "execution_count": null,
   "metadata": {},
   "outputs": [],
   "source": [
    "aperture_mask.sum()"
   ]
  },
  {
   "cell_type": "code",
   "execution_count": null,
   "metadata": {},
   "outputs": [],
   "source": [
    "bkg_mask = (median_frame < mediumlo) & (dist > 15)"
   ]
  },
  {
   "cell_type": "code",
   "execution_count": null,
   "metadata": {},
   "outputs": [],
   "source": [
    "bkg_mask.sum()"
   ]
  },
  {
   "cell_type": "code",
   "execution_count": null,
   "metadata": {},
   "outputs": [],
   "source": [
    "plt.imshow(median_frame*~aperture_mask, vmin=mediumlo, vmax=hi);\n",
    "plt.scatter([17], [17], marker='o', s=500, fc='none', ec='w')"
   ]
  },
  {
   "cell_type": "markdown",
   "metadata": {},
   "source": [
    "Hmmm, where is the source?"
   ]
  },
  {
   "cell_type": "code",
   "execution_count": null,
   "metadata": {},
   "outputs": [],
   "source": [
    "plt.imshow(aperture_mask);\n",
    "plt.scatter([17], [17], marker='o', s=500, fc='none', ec='w')"
   ]
  },
  {
   "cell_type": "code",
   "execution_count": null,
   "metadata": {},
   "outputs": [],
   "source": [
    "plt.imshow(bkg_mask);\n",
    "plt.scatter([17], [17], marker='o', s=500, fc='none', ec='w')"
   ]
  },
  {
   "cell_type": "code",
   "execution_count": null,
   "metadata": {},
   "outputs": [],
   "source": [
    "n_ap = np.sum(aperture_mask)"
   ]
  },
  {
   "cell_type": "code",
   "execution_count": null,
   "metadata": {},
   "outputs": [],
   "source": [
    "n_bkg = np.sum(bkg_mask)"
   ]
  },
  {
   "cell_type": "code",
   "execution_count": null,
   "metadata": {},
   "outputs": [],
   "source": [
    "flux = np.sum(datacube*aperture_mask, axis=(1,2)) - np.sum(datacube*bkg_mask, axis=(1,2))/n_bkg*n_ap"
   ]
  },
  {
   "cell_type": "code",
   "execution_count": null,
   "metadata": {},
   "outputs": [],
   "source": [
    "from astropy.time import Time"
   ]
  },
  {
   "cell_type": "code",
   "execution_count": null,
   "metadata": {},
   "outputs": [],
   "source": [
    "lc_tica = lk.LightCurve(time=Time(times,format='btjd'), flux=flux).normalize().remove_outliers()"
   ]
  },
  {
   "cell_type": "markdown",
   "metadata": {},
   "source": [
    "Neat! We have a lightcurve.  Let's overplot the four IGRINS 2021A DDT epochs."
   ]
  },
  {
   "cell_type": "code",
   "execution_count": null,
   "metadata": {},
   "outputs": [],
   "source": [
    "df = pd.read_csv('../../data/IGRINS/2021A_metadata_log.csv')"
   ]
  },
  {
   "cell_type": "code",
   "execution_count": null,
   "metadata": {},
   "outputs": [],
   "source": [
    "bad_mask = (((lc_tica.time.value > 2280.8) & (lc_tica.time.value<2282.3) ) | \n",
    "            ((lc_tica.time.value > 2293.8) & (lc_tica.time.value<2295.1) ) )"
   ]
  },
  {
   "cell_type": "code",
   "execution_count": null,
   "metadata": {},
   "outputs": [],
   "source": [
    "lc_tica = lc_tica[~bad_mask]"
   ]
  },
  {
   "cell_type": "code",
   "execution_count": null,
   "metadata": {},
   "outputs": [],
   "source": [
    "ax = lc_tica.plot(drawstyle='steps-mid')\n",
    "\n",
    "for i in range(len(df)):\n",
    "    ax.axvline(df.iloc[i].BTJD)\n",
    "    \n",
    "ax.axvline(-999, color=None, label='IGRINS Visits: March 11, 12, 13, & 17')\n",
    "ax.fill_between([2280.8, 2282.3], 1.1, alpha=0.8, color='#ecf0f1', zorder=10, label='TESS thermal settling')\n",
    "ax.fill_between([2293.8, 2295.1], 1.1, alpha=0.8, color='#ecf0f1', zorder=10)\n",
    "ax.axvline(btjd_now, color='#e67e22', label='April 9, 2021', linestyle='dashed')\n",
    "ax.set_ylim(0.93, 1.08)\n",
    "ax.set_xlim(2280, 2315)\n",
    "plt.legend(loc='best')\n",
    "plt.savefig('../../figures/TESS_S36_LUH16_IGRINS_overview.png', bbox_inches='tight', dpi=300)"
   ]
  },
  {
   "cell_type": "code",
   "execution_count": null,
   "metadata": {},
   "outputs": [],
   "source": [
    "#! xdg-open ../../figures/"
   ]
  },
  {
   "cell_type": "code",
   "execution_count": null,
   "metadata": {},
   "outputs": [],
   "source": [
    "ax = lc_tica.plot(drawstyle='steps-mid', zorder=10, lw=1, label='TESS Sector 36 (Early Release)')\n",
    "\n",
    "for i in range(len(df)):\n",
    "    ax.axvline(df.iloc[i].BTJD, lw=0.3)\n",
    "    \n",
    "ax.axvline(-999, lw=0.3, label='IGRINS visits')\n",
    "ax.set_xlim(2285, 2292)\n",
    "plt.legend(loc='best')\n",
    "\n",
    "plt.savefig('../../figures/TESS_S36_LUH16_IGRINS_DDT.png', bbox_inches='tight', dpi=300)"
   ]
  },
  {
   "cell_type": "markdown",
   "metadata": {},
   "source": [
    "Neat! Let's save the lightcurve."
   ]
  },
  {
   "cell_type": "code",
   "execution_count": null,
   "metadata": {},
   "outputs": [],
   "source": [
    "hdu = lc_tica.to_fits('../../data/TESS/LUH16_TESS_S36_lk_custom_4pixel.fits', overwrite=True)"
   ]
  },
  {
   "cell_type": "code",
   "execution_count": null,
   "metadata": {},
   "outputs": [],
   "source": [
    "out = lc_tica.to_csv('../../data/TESS/LUH16_TESS_S36_lk_custom_4pixel.csv')"
   ]
  },
  {
   "cell_type": "code",
   "execution_count": null,
   "metadata": {},
   "outputs": [],
   "source": [
    "df['TESS_flux'] = 0.0"
   ]
  },
  {
   "cell_type": "code",
   "execution_count": null,
   "metadata": {},
   "outputs": [],
   "source": [
    "for i in range(8):\n",
    "    df.loc[i, \"TESS_flux\"] = lc_tica[np.argmin(np.abs(lc_tica.time.value - df.iloc[i].BTJD))]['flux'].value"
   ]
  },
  {
   "cell_type": "code",
   "execution_count": null,
   "metadata": {},
   "outputs": [],
   "source": [
    "df"
   ]
  },
  {
   "cell_type": "code",
   "execution_count": null,
   "metadata": {},
   "outputs": [],
   "source": [
    "plt.hist(lc_tica.flux.value, bins=np.arange(0.92, 1.1, 0.002));\n",
    "for i in range(8):\n",
    "    plt.axvline(df.TESS_flux[i], color='#e67e22', linestyle='dashed')\n",
    "plt.xlabel('TESS Flux')\n",
    "plt.title('TESS Sector 36')"
   ]
  },
  {
   "cell_type": "code",
   "execution_count": null,
   "metadata": {},
   "outputs": [],
   "source": [
    "lc_s10 = lk.TessLightCurve.read('../../data/TESS/lightkurve_custom_4pixel.fits')"
   ]
  },
  {
   "cell_type": "code",
   "execution_count": null,
   "metadata": {},
   "outputs": [],
   "source": [
    "plt.hist(lc_s10.flux.value, bins=np.arange(0.92, 1.1, 0.002));\n",
    "for i in range(8):\n",
    "    plt.axvline(df.TESS_flux[i], color='#e67e22', linestyle='dashed')"
   ]
  },
  {
   "cell_type": "code",
   "execution_count": null,
   "metadata": {},
   "outputs": [],
   "source": [
    "lc_s10.plot()"
   ]
  },
  {
   "cell_type": "code",
   "execution_count": null,
   "metadata": {},
   "outputs": [],
   "source": []
  }
 ],
 "metadata": {
  "kernelspec": {
   "display_name": "Python 3",
   "language": "python",
   "name": "python3"
  },
  "language_info": {
   "codemirror_mode": {
    "name": "ipython",
    "version": 3
   },
   "file_extension": ".py",
   "mimetype": "text/x-python",
   "name": "python",
   "nbconvert_exporter": "python",
   "pygments_lexer": "ipython3",
   "version": "3.6.13"
  }
 },
 "nbformat": 4,
 "nbformat_minor": 4
}
