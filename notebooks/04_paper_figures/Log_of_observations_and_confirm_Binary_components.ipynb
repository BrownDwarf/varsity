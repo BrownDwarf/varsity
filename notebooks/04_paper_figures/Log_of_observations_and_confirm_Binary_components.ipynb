{
 "cells": [
  {
   "cell_type": "markdown",
   "metadata": {},
   "source": [
    "# Let's make a log of the LUH16AB Binary components\n",
    "\n",
    "| BTJD | Binary Component | Nod position| TESS Flux|\n",
    "|--|--|--| -- |\n",
    "|x | A | A | -- |\n",
    "|y| B | A| -- |"
   ]
  },
  {
   "cell_type": "markdown",
   "metadata": {},
   "source": [
    "The header info in the IGRINS Slit Viewing Camera was malformed.  Let's attempt to fix it so we can preserve our nice figures."
   ]
  },
  {
   "cell_type": "code",
   "execution_count": null,
   "metadata": {},
   "outputs": [],
   "source": [
    "import lightkurve as lk"
   ]
  },
  {
   "cell_type": "code",
   "execution_count": null,
   "metadata": {},
   "outputs": [],
   "source": [
    "lk.__version__"
   ]
  },
  {
   "cell_type": "code",
   "execution_count": null,
   "metadata": {},
   "outputs": [],
   "source": [
    "# %load /Users/obsidian/Desktop/defaults.py\n",
    "import pandas as pd\n",
    "import numpy as np\n",
    "import matplotlib.pyplot as plt\n",
    "%matplotlib inline\n",
    "%config InlineBackend.figure_format = 'retina'"
   ]
  },
  {
   "cell_type": "code",
   "execution_count": null,
   "metadata": {},
   "outputs": [],
   "source": [
    "import sys\n",
    "import os"
   ]
  },
  {
   "cell_type": "code",
   "execution_count": null,
   "metadata": {},
   "outputs": [],
   "source": [
    "import aplpy"
   ]
  },
  {
   "cell_type": "code",
   "execution_count": null,
   "metadata": {},
   "outputs": [],
   "source": [
    "aplpy.__version__"
   ]
  },
  {
   "cell_type": "code",
   "execution_count": null,
   "metadata": {},
   "outputs": [],
   "source": [
    "from astropy.nddata import Cutout2D\n",
    "from astropy import units as u\n",
    "from astropy.coordinates import SkyCoord\n",
    "from astropy.visualization import (PercentileInterval, SqrtStretch,\n",
    "                                   ImageNormalize)\n",
    "from astropy.io import fits\n",
    "from astropy.wcs import WCS\n",
    "import montage_wrapper as montage"
   ]
  },
  {
   "cell_type": "code",
   "execution_count": null,
   "metadata": {},
   "outputs": [],
   "source": [
    "from reproject import reproject_interp, reproject_exact"
   ]
  },
  {
   "cell_type": "code",
   "execution_count": null,
   "metadata": {},
   "outputs": [],
   "source": [
    "pos = SkyCoord(ra='10 49 11.95', dec='-53 19 01.8', unit=(u.hourangle, u.deg), frame='icrs')"
   ]
  },
  {
   "cell_type": "markdown",
   "metadata": {},
   "source": [
    "### What imaging do we want?"
   ]
  },
  {
   "cell_type": "code",
   "execution_count": null,
   "metadata": {},
   "outputs": [],
   "source": [
    "rad_value = 60\n",
    "rad = rad_value*u.arcsecond\n",
    "diam = rad_value*2"
   ]
  },
  {
   "cell_type": "code",
   "execution_count": null,
   "metadata": {},
   "outputs": [],
   "source": [
    "def make_postage_stamp(im_in, output, hdu=None, vmin=None, vmax=None, radius=None):\n",
    "    '''Make a postage stamp image'''\n",
    "    fig = plt.figure(figsize=(5,5))\n",
    "    if radius is None:\n",
    "        radius = 60 * u.arcsecond\n",
    "    if hdu is None:\n",
    "        mosaic = aplpy.FITSFigure(im_in, north=True, figure = fig)\n",
    "    else:\n",
    "        mosaic = aplpy.FITSFigure(im_in,hdu=hdu, north=True, figure = fig)\n",
    "    mosaic.recenter(pos.ra,pos.dec, radius=radius.to(u.degree).value)  # degrees\n",
    "    if (vmin is not None) & (vmax is not None):\n",
    "        mosaic.show_grayscale(invert=True, interpolation='none', stretch='log',\n",
    "                              vmin=vmin, vmax=vmax)\n",
    "        mosaic.show_grayscale(invert=True, interpolation='none', stretch='log',\n",
    "                              vmin=vmin, vmax=vmax)        \n",
    "    else:\n",
    "        mosaic.show_grayscale(invert=True, interpolation='none', stretch='log')\n",
    "        mosaic.show_grayscale(invert=True, interpolation='none', stretch='log')\n",
    "    mosaic.tick_labels.set_font(size='small')\n",
    "    #mosaic.tick_labels.set_xformat(\"hh:mm:ss\")\n",
    "    mosaic.set_theme('paper')\n",
    "\n",
    "    aplpy.AxisLabels(mosaic).hide()\n",
    "    aplpy.TickLabels(mosaic).hide()\n",
    "\n",
    "    mosaic.add_scalebar(10.0 * u.arcsecond)\n",
    "    #fig.scalebar.show(1.0/3600.0*4.0)  # length in degrees\n",
    "    #mosaic.scalebar.set_length(4.0 * u.arcsecond)\n",
    "    mosaic.scalebar.set_label(\"$10^{\\prime\\prime}$\")\n",
    "    #mosaic.scalebar.set_corner('bottom right')\n",
    "    mosaic.scalebar.set_color('red')\n",
    "    mosaic.scalebar.set_linestyle('solid')\n",
    "    mosaic.scalebar.set_linewidth(5)  # points\n",
    "    mosaic.scalebar.set_font(size=12, weight='medium', \\\n",
    "                          stretch='normal', family='sans-serif', \\\n",
    "                          style='normal', variant='normal')\n",
    "\n",
    "    mosaic.save(output, dpi=300)"
   ]
  },
  {
   "cell_type": "markdown",
   "metadata": {},
   "source": [
    "### IGRINS Slit Viewing Camera"
   ]
  },
  {
   "cell_type": "code",
   "execution_count": null,
   "metadata": {},
   "outputs": [],
   "source": [
    "rad_value = 21\n",
    "rad = rad_value*u.arcsecond\n",
    "diam = rad_value*2"
   ]
  },
  {
   "cell_type": "code",
   "execution_count": null,
   "metadata": {},
   "outputs": [],
   "source": [
    "import glob"
   ]
  },
  {
   "cell_type": "code",
   "execution_count": null,
   "metadata": {},
   "outputs": [],
   "source": [
    "fns = sorted(glob.glob('../../data/IGRINS/originals/GS-2021A-DD-104/**/SDCS*.fits'))"
   ]
  },
  {
   "cell_type": "code",
   "execution_count": null,
   "metadata": {},
   "outputs": [],
   "source": [
    "fn = fns[0]\n",
    "hdu = fits.open(fn)"
   ]
  },
  {
   "cell_type": "code",
   "execution_count": null,
   "metadata": {},
   "outputs": [],
   "source": [
    "im_in = hdu\n",
    "output = 'Luhman16_{}x{}arcsec_IGRINS_20210311.png'.format(diam, diam)"
   ]
  },
  {
   "cell_type": "code",
   "execution_count": null,
   "metadata": {},
   "outputs": [],
   "source": [
    "hdu[1].header['CROTA1'] += 90\n",
    "hdu[1].header['CROTA2'] += 90"
   ]
  },
  {
   "cell_type": "code",
   "execution_count": null,
   "metadata": {},
   "outputs": [],
   "source": [
    "%%time\n",
    "make_postage_stamp(im_in, output, hdu=1, vmin=150, vmax=6000, radius=rad)"
   ]
  },
  {
   "cell_type": "code",
   "execution_count": null,
   "metadata": {},
   "outputs": [],
   "source": [
    "keep_keywords = ['MJD-OBS', 'TELRA', 'TELDEC', 'AMSTART']"
   ]
  },
  {
   "cell_type": "code",
   "execution_count": null,
   "metadata": {},
   "outputs": [],
   "source": [
    "def get_header_info(fn, ext=1):\n",
    "    df_out = pd.DataFrame()\n",
    "    hdu = fits.open(fn)\n",
    "    hdr = hdu[ext].header\n",
    "    return {key:hdr[key] for key in keep_keywords}"
   ]
  },
  {
   "cell_type": "code",
   "execution_count": null,
   "metadata": {},
   "outputs": [],
   "source": [
    "df_log = pd.DataFrame()\n",
    "for i, fn in enumerate(fns):\n",
    "    df = pd.DataFrame(get_header_info(fn), index=[i])\n",
    "    basename = os.path.basename(fn)\n",
    "    df['fn'] = basename\n",
    "    df_log = df_log.append(df)"
   ]
  },
  {
   "cell_type": "code",
   "execution_count": null,
   "metadata": {},
   "outputs": [],
   "source": [
    "redo = False"
   ]
  },
  {
   "cell_type": "code",
   "execution_count": null,
   "metadata": {},
   "outputs": [],
   "source": [
    "if redo:\n",
    "    df_log.to_excel('../../data/IGRINS/SVC_log_original.xlsx') # We changed the name of the labelled one."
   ]
  },
  {
   "cell_type": "markdown",
   "metadata": {},
   "source": [
    "Now we have to hand-label the components and nods with human visual inspection."
   ]
  },
  {
   "cell_type": "markdown",
   "metadata": {},
   "source": [
    "## Okay, now read in that labelled sheet"
   ]
  },
  {
   "cell_type": "code",
   "execution_count": null,
   "metadata": {},
   "outputs": [],
   "source": [
    "df_labelled = pd.read_csv('../../data/IGRINS/SVC_log_labelled_csv.csv')\n",
    "df_labelled = df_labelled.drop(columns=[df_labelled.columns[0]])"
   ]
  },
  {
   "cell_type": "markdown",
   "metadata": {},
   "source": [
    "Yay! Let's read in the headers of the spectra.\n",
    "\n",
    "## Spectra log"
   ]
  },
  {
   "cell_type": "code",
   "execution_count": null,
   "metadata": {},
   "outputs": [],
   "source": [
    "keep_keywords = ['MJD-OBS', 'TELRA', 'TELDEC', 'AMSTART', 'OBJECT']"
   ]
  },
  {
   "cell_type": "code",
   "execution_count": null,
   "metadata": {},
   "outputs": [],
   "source": [
    "fns = sorted(glob.glob('../../data/IGRINS/originals/GS-2021A-DD-104/**/SDCH*.fits'))"
   ]
  },
  {
   "cell_type": "code",
   "execution_count": null,
   "metadata": {},
   "outputs": [],
   "source": [
    "df_log_spec = pd.DataFrame()\n",
    "for i, fn in enumerate(fns):\n",
    "    df = pd.DataFrame(get_header_info(fn, ext=0), index=[i])\n",
    "    basename = os.path.basename(fn)\n",
    "    df['fn'] = basename\n",
    "    df_log_spec = df_log_spec.append(df)"
   ]
  },
  {
   "cell_type": "code",
   "execution_count": null,
   "metadata": {},
   "outputs": [],
   "source": [
    "pd.options.display.max_rows = 999"
   ]
  },
  {
   "cell_type": "code",
   "execution_count": null,
   "metadata": {},
   "outputs": [],
   "source": [
    "df_join = pd.concat([df_labelled, df_log_spec], axis=0, ignore_index=True)"
   ]
  },
  {
   "cell_type": "markdown",
   "metadata": {},
   "source": [
    "Awesome! I just spot-checked the table and it will totally work.  Let's apply some pandas manipulation to condense the table into a publishable product."
   ]
  },
  {
   "cell_type": "code",
   "execution_count": null,
   "metadata": {},
   "outputs": [],
   "source": [
    "df_join = df_join.sort_values('MJD-OBS').reset_index(drop=True)"
   ]
  },
  {
   "cell_type": "code",
   "execution_count": null,
   "metadata": {},
   "outputs": [],
   "source": [
    "from astropy.time import Time"
   ]
  },
  {
   "cell_type": "code",
   "execution_count": null,
   "metadata": {},
   "outputs": [],
   "source": [
    "df_join['BTJD'] = Time(df_join['MJD-OBS'], format='mjd').btjd"
   ]
  },
  {
   "cell_type": "code",
   "execution_count": null,
   "metadata": {},
   "outputs": [],
   "source": [
    "df_join = df_join.drop(columns=['MJD-OBS', 'TELRA', 'TELDEC', 'AMSTART', 'On Slit'])"
   ]
  },
  {
   "cell_type": "markdown",
   "metadata": {},
   "source": [
    "Transfer the target labels from surrounding SVC images that were inspected by eye."
   ]
  },
  {
   "cell_type": "code",
   "execution_count": null,
   "metadata": {},
   "outputs": [],
   "source": [
    "df_join = df_join.bfill()"
   ]
  },
  {
   "cell_type": "code",
   "execution_count": null,
   "metadata": {},
   "outputs": [],
   "source": [
    "df_join = df_join[df_join.fn.str.contains('SDCH')]"
   ]
  },
  {
   "cell_type": "code",
   "execution_count": null,
   "metadata": {},
   "outputs": [],
   "source": [
    "df_join['Night'] = df_join.fn.str.split('_').apply(lambda x: x[1])"
   ]
  },
  {
   "cell_type": "code",
   "execution_count": null,
   "metadata": {},
   "outputs": [],
   "source": [
    "df_join['File'] = df_join.fn.str.split('_').apply(lambda x: x[2]).str.split('.fits').apply(lambda x: x[0])"
   ]
  },
  {
   "cell_type": "code",
   "execution_count": null,
   "metadata": {},
   "outputs": [],
   "source": [
    "cols = ['Night','Binary Component','File', 'Nod Position', 'BTJD',]"
   ]
  },
  {
   "cell_type": "code",
   "execution_count": null,
   "metadata": {},
   "outputs": [],
   "source": [
    "df_join = df_join[cols]"
   ]
  },
  {
   "cell_type": "code",
   "execution_count": null,
   "metadata": {},
   "outputs": [],
   "source": [
    "df_join.set_index(['Night', 'Binary Component'])"
   ]
  },
  {
   "cell_type": "code",
   "execution_count": null,
   "metadata": {},
   "outputs": [],
   "source": [
    "df_final = df_join.set_index(['Night', 'File']).groupby(['Night', 'Binary Component']).BTJD.mean().to_frame()"
   ]
  },
  {
   "cell_type": "code",
   "execution_count": null,
   "metadata": {},
   "outputs": [],
   "source": [
    "print(df_final.to_latex(header=True))"
   ]
  },
  {
   "cell_type": "markdown",
   "metadata": {},
   "source": [
    "Let's trim the table to just the contents so that we can use the ApJ table header."
   ]
  },
  {
   "cell_type": "code",
   "execution_count": null,
   "metadata": {},
   "outputs": [],
   "source": [
    "df_final.reset_index().to_csv('../../data/IGRINS/2021A_metadata_log_CORRECT.csv', index=False)"
   ]
  },
  {
   "cell_type": "code",
   "execution_count": null,
   "metadata": {},
   "outputs": [],
   "source": [
    "lines = df_final.to_latex(header=True).split('\\n')[5:-3]\n",
    "output = ''\n",
    "for line in lines:\n",
    "    output += (line + '\\n')"
   ]
  },
  {
   "cell_type": "code",
   "execution_count": null,
   "metadata": {},
   "outputs": [],
   "source": [
    "print(output)"
   ]
  },
  {
   "cell_type": "code",
   "execution_count": null,
   "metadata": {},
   "outputs": [],
   "source": [
    "with open('../../document/paper1/IGRINS_obs_log.txt', 'w') as f:\n",
    "    f.write(output)"
   ]
  },
  {
   "cell_type": "markdown",
   "metadata": {},
   "source": [
    "### The end!"
   ]
  }
 ],
 "metadata": {
  "kernelspec": {
   "display_name": "Python 3",
   "language": "python",
   "name": "python3"
  },
  "language_info": {
   "codemirror_mode": {
    "name": "ipython",
    "version": 3
   },
   "file_extension": ".py",
   "mimetype": "text/x-python",
   "name": "python",
   "nbconvert_exporter": "python",
   "pygments_lexer": "ipython3",
   "version": "3.6.13"
  }
 },
 "nbformat": 4,
 "nbformat_minor": 2
}
