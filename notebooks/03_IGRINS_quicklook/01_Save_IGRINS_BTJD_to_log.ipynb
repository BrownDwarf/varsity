{
 "cells": [
  {
   "cell_type": "markdown",
   "metadata": {},
   "source": [
    "# Save IGRINS observation times to a machine readable log"
   ]
  },
  {
   "cell_type": "markdown",
   "metadata": {},
   "source": [
    "We'll need this to register the TESS observations."
   ]
  },
  {
   "cell_type": "markdown",
   "metadata": {},
   "source": [
    "### Get the IGRINS epoch times."
   ]
  },
  {
   "cell_type": "code",
   "execution_count": 1,
   "metadata": {},
   "outputs": [],
   "source": [
    "import glob"
   ]
  },
  {
   "cell_type": "code",
   "execution_count": 2,
   "metadata": {},
   "outputs": [],
   "source": [
    "from astropy.io import fits"
   ]
  },
  {
   "cell_type": "code",
   "execution_count": 3,
   "metadata": {},
   "outputs": [],
   "source": [
    "reduced_fns = glob.glob('../../data/IGRINS/originals/GS-2021A-DD-104/*/reduced/SDCH*spec_a0v.fits')"
   ]
  },
  {
   "cell_type": "code",
   "execution_count": 4,
   "metadata": {},
   "outputs": [],
   "source": [
    "raw_fns = glob.glob('../../data/IGRINS/originals/GS-2021A-DD-104/*/SDCH*.fits')"
   ]
  },
  {
   "cell_type": "code",
   "execution_count": 5,
   "metadata": {},
   "outputs": [
    {
     "data": {
      "text/plain": [
       "8"
      ]
     },
     "execution_count": 5,
     "metadata": {},
     "output_type": "execute_result"
    }
   ],
   "source": [
    "len(reduced_fns)"
   ]
  },
  {
   "cell_type": "code",
   "execution_count": 6,
   "metadata": {},
   "outputs": [
    {
     "data": {
      "text/plain": [
       "28"
      ]
     },
     "execution_count": 6,
     "metadata": {},
     "output_type": "execute_result"
    }
   ],
   "source": [
    "len(raw_fns)"
   ]
  },
  {
   "cell_type": "code",
   "execution_count": 7,
   "metadata": {},
   "outputs": [],
   "source": [
    "hdu = fits.open(raw_fns[23])[0]\n",
    "hdr = hdu.header"
   ]
  },
  {
   "cell_type": "code",
   "execution_count": 8,
   "metadata": {},
   "outputs": [],
   "source": [
    "keep_keys = ['OBJECT', 'EXPTIME', 'FRMTYPE', 'OBJTYPE', 'JD-OBS']"
   ]
  },
  {
   "cell_type": "code",
   "execution_count": 9,
   "metadata": {},
   "outputs": [],
   "source": [
    "import pandas as pd"
   ]
  },
  {
   "cell_type": "code",
   "execution_count": 10,
   "metadata": {},
   "outputs": [],
   "source": [
    "df_raw = pd.DataFrame()\n",
    "\n",
    "for i, fn in enumerate(raw_fns):\n",
    "    try:\n",
    "        hdu = fits.open(fn)[0]\n",
    "        hdr = hdu.header\n",
    "        out_dict = {key:hdr[key] for key in keep_keys}\n",
    "        out_dict['night_dir'] = fn[44:44+8]\n",
    "        df = pd.DataFrame(out_dict, index=[i])\n",
    "        df_raw = df_raw.append(df)\n",
    "    except:\n",
    "        print(f\"{fn} had a problem\")"
   ]
  },
  {
   "cell_type": "code",
   "execution_count": 11,
   "metadata": {},
   "outputs": [],
   "source": [
    "df_log = df_raw.sort_values('JD-OBS').reset_index(drop=True)"
   ]
  },
  {
   "cell_type": "markdown",
   "metadata": {},
   "source": [
    "Make a quick summary of how many spectra were acquired on each night:"
   ]
  },
  {
   "cell_type": "code",
   "execution_count": 12,
   "metadata": {},
   "outputs": [],
   "source": [
    "from astropy.time import Time"
   ]
  },
  {
   "cell_type": "code",
   "execution_count": 13,
   "metadata": {},
   "outputs": [],
   "source": [
    "df_log['BTJD'] = df_log['JD-OBS']- 2457000.0"
   ]
  },
  {
   "cell_type": "code",
   "execution_count": 14,
   "metadata": {},
   "outputs": [
    {
     "data": {
      "text/html": [
       "<div>\n",
       "<style scoped>\n",
       "    .dataframe tbody tr th:only-of-type {\n",
       "        vertical-align: middle;\n",
       "    }\n",
       "\n",
       "    .dataframe tbody tr th {\n",
       "        vertical-align: top;\n",
       "    }\n",
       "\n",
       "    .dataframe thead th {\n",
       "        text-align: right;\n",
       "    }\n",
       "</style>\n",
       "<table border=\"1\" class=\"dataframe\">\n",
       "  <thead>\n",
       "    <tr style=\"text-align: right;\">\n",
       "      <th></th>\n",
       "      <th></th>\n",
       "      <th></th>\n",
       "      <th>BTJD</th>\n",
       "    </tr>\n",
       "    <tr>\n",
       "      <th>night_dir</th>\n",
       "      <th>OBJECT</th>\n",
       "      <th>EXPTIME</th>\n",
       "      <th></th>\n",
       "    </tr>\n",
       "  </thead>\n",
       "  <tbody>\n",
       "    <tr>\n",
       "      <th rowspan=\"2\" valign=\"top\">20210311</th>\n",
       "      <th>Luhman 16A</th>\n",
       "      <th>150.0</th>\n",
       "      <td>2285.6525</td>\n",
       "    </tr>\n",
       "    <tr>\n",
       "      <th>Luhman 16B</th>\n",
       "      <th>150.0</th>\n",
       "      <td>2285.6410</td>\n",
       "    </tr>\n",
       "    <tr>\n",
       "      <th rowspan=\"2\" valign=\"top\">20210312</th>\n",
       "      <th>Luhman 16A</th>\n",
       "      <th>150.0</th>\n",
       "      <td>2286.7599</td>\n",
       "    </tr>\n",
       "    <tr>\n",
       "      <th>Luhman 16B</th>\n",
       "      <th>150.0</th>\n",
       "      <td>2286.7497</td>\n",
       "    </tr>\n",
       "    <tr>\n",
       "      <th rowspan=\"2\" valign=\"top\">20210313</th>\n",
       "      <th>Luhman 16A</th>\n",
       "      <th>150.0</th>\n",
       "      <td>2287.6744</td>\n",
       "    </tr>\n",
       "    <tr>\n",
       "      <th>Luhman 16B</th>\n",
       "      <th>150.0</th>\n",
       "      <td>2287.6566</td>\n",
       "    </tr>\n",
       "    <tr>\n",
       "      <th rowspan=\"2\" valign=\"top\">20210317</th>\n",
       "      <th>Luhman 16A</th>\n",
       "      <th>150.0</th>\n",
       "      <td>2291.8097</td>\n",
       "    </tr>\n",
       "    <tr>\n",
       "      <th>Luhman 16B</th>\n",
       "      <th>150.0</th>\n",
       "      <td>2291.8008</td>\n",
       "    </tr>\n",
       "  </tbody>\n",
       "</table>\n",
       "</div>"
      ],
      "text/plain": [
       "                                   BTJD\n",
       "night_dir OBJECT     EXPTIME           \n",
       "20210311  Luhman 16A 150.0    2285.6525\n",
       "          Luhman 16B 150.0    2285.6410\n",
       "20210312  Luhman 16A 150.0    2286.7599\n",
       "          Luhman 16B 150.0    2286.7497\n",
       "20210313  Luhman 16A 150.0    2287.6744\n",
       "          Luhman 16B 150.0    2287.6566\n",
       "20210317  Luhman 16A 150.0    2291.8097\n",
       "          Luhman 16B 150.0    2291.8008"
      ]
     },
     "execution_count": 14,
     "metadata": {},
     "output_type": "execute_result"
    }
   ],
   "source": [
    "df_out = df_log.groupby(['night_dir', 'OBJECT', 'EXPTIME']).BTJD.mean().round(decimals=4).to_frame()\n",
    "df_out"
   ]
  },
  {
   "cell_type": "markdown",
   "metadata": {},
   "source": [
    "Neat! Let's save these so we can read them in later."
   ]
  },
  {
   "cell_type": "code",
   "execution_count": 15,
   "metadata": {},
   "outputs": [],
   "source": [
    "df_out.to_csv('../../data/IGRINS/2021A_metadata_log.csv')"
   ]
  },
  {
   "cell_type": "code",
   "execution_count": 16,
   "metadata": {},
   "outputs": [
    {
     "name": "stdout",
     "output_type": "stream",
     "text": [
      "night_dir,OBJECT,EXPTIME,BTJD\r\n",
      "20210311,Luhman 16A,150.0,2285.6525\r\n",
      "20210311,Luhman 16B,150.0,2285.641\r\n",
      "20210312,Luhman 16A,150.0,2286.7599\r\n",
      "20210312,Luhman 16B,150.0,2286.7497\r\n",
      "20210313,Luhman 16A,150.0,2287.6744\r\n",
      "20210313,Luhman 16B,150.0,2287.6566\r\n",
      "20210317,Luhman 16A,150.0,2291.8097\r\n",
      "20210317,Luhman 16B,150.0,2291.8008\r\n"
     ]
    }
   ],
   "source": [
    "! head ../../data/IGRINS/2021A_metadata_log.csv"
   ]
  },
  {
   "cell_type": "markdown",
   "metadata": {},
   "source": [
    "Great!  Now we can take those dates and overlay them on TESS lightcurves."
   ]
  }
 ],
 "metadata": {
  "kernelspec": {
   "display_name": "Python 3",
   "language": "python",
   "name": "python3"
  },
  "language_info": {
   "codemirror_mode": {
    "name": "ipython",
    "version": 3
   },
   "file_extension": ".py",
   "mimetype": "text/x-python",
   "name": "python",
   "nbconvert_exporter": "python",
   "pygments_lexer": "ipython3",
   "version": "3.7.10"
  }
 },
 "nbformat": 4,
 "nbformat_minor": 4
}
