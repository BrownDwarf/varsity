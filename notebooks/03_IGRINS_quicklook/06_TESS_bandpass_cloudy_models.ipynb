{
 "cells": [
  {
   "cell_type": "markdown",
   "id": "parliamentary-scenario",
   "metadata": {},
   "source": [
    "# TESS bandpass and cloudy and cloud-free model atmosphere spectra\n",
    "\n",
    "In this notebook we compare cloudy and cloud-free models to the TESS bandpass to make a figure for the TESS Science Conference and the paper.\n",
    "\n",
    "The next step after that will be to integrate the cloudy and clear models to produce synthetic photometry scaling relations that could hypothetically inform the filling factor of clouds."
   ]
  },
  {
   "cell_type": "code",
   "execution_count": null,
   "id": "going-density",
   "metadata": {},
   "outputs": [],
   "source": [
    "import pandas as pd\n",
    "import matplotlib.pyplot as plt\n",
    "import glob\n",
    "import astropy.units as u\n",
    "import numpy as np\n",
    "import specutils\n",
    "from specutils import Spectrum1D\n",
    "%config InlineBackend.figure_format = 'retina'"
   ]
  },
  {
   "cell_type": "code",
   "execution_count": null,
   "id": "capable-optimization",
   "metadata": {},
   "outputs": [],
   "source": [
    "plt.rcParams['figure.facecolor'] = 'white'"
   ]
  },
  {
   "cell_type": "markdown",
   "id": "annual-spring",
   "metadata": {},
   "source": [
    "### Read in the TESS bandpass"
   ]
  },
  {
   "cell_type": "code",
   "execution_count": null,
   "id": "rational-roman",
   "metadata": {},
   "outputs": [],
   "source": [
    "#! wget https://heasarc.gsfc.nasa.gov/docs/tess/data/tess-response-function-v2.0.csv\n",
    "#! mv tess-response-function-v2.0.csv ../../data/TESS/\n",
    "#! head ../../data/TESS/tess-response-function-v2.0.csv"
   ]
  },
  {
   "cell_type": "code",
   "execution_count": null,
   "id": "spread-rover",
   "metadata": {},
   "outputs": [],
   "source": [
    "df_TESS = pd.read_csv('../../data/TESS/tess-response-function-v2.0.csv', \n",
    "                      skiprows=7, names=['wl_nm', 'transmission'])\n",
    "df_TESS.plot('wl_nm', 'transmission');"
   ]
  },
  {
   "cell_type": "code",
   "execution_count": null,
   "id": "residential-parent",
   "metadata": {},
   "outputs": [],
   "source": [
    "tess_bandpass = Spectrum1D(spectral_axis=(df_TESS.wl_nm.values*u.nm).to(u.micron), \n",
    "                           flux=df_TESS.transmission.values*u.dimensionless_unscaled)"
   ]
  },
  {
   "cell_type": "markdown",
   "id": "compatible-judgment",
   "metadata": {},
   "source": [
    "### Read in the models, convert to common units\n",
    "\n",
    "The models use different units for flux.  We will convert them."
   ]
  },
  {
   "cell_type": "code",
   "execution_count": null,
   "id": "electronic-incentive",
   "metadata": {},
   "outputs": [],
   "source": [
    "fn ='/home/gully/libraries/raw/morley_clouds_20210322/ldwarf_specs/t1300g178f2_m0.0_co1.0.spec'\n",
    "df_cloudy = pd.read_csv(fn, skiprows=[0,1], delim_whitespace=True, names=['wl_um','flux']\n",
    "                      ).sort_values('wl_um').reset_index(drop=True)"
   ]
  },
  {
   "cell_type": "code",
   "execution_count": null,
   "id": "opposed-stability",
   "metadata": {},
   "outputs": [],
   "source": [
    "df_cloud_free = pd.read_csv('/home/gully/libraries/raw/marley/sp_t1300g178nc_m0.0', \n",
    "                    skiprows=[0,1], delim_whitespace=True, names=['wl_um','flux']\n",
    "                   ).sort_values('wl_um').reset_index(drop=True)"
   ]
  },
  {
   "cell_type": "code",
   "execution_count": null,
   "id": "common-alaska",
   "metadata": {},
   "outputs": [],
   "source": [
    "marley_unit = u.erg/u.cm**2/u.s/u.Hz\n",
    "morley_unit = u.Watt/u.m**2/u.m"
   ]
  },
  {
   "cell_type": "code",
   "execution_count": null,
   "id": "intended-coffee",
   "metadata": {},
   "outputs": [],
   "source": [
    "morley_flux_w_units = (df_cloudy.flux.values*morley_unit)\n",
    "morley_wavelength = df_cloudy.wl_um.values*u.micron\n",
    "\n",
    "morley_cgs = morley_flux_w_units.to(marley_unit, equivalencies=u.spectral_density(morley_wavelength))"
   ]
  },
  {
   "cell_type": "code",
   "execution_count": null,
   "id": "random-newsletter",
   "metadata": {},
   "outputs": [],
   "source": [
    "cloudy_native = Spectrum1D(spectral_axis=df_cloudy.wl_um.values*u.micron, flux=morley_cgs)"
   ]
  },
  {
   "cell_type": "code",
   "execution_count": null,
   "id": "southern-sharp",
   "metadata": {},
   "outputs": [],
   "source": [
    "cloud_free_native = Spectrum1D(spectral_axis=df_cloud_free.wl_um.values*u.micron, \n",
    "                               flux=df_cloud_free.flux.values*marley_unit)"
   ]
  },
  {
   "cell_type": "markdown",
   "id": "cleared-soccer",
   "metadata": {},
   "source": [
    "### Resample the spectra to the TESS bandpass"
   ]
  },
  {
   "cell_type": "code",
   "execution_count": null,
   "id": "shared-seafood",
   "metadata": {},
   "outputs": [],
   "source": [
    "from specutils.manipulation import FluxConservingResampler, LinearInterpolatedResampler"
   ]
  },
  {
   "cell_type": "code",
   "execution_count": null,
   "id": "accepted-annual",
   "metadata": {},
   "outputs": [],
   "source": [
    "resampler = FluxConservingResampler(extrapolation_treatment='nan_fill')"
   ]
  },
  {
   "cell_type": "code",
   "execution_count": null,
   "id": "accepting-channel",
   "metadata": {},
   "outputs": [],
   "source": [
    "%%capture\n",
    "cloud_free = resampler(cloud_free_native, tess_bandpass.spectral_axis)\n",
    "cloudy = resampler(cloudy_native, tess_bandpass.spectral_axis)"
   ]
  },
  {
   "cell_type": "markdown",
   "id": "classical-earthquake",
   "metadata": {},
   "source": [
    "### Only keep the non-zero bandpass"
   ]
  },
  {
   "cell_type": "code",
   "execution_count": null,
   "id": "southwest-series",
   "metadata": {},
   "outputs": [],
   "source": [
    "plt.plot(tess_bandpass.wavelength, tess_bandpass.flux)\n",
    "plt.yscale('log')"
   ]
  },
  {
   "cell_type": "code",
   "execution_count": null,
   "id": "strange-kennedy",
   "metadata": {},
   "outputs": [],
   "source": [
    "mask = tess_bandpass.flux.value > 0"
   ]
  },
  {
   "cell_type": "code",
   "execution_count": null,
   "id": "small-willow",
   "metadata": {},
   "outputs": [],
   "source": [
    "min_wl = tess_bandpass.wavelength[mask].value.min()*tess_bandpass.wavelength.unit\n",
    "max_wl = tess_bandpass.wavelength[mask].value.max()*tess_bandpass.wavelength.unit"
   ]
  },
  {
   "cell_type": "code",
   "execution_count": null,
   "id": "breeding-amber",
   "metadata": {},
   "outputs": [],
   "source": [
    "tess_bandpass = tess_bandpass[min_wl:max_wl]\n",
    "cloudy = cloudy[min_wl:max_wl]\n",
    "cloud_free = cloud_free[min_wl:max_wl]"
   ]
  },
  {
   "cell_type": "markdown",
   "id": "annual-police",
   "metadata": {},
   "source": [
    "Ok, our resampled spectrum should resemble the other."
   ]
  },
  {
   "cell_type": "code",
   "execution_count": null,
   "id": "4bfb5cb5",
   "metadata": {},
   "outputs": [],
   "source": [
    "import seaborn as sns"
   ]
  },
  {
   "cell_type": "code",
   "execution_count": null,
   "id": "fb2aeb88",
   "metadata": {},
   "outputs": [],
   "source": [
    "sns.set_context('talk')"
   ]
  },
  {
   "cell_type": "code",
   "execution_count": null,
   "id": "f02585bf",
   "metadata": {},
   "outputs": [],
   "source": [
    "marley_unit.to_string('latex')"
   ]
  },
  {
   "cell_type": "code",
   "execution_count": null,
   "id": "ethical-representative",
   "metadata": {},
   "outputs": [],
   "source": [
    "plt.figure(figsize=(8,5))\n",
    "plt.plot(cloudy.wavelength, cloudy.flux, label='Cloudy');\n",
    "plt.plot(cloud_free.wavelength, cloud_free.flux, label='Cloud-free');\n",
    "plt.fill_between(tess_bandpass.wavelength, \n",
    "                 tess_bandpass.flux*np.median(cloudy.flux.value)*50, \n",
    "                 label='TESS Bandpass', color='#bdc3c7', alpha=0.5)\n",
    "#plt.axvline(8340, linestyle='dashed', color='k', alpha=0.3)\n",
    "#plt.axvline(10100, linestyle='dashed', color='k', alpha=0.3)\n",
    "plt.legend(loc='best');\n",
    "plt.xlabel('$\\lambda (\\AA)$')\n",
    "plt.ylabel(r'$f_\\nu$ ('+marley_unit.to_string('latex')+')');\n",
    "plt.savefig('../../figures/TESS_bandpass_sonora_cloudy.png', dpi=300, bbox_inches='tight')"
   ]
  },
  {
   "cell_type": "markdown",
   "id": "6a36946f",
   "metadata": {},
   "source": [
    "### Weight by the TESS bandpass"
   ]
  },
  {
   "cell_type": "code",
   "execution_count": null,
   "id": "601f5a45",
   "metadata": {},
   "outputs": [],
   "source": [
    "scalar = cloudy.flux.mean()"
   ]
  },
  {
   "cell_type": "code",
   "execution_count": null,
   "id": "5c4060f6",
   "metadata": {},
   "outputs": [],
   "source": [
    "cloudy_weighted = cloudy * tess_bandpass / scalar\n",
    "cloud_free_weighted = cloud_free * tess_bandpass / scalar"
   ]
  },
  {
   "cell_type": "code",
   "execution_count": null,
   "id": "vertical-suicide",
   "metadata": {},
   "outputs": [],
   "source": [
    "plt.figure(figsize=(8,5))\n",
    "plt.plot(cloudy_weighted.wavelength, cloudy_weighted.flux, label='Cloudy');\n",
    "plt.plot(cloud_free_weighted.wavelength, cloud_free_weighted.flux, label='Cloud-free');\n",
    "plt.fill_between(tess_bandpass.wavelength, \n",
    "                 tess_bandpass.flux*2, \n",
    "                 label='TESS Bandpass', color='#bdc3c7', alpha=0.3)\n",
    "plt.legend(loc='best');\n",
    "plt.xlabel('$\\lambda (\\AA)$')\n",
    "plt.ylabel('Bandpass weighted flux');"
   ]
  },
  {
   "cell_type": "code",
   "execution_count": null,
   "id": "disabled-sperm",
   "metadata": {},
   "outputs": [],
   "source": [
    "plt.step(cloudy_weighted.wavelength, \n",
    "         cloudy_weighted.flux.value.cumsum()/cloudy_weighted.flux.value.sum(), \n",
    "         label='Cloudy');\n",
    "plt.axhline(0.10, color='r')\n",
    "plt.axhline(0.90, color='r')"
   ]
  },
  {
   "cell_type": "code",
   "execution_count": null,
   "id": "936fd054",
   "metadata": {},
   "outputs": [],
   "source": [
    "vec = cloudy_weighted.flux.value.cumsum()/cloudy_weighted.flux.value.sum()"
   ]
  },
  {
   "cell_type": "code",
   "execution_count": null,
   "id": "cad5828f",
   "metadata": {},
   "outputs": [],
   "source": [
    "cloudy_weighted.wavelength[vec > 0.1]"
   ]
  },
  {
   "cell_type": "code",
   "execution_count": null,
   "id": "7d4d0e3e",
   "metadata": {},
   "outputs": [],
   "source": [
    "cloudy_weighted.wavelength[vec > 0.9]"
   ]
  },
  {
   "cell_type": "code",
   "execution_count": null,
   "id": "failing-chuck",
   "metadata": {},
   "outputs": [],
   "source": [
    "df_nc.wl_um.diff().median()*10_000, df_clouds.wl_um.diff().median()*10_000"
   ]
  },
  {
   "cell_type": "code",
   "execution_count": null,
   "id": "spread-clone",
   "metadata": {},
   "outputs": [],
   "source": []
  },
  {
   "cell_type": "code",
   "execution_count": null,
   "id": "spiritual-residence",
   "metadata": {},
   "outputs": [],
   "source": [
    "plt.step(df_clouds.wl_um, df_clouds.flux_cgs, label='Cloudy')\n",
    "plt.step(df_nc.wl_um, df_nc.flux_cgs, label='Cloud-free')\n",
    "plt.title(r'$T_{\\mathrm{eff}}$ = 1000 K, $g=178$ m/s$^2$')\n",
    "plt.yscale('log')\n",
    "plt.xscale('linear')\n",
    "plt.legend(loc='best');"
   ]
  },
  {
   "cell_type": "markdown",
   "id": "integrated-howard",
   "metadata": {},
   "source": [
    "Awesome!  That looks right!  On average, the clouds are brighter than the cloud-free atmosphere, for the same sized patch."
   ]
  },
  {
   "cell_type": "markdown",
   "id": "extra-greenhouse",
   "metadata": {},
   "source": [
    "Let's overplot for just the range of the above IGRINS order."
   ]
  },
  {
   "cell_type": "code",
   "execution_count": null,
   "id": "limited-enforcement",
   "metadata": {},
   "outputs": [],
   "source": [
    "plt.step(df.wl, df.data, label='IGRINS $m=110$')\n",
    "plt.step(df.wl, df.model_composite, label='Sonora cloud-free \\n$T=1350$ K, $\\log{g}=4.5$, $v\\sin{i}=\\;30\\;$km/s')\n",
    "plt.legend();\n",
    "plt.xlabel('$\\lambda \\; (\\AA)$')\n",
    "plt.ylabel('$\\propto$ Flux')\n",
    "plt.ylim(0)\n",
    "plt.title('Luhman 16 quicklook')\n",
    "plt.savefig('../../figures/Luhman16_quicklook.png', dpi=300, bbox_inches='tight')"
   ]
  },
  {
   "cell_type": "code",
   "execution_count": null,
   "id": "entertaining-extreme",
   "metadata": {},
   "outputs": [],
   "source": [
    "from scipy.ndimage import gaussian_filter1d"
   ]
  },
  {
   "cell_type": "code",
   "execution_count": null,
   "id": "electric-independence",
   "metadata": {},
   "outputs": [],
   "source": [
    "gaussian_filter1d(df_nc.flux_cgs, sigma=25)"
   ]
  },
  {
   "cell_type": "code",
   "execution_count": null,
   "id": "fuzzy-consideration",
   "metadata": {},
   "outputs": [],
   "source": [
    "plt.figure(figsize=(15, 6))\n",
    "plt.step(df.wl/10000, df.data*1e-6, label='IGRINS $m=110$', color='k')\n",
    "\n",
    "smoothed_cloudy = gaussian_filter1d(df_clouds.flux_cgs, sigma=2)\n",
    "smoothed_nocloud = gaussian_filter1d(df_nc.flux_cgs, sigma=11)\n",
    "ff = 0.4\n",
    "#net = ff*smoothed_cloudy + (1-ff)*smoothed_nocloud\n",
    "\n",
    "#plt.step(df_nc.wl_um, net, label='Composite ($f=40$)')\n",
    "\n",
    "plt.step(df_nc.wl_um, (1-ff)*smoothed_nocloud, label='Cloud-free')\n",
    "plt.step(df_clouds.wl_um, ff*smoothed_cloudy, label='Cloudy')\n",
    "plt.title(r'$T_{\\mathrm{eff}}$ = 1000 K, $g=178$ m/s$^2$')\n",
    "plt.legend(loc='best');\n",
    "plt.xlim(1.6220, 1.64000)"
   ]
  },
  {
   "cell_type": "code",
   "execution_count": null,
   "id": "injured-practice",
   "metadata": {},
   "outputs": [],
   "source": [
    "from muler.igrins import IGRINSSpectrum"
   ]
  },
  {
   "cell_type": "code",
   "execution_count": null,
   "id": "filled-emerald",
   "metadata": {},
   "outputs": [],
   "source": [
    "reduced_fns = glob.glob('../../data/IGRINS/originals/GS-2021A-DD-104/*/reduced/SDCK*.spec_a0v.fits')"
   ]
  },
  {
   "cell_type": "code",
   "execution_count": null,
   "id": "environmental-traffic",
   "metadata": {},
   "outputs": [],
   "source": [
    "spec1 = IGRINSSpectrum(file=reduced_fns[1], order=10).normalize()"
   ]
  },
  {
   "cell_type": "code",
   "execution_count": null,
   "id": "commercial-permit",
   "metadata": {},
   "outputs": [],
   "source": [
    "spec1"
   ]
  },
  {
   "cell_type": "code",
   "execution_count": null,
   "id": "frozen-beaver",
   "metadata": {},
   "outputs": [],
   "source": [
    "ax = spec1.plot()\n",
    "plt.figure(figsize=(15, 6))\n",
    "#plt.step(df.wl/10000, df.data*1e-6, label='IGRINS $m=110$', color='k')\n",
    "\n",
    "smoothed_cloudy = gaussian_filter1d(df_clouds.flux_cgs, sigma=2)\n",
    "smoothed_nocloud = gaussian_filter1d(df_nc.flux_cgs, sigma=12)\n",
    "ff = 0.4\n",
    "#net = ff*smoothed_cloudy + (1-ff)*smoothed_nocloud\n",
    "\n",
    "#plt.step(df_nc.wl_um, net, label='Composite ($f=40$)')\n",
    "\n",
    "plt.step(df_nc.wl_um, (1-ff)*smoothed_nocloud, label='Cloud-free')\n",
    "plt.step(df_clouds.wl_um, ff*smoothed_cloudy, label='Cloudy')\n",
    "plt.title(r'$T_{\\mathrm{eff}}$ = 1000 K, $g=178$ m/s$^2$')\n",
    "plt.legend(loc='best');\n",
    "plt.xlim(2.240, 2.2600)"
   ]
  },
  {
   "cell_type": "code",
   "execution_count": null,
   "id": "duplicate-projection",
   "metadata": {},
   "outputs": [],
   "source": []
  }
 ],
 "metadata": {
  "kernelspec": {
   "display_name": "Python 3",
   "language": "python",
   "name": "python3"
  },
  "language_info": {
   "codemirror_mode": {
    "name": "ipython",
    "version": 3
   },
   "file_extension": ".py",
   "mimetype": "text/x-python",
   "name": "python",
   "nbconvert_exporter": "python",
   "pygments_lexer": "ipython3",
   "version": "3.8.10"
  }
 },
 "nbformat": 4,
 "nbformat_minor": 5
}
