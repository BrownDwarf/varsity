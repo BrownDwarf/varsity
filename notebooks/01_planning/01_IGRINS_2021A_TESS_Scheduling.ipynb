{
 "cells": [
  {
   "cell_type": "markdown",
   "metadata": {},
   "source": [
    "# Luhman 16 in 2021A?\n",
    "\n",
    "We want to figure out what sort of flux-sampling we can expect with IGRINS over the course of 2 TESS Sectors."
   ]
  },
  {
   "cell_type": "code",
   "execution_count": null,
   "metadata": {},
   "outputs": [],
   "source": [
    "import astroplan\n",
    "\n",
    "import lightkurve as lk\n",
    "import glob\n",
    "from lightkurve.lightcurve import LightCurve\n",
    "\n",
    "from astroquery.mast import Observations\n",
    "\n",
    "# %load /Users/obsidian/Desktop/defaults.py\n",
    "import pandas as pd\n",
    "import numpy as np\n",
    "import matplotlib.pyplot as plt\n",
    "\n",
    "import astropy.units as u\n",
    "\n",
    "from tqdm import tqdm\n",
    "import warnings\n",
    "\n",
    "import sys\n",
    "import os\n",
    "\n",
    "%matplotlib inline\n",
    "%config InlineBackend.figure_format = 'retina'"
   ]
  },
  {
   "cell_type": "markdown",
   "metadata": {},
   "source": [
    "We can use astroquery to download the `PATHOS` lightcurve.  astroquery caches the result so no need to re-downloaded."
   ]
  },
  {
   "cell_type": "code",
   "execution_count": null,
   "metadata": {},
   "outputs": [],
   "source": [
    "redownload=False"
   ]
  },
  {
   "cell_type": "code",
   "execution_count": null,
   "metadata": {},
   "outputs": [],
   "source": [
    "if redownload:\n",
    "    sector_num = '10'\n",
    "    print('Querying for PATHOS Sector ' + sector_num + \" Observations of Luhman 16.\")\n",
    "    obsTable = Observations.query_criteria(provenance_name = \"PATHOS\", objectname='Luhman 16',\n",
    "                                           sequence_number = sector_num)\n",
    "\n",
    "    print(\"Found a total of \" + str(len(obsTable)) + \" PATHOS targets.\")\n",
    "    print('Downloading data products for these observations...')\n",
    "    for obs in obsTable:\n",
    "        data_products = Observations.get_product_list(obs)\n",
    "        Observations.download_products(data_products, '../data/TESS/')"
   ]
  },
  {
   "cell_type": "code",
   "execution_count": null,
   "metadata": {},
   "outputs": [],
   "source": [
    "fns = glob.glob('../data/TESS/**/*.fits', recursive=True)\n",
    "fn = fns[0]"
   ]
  },
  {
   "cell_type": "code",
   "execution_count": null,
   "metadata": {},
   "outputs": [],
   "source": [
    "lc = LightCurve.read(fn, format='pathos')"
   ]
  },
  {
   "cell_type": "markdown",
   "metadata": {},
   "source": [
    "Woohoo!  We have the lightcurve!"
   ]
  },
  {
   "cell_type": "code",
   "execution_count": null,
   "metadata": {},
   "outputs": [],
   "source": [
    "%%capture\n",
    "lc = lc.remove_outliers(sigma=5).normalize()"
   ]
  },
  {
   "cell_type": "code",
   "execution_count": null,
   "metadata": {},
   "outputs": [],
   "source": [
    "missing_data = lc.flux < 0.87\n",
    "too_early = lc.time.value < 1572.5\n",
    "too_early2 = (lc.time.value > 1583.0) & (lc.time.value < 1586)\n",
    "lc = lc[~missing_data & ~too_early & ~too_early2]"
   ]
  },
  {
   "cell_type": "code",
   "execution_count": null,
   "metadata": {},
   "outputs": [],
   "source": [
    "n_epochs = 11\n",
    "epochs = np.random.choice(lc.time.value, size=n_epochs)"
   ]
  },
  {
   "cell_type": "code",
   "execution_count": null,
   "metadata": {},
   "outputs": [],
   "source": [
    "lc.plot(marker='o', linestyle='none')\n",
    "for epoch in epochs:\n",
    "    plt.axvline(epoch, color='r', linestyle='dashed')"
   ]
  },
  {
   "cell_type": "code",
   "execution_count": null,
   "metadata": {},
   "outputs": [],
   "source": [
    "index_mask = np.in1d(lc.time.value, epochs)"
   ]
  },
  {
   "cell_type": "code",
   "execution_count": null,
   "metadata": {},
   "outputs": [],
   "source": [
    "fluxes = lc.flux.value[index_mask]"
   ]
  },
  {
   "cell_type": "code",
   "execution_count": null,
   "metadata": {},
   "outputs": [],
   "source": [
    "plt.hist(lc.flux, bins=np.arange(0.8, 1.1, 0.01));\n",
    "for flux in fluxes:\n",
    "    plt.axvline(flux, color='r', linestyle='dashed')"
   ]
  },
  {
   "cell_type": "markdown",
   "metadata": {},
   "source": [
    "Neat!  But not all times are observable from the ground.  Let's use astroplan to figure out observing windows."
   ]
  },
  {
   "cell_type": "markdown",
   "metadata": {},
   "source": [
    "## Projecting ahead with Astropy"
   ]
  },
  {
   "cell_type": "code",
   "execution_count": null,
   "metadata": {},
   "outputs": [],
   "source": [
    "from astroplan import Observer\n",
    "from astroplan import FixedTarget\n",
    "from astroplan import observability_table\n",
    "from astropy.time import Time"
   ]
  },
  {
   "cell_type": "code",
   "execution_count": null,
   "metadata": {},
   "outputs": [],
   "source": [
    "gemini = Observer.at_site('gemini south')"
   ]
  },
  {
   "cell_type": "code",
   "execution_count": null,
   "metadata": {},
   "outputs": [],
   "source": [
    "target = FixedTarget.from_name('Luhman 16')"
   ]
  },
  {
   "cell_type": "code",
   "execution_count": null,
   "metadata": {},
   "outputs": [],
   "source": [
    "time_start = Time('2021-03-08 00:00:00') #start of Semester\n",
    "time_end = Time('2021-03-18 00:00:00') #end of Semester"
   ]
  },
  {
   "cell_type": "code",
   "execution_count": null,
   "metadata": {},
   "outputs": [],
   "source": [
    "sunset_start = gemini.sun_set_time(time_start, which='nearest')\n",
    "sunrse_start = gemini.sun_rise_time(time_start, which='nearest')\n",
    "sunset_start.iso, sunrse_start.iso"
   ]
  },
  {
   "cell_type": "code",
   "execution_count": null,
   "metadata": {},
   "outputs": [],
   "source": [
    "sunset_end = gemini.sun_set_time(time_end, which='nearest')\n",
    "sunrse_end = gemini.sun_rise_time(time_end, which='nearest')\n",
    "sunset_end.iso"
   ]
  },
  {
   "cell_type": "code",
   "execution_count": null,
   "metadata": {},
   "outputs": [],
   "source": [
    "con1 = astroplan.AtNightConstraint().twilight_astronomical()\n",
    "con2 = astroplan.AirmassConstraint(2.0)\n",
    "at_night_low_airmass = [con1, con2]"
   ]
  },
  {
   "cell_type": "code",
   "execution_count": null,
   "metadata": {},
   "outputs": [],
   "source": [
    "time_range = (sunset_start, sunrse_end)"
   ]
  },
  {
   "cell_type": "code",
   "execution_count": null,
   "metadata": {},
   "outputs": [],
   "source": [
    "from astroplan.utils import time_grid_from_range"
   ]
  },
  {
   "cell_type": "code",
   "execution_count": null,
   "metadata": {},
   "outputs": [],
   "source": [
    "sector_36_times = (sunrse_start + (lc.time -lc.time.min()))\n",
    "#sector_37_times = (sector_37_start + (lc.time -lc.time.min()))"
   ]
  },
  {
   "cell_type": "code",
   "execution_count": null,
   "metadata": {},
   "outputs": [],
   "source": [
    "at_night_low_airmass[0]"
   ]
  },
  {
   "cell_type": "code",
   "execution_count": null,
   "metadata": {},
   "outputs": [],
   "source": [
    "observability_grid1 = con1(gemini, target, times=sector_36_times)\n",
    "observability_grid2 = con2(gemini, target, times=sector_36_times)\n",
    "observability_grid_36 = observability_grid1 & observability_grid2"
   ]
  },
  {
   "cell_type": "code",
   "execution_count": null,
   "metadata": {},
   "outputs": [],
   "source": [
    "lc_future = lc.copy()"
   ]
  },
  {
   "cell_type": "code",
   "execution_count": null,
   "metadata": {},
   "outputs": [],
   "source": [
    "lc_future.time = sector_36_times+0.5"
   ]
  },
  {
   "cell_type": "code",
   "execution_count": null,
   "metadata": {},
   "outputs": [],
   "source": [
    "all_times = np.hstack([lc_future.time.value])\n",
    "observability = np.hstack([observability_grid_36 & (lc_future.time.value < 2291)])\n",
    "all_fluxes = np.hstack([lc_future.flux.value])"
   ]
  },
  {
   "cell_type": "code",
   "execution_count": null,
   "metadata": {},
   "outputs": [],
   "source": [
    "observable_times = all_times[observability]"
   ]
  },
  {
   "cell_type": "code",
   "execution_count": null,
   "metadata": {},
   "outputs": [],
   "source": [
    "n_epochs = 5\n",
    "epochs = np.random.choice(observable_times,\n",
    "                          size=n_epochs)"
   ]
  },
  {
   "cell_type": "code",
   "execution_count": null,
   "metadata": {},
   "outputs": [],
   "source": [
    "ax = lc_future.plot(marker='s', label='Sector 36 (Simulated)')\n",
    "ax.axvline(epochs[0], color='r', linestyle='dashed', label='Randomly scheduled Airmass $>2$ IGRINS visits')\n",
    "\n",
    "for epoch in epochs[1:]:\n",
    "    plt.axvline(epoch, color='r', linestyle='dashed')\n",
    "    \n",
    "plt.axvline(sunset_start.btjd+1, linestyle='solid', color='b', label='March 8')\n",
    "plt.axvline(sunrse_end.btjd, linestyle='dotted', color='g', label='March 21')\n",
    "\n",
    "plt.ylim(0.8, 1.10)\n",
    "plt.xlim(2281, 2293)\n",
    "plt.title('Luhman 16 AB IGRINS visits in 2021A with contemporaneous TESS Monitoring')\n",
    "plt.legend()\n",
    "plt.savefig('../proposal/2021A/DDT/tess_luhman16/figures/Luhman16AB_IGRINS_2021A_TESS_scheduling.pdf', bbox_inches='tight')"
   ]
  },
  {
   "cell_type": "code",
   "execution_count": null,
   "metadata": {},
   "outputs": [],
   "source": [
    "#! xdg-open  ../"
   ]
  },
  {
   "cell_type": "code",
   "execution_count": null,
   "metadata": {},
   "outputs": [],
   "source": [
    "index_mask = np.in1d(all_times, epochs)"
   ]
  },
  {
   "cell_type": "code",
   "execution_count": null,
   "metadata": {},
   "outputs": [],
   "source": [
    "fluxes = all_fluxes[index_mask]"
   ]
  },
  {
   "cell_type": "code",
   "execution_count": null,
   "metadata": {},
   "outputs": [],
   "source": [
    "plt.hist(lc.flux, bins=np.arange(0.85, 1.1, 0.01));\n",
    "#plt.hist(lc.flux[observability], bins=np.arange(0.85, 1.1, 0.01));\n",
    "\n",
    "for flux in fluxes:\n",
    "    plt.axvline(flux, color='r', linestyle='dashed')\n",
    "plt.xlabel('Flux')\n",
    "plt.title('Simulated Luhman 16 AB flux sampling in 2021A')\n",
    "plt.savefig('../proposal/2021A/DDT/tess_luhman16/figures/Luhman16AB_IGRINS_2021A_TESS_flux_sampling.pdf', dpi=300, bbox_inches='tight')"
   ]
  },
  {
   "cell_type": "code",
   "execution_count": null,
   "metadata": {},
   "outputs": [],
   "source": [
    "plt.rcParams.update({\n",
    "    \"figure.facecolor\":  (1.0, 1.0, 1.0, 1.0),  # red   with alpha = 30%\n",
    "    \"axes.facecolor\":    (1.0, 1.0, 1.0, 1.0),  # green with alpha = 50%\n",
    "    \"savefig.facecolor\": (1.0, 1.0, 1.0, 1.0),  # blue  with alpha = 20%\n",
    "})"
   ]
  },
  {
   "cell_type": "markdown",
   "metadata": {},
   "source": [
    "The end!"
   ]
  }
 ],
 "metadata": {
  "kernelspec": {
   "display_name": "Python 3",
   "language": "python",
   "name": "python3"
  },
  "language_info": {
   "codemirror_mode": {
    "name": "ipython",
    "version": 3
   },
   "file_extension": ".py",
   "mimetype": "text/x-python",
   "name": "python",
   "nbconvert_exporter": "python",
   "pygments_lexer": "ipython3",
   "version": "3.6.13"
  }
 },
 "nbformat": 4,
 "nbformat_minor": 4
}
