{
 "cells": [
  {
   "cell_type": "markdown",
   "id": "taken-token",
   "metadata": {},
   "source": [
    "# Finder chart with parallax and proper motion\n",
    "\n",
    "And possibly the depiction of the orbit."
   ]
  },
  {
   "cell_type": "code",
   "execution_count": null,
   "id": "adapted-chorus",
   "metadata": {},
   "outputs": [],
   "source": [
    "from astropy.time import Time\n",
    "import numpy as np\n",
    "import matplotlib.pyplot as plt\n",
    "import astropy.units as u\n",
    "\n",
    "%matplotlib inline\n",
    "%config InlineBackend.figure_format = 'retina'"
   ]
  },
  {
   "cell_type": "code",
   "execution_count": null,
   "id": "civil-press",
   "metadata": {},
   "outputs": [],
   "source": [
    "import exoplanet as xo\n",
    "\n",
    "from astropy import constants\n",
    "\n",
    "# conversion constant from au to R_sun\n",
    "au_to_R_sun = (constants.au / constants.R_sun).value"
   ]
  },
  {
   "cell_type": "markdown",
   "id": "posted-japan",
   "metadata": {},
   "source": [
    "We take orbital parameters for Luhman 16 from Table 5 of [Lazorenko & Sahlmann 2018](https://ui.adsabs.harvard.edu/abs/2018A%26A...618A.111L/abstract):"
   ]
  },
  {
   "cell_type": "markdown",
   "id": "exclusive-hobby",
   "metadata": {},
   "source": [
    "| Param | Value|\n",
    "|-- | -- |\n",
    "|$a$ (mas)\t\t\t| 1784.0|\n",
    "|$a$ (AU)\t\t\t| 3.557|\n",
    "|$e$\t\t\t      | 0.343 |\n",
    "|$P$ (yr)\t\t\t| 27.54|\n",
    "|$T_0$ (yr)\t\t\t| 2017.78|\n",
    "|$i$ (deg)\t\t\t| 100.26|\n",
    "|$\\omega$ (deg)\t\t\t| 128.1|\n",
    "|$\\Omega$ (deg)\t\t\t| 139.67|\n",
    "|$M_{tot}$ ($M_{\\mathrm{Jup} }$)\t| \t\t62.06|\n",
    "|$M_A$ ($M_{\\mathrm{Jup} }$)\t\t| \t33.51|\n",
    "|$M_B$ ($M_{\\mathrm{Jup} }$)\t\t| \t28.55|"
   ]
  },
  {
   "cell_type": "code",
   "execution_count": null,
   "id": "exempt-buying",
   "metadata": {},
   "outputs": [],
   "source": [
    "parallax = 501.557 # mas"
   ]
  },
  {
   "cell_type": "code",
   "execution_count": null,
   "id": "wrong-daily",
   "metadata": {},
   "outputs": [],
   "source": [
    "a = (3.557 * u.AU).to(u.Rsun).value\n",
    "e = 0.343\n",
    "i = 100.26 * np.pi / 180  # [rad]\n",
    "omega = 128.1 * np.pi / 180  # Pourbaix reports omega_2, but we want omega_1\n",
    "Omega = 139.67 * np.pi / 180\n",
    "P = 27.54 * 365.25  # days\n",
    "\n",
    "T0_orig = Time(2017.78, format=\"decimalyear\")\n",
    "T0_orig.format = \"jd\"\n",
    "T0 = T0_orig.value  # [Julian Date]"
   ]
  },
  {
   "cell_type": "code",
   "execution_count": null,
   "id": "acoustic-introduction",
   "metadata": {},
   "outputs": [],
   "source": [
    "# instantiate the orbit\n",
    "orbit = xo.orbits.KeplerianOrbit(\n",
    "    a=a, t_periastron=T0, incl=i, ecc=e, omega=omega, Omega=Omega, \n",
    "    m_planet=0.027, m_star=0.032, m_planet_units=u.Msun, r_star = 0.10045\n",
    ")"
   ]
  },
  {
   "cell_type": "code",
   "execution_count": null,
   "id": "front-torture",
   "metadata": {},
   "outputs": [],
   "source": [
    "import theano\n",
    "import theano.tensor as tt"
   ]
  },
  {
   "cell_type": "code",
   "execution_count": null,
   "id": "advisory-taiwan",
   "metadata": {},
   "outputs": [],
   "source": [
    "t_arr = ( T0_orig - P/2*u.day) + np.linspace(0*u.day, P*u.day, num=200)  # days"
   ]
  },
  {
   "cell_type": "code",
   "execution_count": null,
   "id": "general-movie",
   "metadata": {},
   "outputs": [],
   "source": [
    "t = np.linspace(T0 - P/2, T0 + P/2, num=200)  # days\n",
    "rho, theta = theano.function([], orbit.get_relative_angles(t, parallax))()"
   ]
  },
  {
   "cell_type": "code",
   "execution_count": null,
   "id": "painful-habitat",
   "metadata": {},
   "outputs": [],
   "source": [
    "current_jd = Time.now().jd\n",
    "current_decyear = Time.now().decimalyear"
   ]
  },
  {
   "cell_type": "code",
   "execution_count": null,
   "id": "uniform-universe",
   "metadata": {},
   "outputs": [],
   "source": [
    "rho_now, theta_now = theano.function([], orbit.get_relative_angles(current_jd, parallax))()"
   ]
  },
  {
   "cell_type": "code",
   "execution_count": null,
   "id": "anticipated-concentration",
   "metadata": {},
   "outputs": [],
   "source": [
    "Thst_i = Time(2014.64, format=\"decimalyear\").jd\n",
    "Thst_f = Time(2016.76, format=\"decimalyear\").jd"
   ]
  },
  {
   "cell_type": "code",
   "execution_count": null,
   "id": "under-positive",
   "metadata": {},
   "outputs": [],
   "source": [
    "t_hst = np.linspace(Thst_i,Thst_f, num=200)  # days\n",
    "rho_hst, theta_hst = theano.function([], orbit.get_relative_angles(t_hst, parallax))()"
   ]
  },
  {
   "cell_type": "code",
   "execution_count": null,
   "id": "hawaiian-water",
   "metadata": {},
   "outputs": [],
   "source": [
    "#import seaborn as sns"
   ]
  },
  {
   "cell_type": "code",
   "execution_count": null,
   "id": "sunset-sampling",
   "metadata": {},
   "outputs": [],
   "source": [
    "#sns.set_style('darkgrid')\n",
    "#sns.set_context('talk')"
   ]
  },
  {
   "cell_type": "code",
   "execution_count": null,
   "id": "blind-norway",
   "metadata": {},
   "outputs": [],
   "source": [
    "# Plot the orbit\n",
    "fig, ax = plt.subplots(nrows=1, figsize=(6, 8))\n",
    "\n",
    "xs = rho * np.cos(theta)  # X is north\n",
    "ys = rho * np.sin(theta)  # Y is east\n",
    "plt.scatter([0], [0], marker='*', s=400, c='#2980b9', ec='k')\n",
    "ax.plot(ys, xs, lw=2, color='#e67e22')\n",
    "\n",
    "\n",
    "\n",
    "xnow = rho_now * np.cos(theta_now)  # X is north\n",
    "ynow = rho_now * np.sin(theta_now)  # Y is east\n",
    "\n",
    "xhst = rho_hst * np.cos(theta_hst)  # X is north\n",
    "yhst = rho_hst * np.sin(theta_hst)  # Y is east\n",
    "\n",
    "ax.plot(yhst, xhst, lw=8, color='#34495e', zorder=1)\n",
    "\n",
    "\n",
    "label = '{:0.2f}'.format(current_decyear)\n",
    "plt.scatter([ynow], [xnow], marker='s', s=100, c='#2ecc71', ec='k', \n",
    "            label = label, zorder=10)\n",
    "\n",
    "plt.text(ynow-50, xnow-200, label)\n",
    "\n",
    "plt.ylim(-1500, 2000)\n",
    "plt.xlim(1000, -1500)\n",
    "plt.xlabel(r'$\\Delta \\alpha \\cos \\delta$ (mas)')\n",
    "plt.ylabel(r'$\\Delta \\delta $ (mas)')\n",
    "plt.title('Luhman 16 for IGRINS DDT')\n",
    "plt.savefig('../../figures/Luhman16_orbit_demo.png', bbox_inches='tight', dpi=300)"
   ]
  },
  {
   "cell_type": "markdown",
   "id": "cultural-allergy",
   "metadata": {},
   "source": [
    "What are the separation and PA right now?"
   ]
  },
  {
   "cell_type": "code",
   "execution_count": null,
   "id": "competent-strategy",
   "metadata": {},
   "outputs": [],
   "source": [
    "rho_now"
   ]
  },
  {
   "cell_type": "code",
   "execution_count": null,
   "id": "nominated-resident",
   "metadata": {},
   "outputs": [],
   "source": [
    "theta_now * 180/np.pi"
   ]
  },
  {
   "cell_type": "markdown",
   "id": "forced-championship",
   "metadata": {},
   "source": [
    "## Position on the sky"
   ]
  },
  {
   "cell_type": "code",
   "execution_count": null,
   "id": "amended-latino",
   "metadata": {},
   "outputs": [],
   "source": [
    "Dt_arr = t_arr - t_arr[0]  # days"
   ]
  },
  {
   "cell_type": "code",
   "execution_count": null,
   "id": "continent-protein",
   "metadata": {},
   "outputs": [],
   "source": [
    "Dt_arr.to(u.year)"
   ]
  },
  {
   "cell_type": "code",
   "execution_count": null,
   "id": "careful-samoa",
   "metadata": {},
   "outputs": [],
   "source": [
    "compA_coords = theano.function([], orbit.get_star_position(t, parallax))()\n",
    "compB_coords = theano.function([], orbit.get_planet_position(t, parallax))()"
   ]
  },
  {
   "cell_type": "code",
   "execution_count": null,
   "id": "reduced-brain",
   "metadata": {},
   "outputs": [],
   "source": [
    "xA, yA, zA = compA_coords\n",
    "xB, yB, zB = compB_coords"
   ]
  },
  {
   "cell_type": "code",
   "execution_count": null,
   "id": "variable-stuart",
   "metadata": {},
   "outputs": [],
   "source": [
    "plt.plot(xA, yA)\n",
    "plt.plot(xB, yB)"
   ]
  },
  {
   "cell_type": "markdown",
   "id": "responsible-riding",
   "metadata": {},
   "source": [
    "## Compute the parallax and proper motion\n",
    "\n",
    "Compute the parallax factors indirectly see this astropy Issue:  \n",
    "https://github.com/astropy/astropy/issues/9140"
   ]
  },
  {
   "cell_type": "code",
   "execution_count": null,
   "id": "adult-going",
   "metadata": {},
   "outputs": [],
   "source": [
    "from astropy.coordinates import SkyCoord"
   ]
  },
  {
   "cell_type": "code",
   "execution_count": null,
   "id": "digital-shannon",
   "metadata": {},
   "outputs": [],
   "source": [
    "distance = 1.0/0.50114 * u.pc"
   ]
  },
  {
   "cell_type": "code",
   "execution_count": null,
   "id": "thorough-container",
   "metadata": {},
   "outputs": [],
   "source": [
    "c = SkyCoord(ra=96.9342078*u.degree /np.cos(53.3179180*np.pi/180), \n",
    "             dec=-53.3179180*u.degree, \n",
    "             distance=distance, \n",
    "             pm_ra_cosdec=-2763*u.mas/u.yr,\n",
    "             pm_dec=+358*u.mas/u.yr, \n",
    "             radial_velocity=0.0*u.km/u.s,\n",
    "             frame='icrs',\n",
    "             obstime=T0_orig\n",
    "            )"
   ]
  },
  {
   "cell_type": "code",
   "execution_count": null,
   "id": "identified-trouble",
   "metadata": {},
   "outputs": [],
   "source": [
    "c_infinity = SkyCoord(ra=96.9342078*u.degree/np.cos(53.3179180*np.pi/180), \n",
    "             dec=-53.3179180*u.degree, \n",
    "             distance=1e9*u.pc, \n",
    "             pm_ra_cosdec=0.0*u.mas/u.yr,\n",
    "             pm_dec=0.0*u.mas/u.yr, \n",
    "             radial_velocity=0.0*u.km/u.s,\n",
    "             frame='icrs',\n",
    "             obstime=T0_orig\n",
    "            )"
   ]
  },
  {
   "cell_type": "code",
   "execution_count": null,
   "id": "thorough-latino",
   "metadata": {},
   "outputs": [],
   "source": [
    "#cluh = SkyCoord.from_name('Luhman 16')"
   ]
  },
  {
   "cell_type": "code",
   "execution_count": null,
   "id": "sitting-geology",
   "metadata": {},
   "outputs": [],
   "source": [
    "#now = Time.now()"
   ]
  },
  {
   "cell_type": "code",
   "execution_count": null,
   "id": "moving-opposition",
   "metadata": {},
   "outputs": [],
   "source": [
    "coords = c.apply_space_motion(dt=Dt_arr) \n",
    "coords_gcrs = coords.transform_to('gcrs')"
   ]
  },
  {
   "cell_type": "code",
   "execution_count": null,
   "id": "healthy-acrobat",
   "metadata": {},
   "outputs": [],
   "source": [
    "ra_t   = coords_gcrs.ra\n",
    "dec_t  = coords_gcrs.dec\n",
    "cosd_t = np.cos(dec_t.to('radian'))"
   ]
  },
  {
   "cell_type": "code",
   "execution_count": null,
   "id": "comparable-environment",
   "metadata": {},
   "outputs": [],
   "source": [
    "coord_inf = c_infinity.apply_space_motion(dt=Dt_arr)\n",
    "coord_inf_gcrs = coord_inf.transform_to('gcrs')"
   ]
  },
  {
   "cell_type": "code",
   "execution_count": null,
   "id": "permanent-branch",
   "metadata": {},
   "outputs": [],
   "source": [
    "ra0_t = coord_inf_gcrs.ra\n",
    "dec0_t = coord_inf_gcrs.dec\n",
    "\n",
    "dra = ((ra_t - ra0_t) * cosd_t).to('arcsec')  # in arcsec\n",
    "ddec = (dec_t - dec0_t).to('arcsec')          # in arcsec"
   ]
  },
  {
   "cell_type": "code",
   "execution_count": null,
   "id": "present-maldives",
   "metadata": {},
   "outputs": [],
   "source": [
    "plt.plot(c.ra+dra+xA*u.mas, c.dec+ddec+yA*u.mas)\n",
    "plt.plot(c.ra+dra+xB*u.mas, c.dec+ddec+yB*u.mas)"
   ]
  },
  {
   "cell_type": "markdown",
   "id": "experienced-catalyst",
   "metadata": {},
   "source": [
    "## Overlay on a 2MASS finder chart"
   ]
  },
  {
   "cell_type": "code",
   "execution_count": null,
   "id": "transsexual-henry",
   "metadata": {},
   "outputs": [],
   "source": [
    "from astroplan.plots import plot_finder_image\n",
    "from astroplan import FixedTarget\n",
    "import matplotlib.pyplot as plt"
   ]
  },
  {
   "cell_type": "code",
   "execution_count": null,
   "id": "ahead-filing",
   "metadata": {},
   "outputs": [],
   "source": [
    "targ = FixedTarget.from_name(\"Luhman 16\")\n",
    "\n",
    "from astroquery.skyview import SkyView; \n",
    "\n",
    "#SkyView.list_surveys()"
   ]
  },
  {
   "cell_type": "code",
   "execution_count": null,
   "id": "prostate-retro",
   "metadata": {},
   "outputs": [],
   "source": [
    "c_TESS = SkyCoord(ra=162.303282427*u.degree, \n",
    "             dec=-53.317573814*u.degree, \n",
    "             distance=distance, \n",
    "             pm_ra_cosdec=-2763*u.mas/u.yr,\n",
    "             pm_dec=+358*u.mas/u.yr, \n",
    "             radial_velocity=20.0*u.km/u.s,\n",
    "             frame='icrs',\n",
    "             obstime=Time('2019.26', format='decimalyear')\n",
    "            )"
   ]
  },
  {
   "cell_type": "code",
   "execution_count": null,
   "id": "athletic-clark",
   "metadata": {},
   "outputs": [],
   "source": [
    "from astroquery.vizier import Vizier\n",
    "\n",
    "from astropy.coordinates import Angle\n",
    "\n",
    "Vizier.ROW_LIMIT = -1\n",
    "result = Vizier.query_region(\n",
    "    targ.coord,\n",
    "    catalog=[\"I/345/gaia2\"],\n",
    "    radius=Angle(600, \"arcsec\"),\n",
    ")\n",
    "\n",
    "result = result[\"I/345/gaia2\"].to_pandas()\n",
    "result = result[result.Gmag < 14]\n",
    "\n",
    "# Apply correction for proper motion\n",
    "year = ((current_jd - 2457206.375) * u.day).to(u.year)\n",
    "pmra = (\n",
    "    ((np.nan_to_num(np.asarray(result.pmRA)) * u.milliarcsecond / u.year) * year)\n",
    "    .to(u.deg)\n",
    "    .value\n",
    ")\n",
    "pmdec = (\n",
    "    ((np.nan_to_num(np.asarray(result.pmDE)) * u.milliarcsecond / u.year) * year)\n",
    "    .to(u.deg)\n",
    "    .value\n",
    ")\n",
    "result.RA_ICRS += pmra\n",
    "result.DE_ICRS += pmdec\n",
    "\n",
    "# Gently size the points by their Gaia magnitude\n",
    "result['sizes'] = 64.0 / 2 ** (result[\"Gmag\"] / 5.0)"
   ]
  },
  {
   "cell_type": "code",
   "execution_count": null,
   "id": "adolescent-diamond",
   "metadata": {},
   "outputs": [],
   "source": [
    "! ls ../data/HST"
   ]
  },
  {
   "cell_type": "code",
   "execution_count": null,
   "id": "ceramic-elder",
   "metadata": {},
   "outputs": [],
   "source": [
    "from astropy.io import fits"
   ]
  },
  {
   "cell_type": "code",
   "execution_count": null,
   "id": "curious-welcome",
   "metadata": {},
   "outputs": [],
   "source": [
    "from astropy.wcs import WCS"
   ]
  },
  {
   "cell_type": "code",
   "execution_count": null,
   "id": "initial-shakespeare",
   "metadata": {},
   "outputs": [],
   "source": [
    "plt.figure(figsize=(10,10))\n",
    "ax, hdu = plot_finder_image(targ, survey='2MASS-H', log=True, reticle=True, grid=True, fov_radius=5*u.arcmin)\n",
    "\n",
    "cos_dec = np.cos(c.dec.to(u.radian))\n",
    "net_ra = c.ra+dra+xA*u.mas\n",
    "net_raB = c.ra+dra+xB*u.mas\n",
    "\n",
    "#ax.scatter(net_ra, c.dec+ddec+yA*u.mas, transform=ax.get_transform('icrs'), s=1)\n",
    "#ax.scatter(net_raB, c.dec+ddec+yB*u.mas, transform=ax.get_transform('icrs'), s=1)\n",
    "ax.scatter(c_TESS.ra, c_TESS.dec, transform=ax.get_transform('icrs'), s=500, marker='*')\n",
    "\n",
    "ax.scatter(result.RA_ICRS.values, result.DE_ICRS.values, s=result.sizes.values*8, transform=ax.get_transform('icrs'), \n",
    "           alpha=0.6, fc='none', ec='r')\n",
    "\n",
    "ax.set_xlim(50, 250)\n",
    "ax.set_ylim(50,250)"
   ]
  },
  {
   "cell_type": "markdown",
   "id": "curious-webster",
   "metadata": {},
   "source": [
    "Too zoomed out.  Let's try the HST data!"
   ]
  },
  {
   "cell_type": "code",
   "execution_count": null,
   "id": "adaptive-rochester",
   "metadata": {},
   "outputs": [],
   "source": [
    "from astropy.nddata import Cutout2D"
   ]
  },
  {
   "cell_type": "markdown",
   "id": "fancy-montreal",
   "metadata": {},
   "source": [
    "The HST data fails because the header is malformed!  Womp womp."
   ]
  },
  {
   "cell_type": "markdown",
   "id": "interracial-kernel",
   "metadata": {},
   "source": [
    "```python\n",
    "hdu = fits.open('../data/HST/sumF814W_gaiaWCS.fits/sumF814W_gaiaWCS.fits')[0]\n",
    "wcs = WCS(hdu.header)\n",
    "cutout = Cutout2D(hdu.data, targ.coord, (10,10), wcs=wcs)\n",
    "```"
   ]
  },
  {
   "cell_type": "markdown",
   "id": "under-elements",
   "metadata": {},
   "source": [
    "fail!"
   ]
  },
  {
   "cell_type": "markdown",
   "id": "marked-democrat",
   "metadata": {},
   "source": [
    "Let's try the TESS data, which is coarse but standardized."
   ]
  },
  {
   "cell_type": "code",
   "execution_count": null,
   "id": "authorized-soccer",
   "metadata": {},
   "outputs": [],
   "source": [
    "import lightkurve as lk"
   ]
  },
  {
   "cell_type": "code",
   "execution_count": null,
   "id": "significant-header",
   "metadata": {},
   "outputs": [],
   "source": [
    "sr = lk.search_tesscut('Luhman 16', )"
   ]
  },
  {
   "cell_type": "code",
   "execution_count": null,
   "id": "popular-operator",
   "metadata": {},
   "outputs": [],
   "source": [
    "tpf = sr.download(cutout_size=(21, 41))"
   ]
  },
  {
   "cell_type": "code",
   "execution_count": null,
   "id": "proof-designation",
   "metadata": {},
   "outputs": [],
   "source": [
    "plt.figure(figsize=(10,10))\n",
    "ax = plt.subplot(projection=tpf.wcs, label='overlays')\n",
    "ax.imshow(tpf.flux[300].value, vmin=100, vmax=300, origin='lower')\n",
    "\n",
    "cos_dec = np.cos(c.dec.to(u.radian))\n",
    "net_ra = c.ra+dra+xA*u.mas\n",
    "net_raB = c.ra+dra+xB*u.mas\n",
    "\n",
    "#ax.scatter(net_ra/cos_dec, c.dec+ddec+yA*u.mas, transform=ax.get_transform('icrs'), s=1)\n",
    "#ax.scatter(net_raB/cos_dec, c.dec+ddec+yB*u.mas, transform=ax.get_transform('icrs'), s=1)\n",
    "\n",
    "\n",
    "ax.scatter(result.RA_ICRS.values, result.DE_ICRS.values, s=result.sizes.values*8, transform=ax.get_transform('icrs'), \n",
    "           alpha=0.6, fc='none', ec='r')\n",
    "\n",
    "ax.scatter(c_TESS.ra, c_TESS.dec, s=400, marker='*',transform=ax.get_transform('icrs'), \n",
    "           alpha=1, fc='w', ec='k')\n",
    "\n",
    "ax.set_xlim(0, 40)\n",
    "ax.set_ylim(2, 18)"
   ]
  },
  {
   "cell_type": "code",
   "execution_count": null,
   "id": "southwest-chancellor",
   "metadata": {},
   "outputs": [],
   "source": [
    "tpf.interact()"
   ]
  },
  {
   "cell_type": "code",
   "execution_count": null,
   "id": "failing-principal",
   "metadata": {},
   "outputs": [],
   "source": [
    "lk.__version__"
   ]
  },
  {
   "cell_type": "code",
   "execution_count": null,
   "id": "happy-technical",
   "metadata": {},
   "outputs": [],
   "source": []
  }
 ],
 "metadata": {
  "kernelspec": {
   "display_name": "Python 3",
   "language": "python",
   "name": "python3"
  },
  "language_info": {
   "codemirror_mode": {
    "name": "ipython",
    "version": 3
   },
   "file_extension": ".py",
   "mimetype": "text/x-python",
   "name": "python",
   "nbconvert_exporter": "python",
   "pygments_lexer": "ipython3",
   "version": "3.6.13"
  }
 },
 "nbformat": 4,
 "nbformat_minor": 5
}
