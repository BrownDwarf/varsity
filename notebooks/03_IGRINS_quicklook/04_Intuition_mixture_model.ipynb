{
 "cells": [
  {
   "cell_type": "markdown",
   "id": "macro-avatar",
   "metadata": {},
   "source": [
    "# \"Snap-to\" mixture model with  `bokeh` and `intuition`\n",
    "\n",
    "Let's use the [bokeh](https://bokeh.org/) visualization library to explore the spectra, inspired by `lightkurve`'s `interact()` feature and based on the [intuition](https://github.com/BrownDwarf/intuition) framework."
   ]
  },
  {
   "cell_type": "code",
   "execution_count": null,
   "id": "successful-africa",
   "metadata": {},
   "outputs": [],
   "source": [
    "import numpy as np\n",
    "import pandas as pd\n",
    "import bokeh\n",
    "import glob\n",
    "import astropy.units as u"
   ]
  },
  {
   "cell_type": "markdown",
   "id": "acoustic-simple",
   "metadata": {},
   "source": [
    "## Custom cloudy models from Caroline Morley"
   ]
  },
  {
   "cell_type": "code",
   "execution_count": null,
   "id": "contemporary-egypt",
   "metadata": {},
   "outputs": [],
   "source": [
    "! head ../../models/models_forGully/t1000g100f2_m0.0_co1.0_co_4100_5000_0.005.spec"
   ]
  },
  {
   "cell_type": "code",
   "execution_count": null,
   "id": "pursuant-seller",
   "metadata": {},
   "outputs": [],
   "source": [
    "fns_morley = sorted(glob.glob('../../models/models_forGully/t*.spec'))"
   ]
  },
  {
   "cell_type": "code",
   "execution_count": null,
   "id": "mechanical-irish",
   "metadata": {},
   "outputs": [],
   "source": [
    "len(fns_morley)"
   ]
  },
  {
   "cell_type": "markdown",
   "id": "strategic-denver",
   "metadata": {},
   "source": [
    "Read in the model spectra same as before:"
   ]
  },
  {
   "cell_type": "code",
   "execution_count": null,
   "id": "level-graph",
   "metadata": {},
   "outputs": [],
   "source": [
    "teff_points = np.array([500, 525, 550, 575, 600, 650, 700, 750, 800,\n",
    "            850, 900, 950,  1000, 1100, 1200, 1300, 1400, 1500, 1600, 1700,\n",
    "            1800,1900, 2000, 2100, 2200, 2300, 2400])\n",
    "logg_points = np.arange(4.0, 5.51, 0.25)"
   ]
  },
  {
   "cell_type": "code",
   "execution_count": null,
   "id": "equal-freight",
   "metadata": {},
   "outputs": [],
   "source": [
    "logg_par_dict = {4.0:\"100\",4.25:\"178\",4.5:\"316\",4.75:\"562\",\n",
    "                           5.0:\"1000\",5.25:\"1780\",5.5:\"3160\"}"
   ]
  },
  {
   "cell_type": "code",
   "execution_count": null,
   "id": "valid-identification",
   "metadata": {},
   "outputs": [],
   "source": [
    "def load_and_prep_spectrum(fn, wl_low=2.1, wl_high=2.13, downsample=4, cloudy=False):\n",
    "    df_native = pd.read_csv(fn, \n",
    "                            skiprows=[0, 1], \n",
    "                            delim_whitespace=True, \n",
    "                            names=['wavelength', 'flux_raw']\n",
    "                           ).sort_values('wavelength').reset_index(drop=True)\n",
    "    \n",
    "    ## Standardize flux density units to cgs\n",
    "    if cloudy:\n",
    "        morley_flux_w_units = (df_native.flux_raw.values*u.Watt/u.m**2/u.m)\n",
    "        flux_cgs_units = morley_flux_w_units.to(u.erg/u.cm**2/u.s/u.Hz, \n",
    "                                equivalencies=u.spectral_density(df_native.wavelength.values*u.micron))\n",
    "    else:\n",
    "        flux_cgs_units = df_native['flux_raw'].values\n",
    "    \n",
    "    df_native['flux'] = flux_cgs_units\n",
    "    \n",
    "    ## Trim to the wavelength bounds\n",
    "    nir_mask = (df_native.wavelength > wl_low) & (df_native.wavelength < wl_high)\n",
    "\n",
    "    ## Decimate the data:\n",
    "    df_nir = df_native[['wavelength', 'flux']][nir_mask]\\\n",
    "                                .rolling(int(downsample*2.5), win_type='gaussian')\\\n",
    "                                .mean(std=downsample/2)\\\n",
    "                                .iloc[::downsample, :]\\\n",
    "                                .dropna()\\\n",
    "                                .reset_index(drop=True)\n",
    "    \n",
    "    return df_nir"
   ]
  },
  {
   "cell_type": "markdown",
   "id": "above-recording",
   "metadata": {},
   "source": [
    "### Optional: make a pre-cached grid\n",
    "\n",
    "Pre-caching should make it faster---in principle---to read in from a voluminous model grid."
   ]
  },
  {
   "cell_type": "code",
   "execution_count": null,
   "id": "specific-messenger",
   "metadata": {},
   "outputs": [],
   "source": [
    "import tqdm"
   ]
  },
  {
   "cell_type": "markdown",
   "id": "thirty-politics",
   "metadata": {},
   "source": [
    "Be careful, pre-caching the entire grid can max-out RAM depending on your settings.  It takes 26 seconds on my computer."
   ]
  },
  {
   "cell_type": "code",
   "execution_count": null,
   "id": "adjusted-monday",
   "metadata": {},
   "outputs": [],
   "source": [
    "precache = False"
   ]
  },
  {
   "cell_type": "code",
   "execution_count": null,
   "id": "faced-developer",
   "metadata": {},
   "outputs": [],
   "source": [
    "if precache:\n",
    "    precached_grid = {}\n",
    "    for teff in tqdm.tqdm(teff_points):\n",
    "        for logg in logg_points:\n",
    "            base_name = \"sp_t{0:0>.0f}g{1:}nc_m0.0\".format(np.float(teff), logg_par_dict[logg])\n",
    "            fn = '~/libraries/raw/marley/'+base_name\n",
    "            df_nir = load_and_prep_spectrum(fn, downsample=4)\n",
    "            precached_grid[base_name] = df_nir"
   ]
  },
  {
   "cell_type": "markdown",
   "id": "enormous-arctic",
   "metadata": {},
   "source": [
    "Load a single spectrum:"
   ]
  },
  {
   "cell_type": "code",
   "execution_count": null,
   "id": "efficient-constraint",
   "metadata": {},
   "outputs": [],
   "source": [
    "teff = 1300\n",
    "logg = 4.0\n",
    "base_name = \"sp_t{0:0>.0f}g{1:}nc_m0.0\".format(np.float(teff), logg_par_dict[logg])\n",
    "\n",
    "%%time\n",
    "fn = '~/libraries/raw/marley/'+base_name\n",
    "df_nir = load_and_prep_spectrum(fn, downsample=4)"
   ]
  },
  {
   "cell_type": "code",
   "execution_count": null,
   "id": "civil-extension",
   "metadata": {},
   "outputs": [],
   "source": [
    "%%time\n",
    "fn = fns_morley[38]\n",
    "df_cloud = load_and_prep_spectrum(fn, downsample=4, cloudy=True)"
   ]
  },
  {
   "cell_type": "markdown",
   "id": "deluxe-muslim",
   "metadata": {},
   "source": [
    "We will build heavily off of the [interact](https://github.com/lightkurve/lightkurve/blob/main/src/lightkurve/interact.py) method from the [lightkurve](https://docs.lightkurve.org/) framework."
   ]
  },
  {
   "cell_type": "code",
   "execution_count": null,
   "id": "otherwise-russell",
   "metadata": {},
   "outputs": [],
   "source": [
    "from bokeh.io import show, output_notebook, push_notebook\n",
    "from bokeh.plotting import figure, ColumnDataSource\n",
    "from bokeh.models import (\n",
    "    Slider,\n",
    "    Span,\n",
    "    Range1d,\n",
    "    Dropdown\n",
    ")\n",
    "from bokeh.layouts import layout, Spacer\n",
    "from bokeh.models.widgets import Button, Div\n",
    "\n",
    "from scipy.ndimage import gaussian_filter1d\n",
    "from collections import OrderedDict"
   ]
  },
  {
   "cell_type": "code",
   "execution_count": null,
   "id": "smaller-trash",
   "metadata": {},
   "outputs": [],
   "source": [
    "def find_nearest(array, value):\n",
    "    array = np.asarray(array)\n",
    "    idx = (np.abs(array - value)).argmin()\n",
    "    return array[idx]"
   ]
  },
  {
   "cell_type": "code",
   "execution_count": null,
   "id": "received-scanning",
   "metadata": {},
   "outputs": [],
   "source": [
    "teff_dict = OrderedDict()\n",
    "for i, teff in enumerate(teff_points):\n",
    "    teff_dict[i]=str(teff)"
   ]
  },
  {
   "cell_type": "code",
   "execution_count": null,
   "id": "continuing-pipeline",
   "metadata": {},
   "outputs": [],
   "source": [
    "def create_interact_ui(doc):\n",
    "    \n",
    "    # Make the spectrum source\n",
    "    scalar_norm = np.percentile(df_nir.flux.values, 95)\n",
    "    spec_source = ColumnDataSource(\n",
    "        data=dict(\n",
    "            wavelength=df_nir.wavelength.values,\n",
    "            flux=gaussian_filter1d(df_nir.flux.values/scalar_norm, 0.1),\n",
    "            native_flux = df_nir.flux.values / scalar_norm,\n",
    "            native_wavelength = df_nir.wavelength.values\n",
    "        )\n",
    "    )\n",
    "    \n",
    "    spec_source_cloud = ColumnDataSource(\n",
    "        data=dict(\n",
    "            wavelength=df_cloud.wavelength.values,\n",
    "            flux=gaussian_filter1d(df_cloud.flux.values/scalar_norm, 0.1),\n",
    "            native_flux = df_cloud.flux.values / scalar_norm,\n",
    "            native_wavelength = df_cloud.wavelength.values\n",
    "        )\n",
    "    )\n",
    "    \n",
    "    fig = figure(\n",
    "        title=\"Sonora Bobcat in Bokeh\",\n",
    "        plot_height=340,\n",
    "        plot_width=600,\n",
    "        tools=\"pan,wheel_zoom,box_zoom,tap,reset\",\n",
    "        toolbar_location=\"below\",\n",
    "        border_fill_color=\"whitesmoke\",\n",
    "    )\n",
    "    fig.title.offset = -10\n",
    "    fig.yaxis.axis_label = \"Flux \"\n",
    "    fig.xaxis.axis_label = \"Wavelength (micron)\"\n",
    "    fig.y_range = Range1d(start=0, end=1.5)\n",
    "    xmin, xmax = df_nir.wavelength.min()*0.995, df_nir.wavelength.max()*1.005\n",
    "    fig.x_range = Range1d(start=xmin, end=xmax)\n",
    "\n",
    "    fig.step(\n",
    "            \"wavelength\",\n",
    "            \"flux\",\n",
    "            line_width=1,\n",
    "            color=\"darkmagenta\",\n",
    "            source=spec_source,\n",
    "            nonselection_line_color=\"darkmagenta\",\n",
    "            nonselection_line_alpha=1.0,\n",
    "        )\n",
    "    \n",
    "    fig.step(\n",
    "        \"wavelength\",\n",
    "        \"flux\",\n",
    "        line_width=1,\n",
    "        color=\"slategray\",\n",
    "        source=spec_source_cloud,\n",
    "        nonselection_line_color=\"slategray\",\n",
    "        nonselection_line_alpha=1.0,\n",
    "    )\n",
    "    \n",
    "    # Slider to decimate the data\n",
    "    smoothing_slider = Slider(\n",
    "            start=0.1,\n",
    "            end=40,\n",
    "            value=0.1,\n",
    "            step=0.1,\n",
    "            title=\"Spectral resolution kernel\",\n",
    "            width=490\n",
    "        )\n",
    "    \n",
    "    vz_slider = Slider(\n",
    "            start=-0.009,\n",
    "            end=0.009,\n",
    "            value=0.00,\n",
    "            step=0.0005,\n",
    "            title=\"Radial Velocity\",\n",
    "            width=490,\n",
    "        format='0.000f'\n",
    "        )\n",
    "    \n",
    "\n",
    "    teff_slider = Slider(\n",
    "            start=min(teff_points),\n",
    "            end=max(teff_points),\n",
    "            value=1300,\n",
    "            step=25,\n",
    "            title=\"Teff\",\n",
    "            width=490\n",
    "        )\n",
    "    teff_message = Div(text=\"Closest grid point: {}\".format(teff), width=100, height=10)\n",
    "    logg_slider = Slider(\n",
    "            start=min(logg_points),\n",
    "            end=max(logg_points),\n",
    "            value=4.0,\n",
    "            step=0.25,\n",
    "            title=\"logg\",\n",
    "            width=490\n",
    "        )\n",
    "    r_button = Button(label=\">\", button_type=\"default\", width=30)\n",
    "    l_button = Button(label=\"<\", button_type=\"default\", width=30)\n",
    "    \n",
    "    def update_upon_smooth(attr, old, new):\n",
    "        \"\"\"Callback to take action when smoothing slider changes\"\"\"\n",
    "        #spec_source.data[\"wavelength\"] = df_nir.wavelength.values[::new]\n",
    "        spec_source.data[\"flux\"] = gaussian_filter1d(spec_source.data[\"native_flux\"], new)\n",
    "        \n",
    "    def update_upon_vz(attr, old, new):\n",
    "        \"\"\"Callback to take action when vz slider changes\"\"\"\n",
    "        spec_source.data[\"wavelength\"] = spec_source.data[\"native_wavelength\"] - new\n",
    "        #spec_source.data[\"flux\"] = gaussian_filter1d(df_nir.flux.values, new)\n",
    "        \n",
    "    def update_upon_teff_selection(attr, old, new):\n",
    "        \"\"\"Callback to take action when teff slider changes\"\"\"\n",
    "        teff = find_nearest(teff_points, new)\n",
    "        if teff != old:\n",
    "            teff_message.text = \"Closest grid point: {}\".format(teff)\n",
    "            base_name = \"sp_t{0:0>.0f}g{1:}nc_m0.0\".format(np.float(teff), logg_par_dict[logg])\n",
    "\n",
    "            fn = '~/libraries/raw/marley/'+base_name\n",
    "            if precache:\n",
    "                df_nir = precached_grid[base_name]\n",
    "            else:\n",
    "                df_nir = load_and_prep_spectrum(fn, downsample=4)\n",
    "            scalar_norm = np.percentile(df_nir.flux.values, 95)\n",
    "            spec_source.data[\"native_wavelength\"] = df_nir.wavelength.values\n",
    "            spec_source.data[\"native_flux\"] = df_nir.flux.values / scalar_norm\n",
    "            spec_source.data[\"wavelength\"] = df_nir.wavelength.values - vz_slider.value\n",
    "            spec_source.data[\"flux\"] = gaussian_filter1d(df_nir.flux.values/ scalar_norm, smoothing_slider.value)\n",
    "            \n",
    "        else:\n",
    "            pass\n",
    "        \n",
    "    def update_upon_logg_selection(attr, old, new):\n",
    "        \"\"\"Callback to take action when logg slider changes\"\"\"\n",
    "        teff = find_nearest(teff_points, teff_slider.value)\n",
    "        base_name = \"sp_t{0:0>.0f}g{1:}nc_m0.0\".format(np.float(teff), logg_par_dict[new])\n",
    "\n",
    "        fn = '~/libraries/raw/marley/'+base_name\n",
    "        if precache:\n",
    "            df_nir = precached_grid[base_name]\n",
    "        else:\n",
    "            df_nir = load_and_prep_spectrum(fn, downsample=4)\n",
    "        scalar_norm = np.percentile(df_nir.flux.values, 95)\n",
    "        spec_source.data[\"native_wavelength\"] = df_nir.wavelength.values\n",
    "        spec_source.data[\"native_flux\"] = df_nir.flux.values / scalar_norm\n",
    "        spec_source.data[\"wavelength\"] = df_nir.wavelength.values - vz_slider.value\n",
    "        spec_source.data[\"flux\"] = gaussian_filter1d(df_nir.flux.values/ scalar_norm, smoothing_slider.value)\n",
    "\n",
    "    def go_right_by_one():\n",
    "        \"\"\"Step forward in time by a single cadence\"\"\"\n",
    "        current_index = np.abs(teff_points - teff_slider.value).argmin()\n",
    "        new_index = current_index + 1\n",
    "        if new_index <= (len(teff_points)-1):\n",
    "            teff_slider.value = teff_points[new_index]\n",
    "\n",
    "    def go_left_by_one():\n",
    "        \"\"\"Step back in time by a single cadence\"\"\"\n",
    "        current_index = np.abs(teff_points - teff_slider.value).argmin()\n",
    "        new_index = current_index - 1\n",
    "        if new_index >= 0:\n",
    "            teff_slider.value = teff_points[new_index]\n",
    "        \n",
    "    r_button.on_click(go_right_by_one)\n",
    "    l_button.on_click(go_left_by_one)\n",
    "    smoothing_slider.on_change(\"value\", update_upon_smooth)\n",
    "    vz_slider.on_change(\"value\", update_upon_vz)\n",
    "    teff_slider.on_change(\"value\", update_upon_teff_selection)\n",
    "    logg_slider.on_change(\"value\", update_upon_logg_selection)\n",
    "    \n",
    "    sp1, sp2, sp3, sp4 = (\n",
    "            Spacer(width=5),\n",
    "            Spacer(width=10),\n",
    "            Spacer(width=20),\n",
    "            Spacer(width=100),\n",
    "        )\n",
    "    \n",
    "    widgets_and_figures = layout(\n",
    "            [fig],\n",
    "            [l_button, sp1, r_button, sp2, teff_slider, sp3, teff_message],\n",
    "            [sp4, logg_slider],\n",
    "            [sp4, smoothing_slider],\n",
    "            [sp4, vz_slider]\n",
    "        )\n",
    "    doc.add_root(widgets_and_figures)"
   ]
  },
  {
   "cell_type": "code",
   "execution_count": null,
   "id": "known-screening",
   "metadata": {},
   "outputs": [],
   "source": [
    "output_notebook(verbose=False, hide_banner=True)\n",
    "show(create_interact_ui)"
   ]
  },
  {
   "cell_type": "markdown",
   "id": "temporal-interest",
   "metadata": {},
   "source": [
    "Woohoo, it works!"
   ]
  }
 ],
 "metadata": {
  "kernelspec": {
   "display_name": "Python 3",
   "language": "python",
   "name": "python3"
  },
  "language_info": {
   "codemirror_mode": {
    "name": "ipython",
    "version": 3
   },
   "file_extension": ".py",
   "mimetype": "text/x-python",
   "name": "python",
   "nbconvert_exporter": "python",
   "pygments_lexer": "ipython3",
   "version": "3.6.13"
  }
 },
 "nbformat": 4,
 "nbformat_minor": 5
}
